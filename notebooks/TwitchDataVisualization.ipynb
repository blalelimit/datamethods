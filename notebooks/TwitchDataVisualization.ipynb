{
 "cells": [
  {
   "cell_type": "code",
   "execution_count": 1,
   "metadata": {},
   "outputs": [],
   "source": [
    "import os\n",
    "import sys\n",
    "import re\n",
    "\n",
    "import numpy as np\n",
    "import pandas as pd\n",
    "\n",
    "import matplotlib.pyplot as plt\n",
    "import seaborn as sb\n",
    "import plotly.express as px\n",
    "\n",
    "import warnings\n",
    "warnings.filterwarnings('ignore')\n",
    "\n",
    "from scripts.path import return_path\n",
    "PATH = return_path() + 'twitch_data/'"
   ]
  },
  {
   "cell_type": "code",
   "execution_count": 2,
   "metadata": {},
   "outputs": [
    {
     "name": "stdout",
     "output_type": "stream",
     "text": [
      "(1000, 11)\n"
     ]
    },
    {
     "data": {
      "text/html": [
       "<div>\n",
       "<style scoped>\n",
       "    .dataframe tbody tr th:only-of-type {\n",
       "        vertical-align: middle;\n",
       "    }\n",
       "\n",
       "    .dataframe tbody tr th {\n",
       "        vertical-align: top;\n",
       "    }\n",
       "\n",
       "    .dataframe thead th {\n",
       "        text-align: right;\n",
       "    }\n",
       "</style>\n",
       "<table border=\"1\" class=\"dataframe\">\n",
       "  <thead>\n",
       "    <tr style=\"text-align: right;\">\n",
       "      <th></th>\n",
       "      <th>Channel</th>\n",
       "      <th>Watch time(Minutes)</th>\n",
       "      <th>Stream time(minutes)</th>\n",
       "      <th>Peak viewers</th>\n",
       "      <th>Average viewers</th>\n",
       "      <th>Followers</th>\n",
       "      <th>Followers gained</th>\n",
       "      <th>Views gained</th>\n",
       "      <th>Partnered</th>\n",
       "      <th>Mature</th>\n",
       "      <th>Language</th>\n",
       "    </tr>\n",
       "  </thead>\n",
       "  <tbody>\n",
       "    <tr>\n",
       "      <th>12</th>\n",
       "      <td>Riot Games (riotgames)</td>\n",
       "      <td>2674646715</td>\n",
       "      <td>80820</td>\n",
       "      <td>639375</td>\n",
       "      <td>20960</td>\n",
       "      <td>4487489</td>\n",
       "      <td>497678</td>\n",
       "      <td>56855694</td>\n",
       "      <td>True</td>\n",
       "      <td>False</td>\n",
       "      <td>English</td>\n",
       "    </tr>\n",
       "    <tr>\n",
       "      <th>25</th>\n",
       "      <td>TheGrefg</td>\n",
       "      <td>1757406750</td>\n",
       "      <td>54855</td>\n",
       "      <td>538444</td>\n",
       "      <td>28887</td>\n",
       "      <td>3795667</td>\n",
       "      <td>3593081</td>\n",
       "      <td>47094362</td>\n",
       "      <td>True</td>\n",
       "      <td>False</td>\n",
       "      <td>Spanish</td>\n",
       "    </tr>\n",
       "    <tr>\n",
       "      <th>81</th>\n",
       "      <td>dota2ti</td>\n",
       "      <td>1017577605</td>\n",
       "      <td>6315</td>\n",
       "      <td>483530</td>\n",
       "      <td>147643</td>\n",
       "      <td>663297</td>\n",
       "      <td>121422</td>\n",
       "      <td>16228039</td>\n",
       "      <td>True</td>\n",
       "      <td>False</td>\n",
       "      <td>English</td>\n",
       "    </tr>\n",
       "    <tr>\n",
       "      <th>96</th>\n",
       "      <td>shroud</td>\n",
       "      <td>888505170</td>\n",
       "      <td>30240</td>\n",
       "      <td>471281</td>\n",
       "      <td>29612</td>\n",
       "      <td>7744066</td>\n",
       "      <td>833587</td>\n",
       "      <td>30621257</td>\n",
       "      <td>True</td>\n",
       "      <td>False</td>\n",
       "      <td>English</td>\n",
       "    </tr>\n",
       "    <tr>\n",
       "      <th>109</th>\n",
       "      <td>dota2ti_ru</td>\n",
       "      <td>812538090</td>\n",
       "      <td>6195</td>\n",
       "      <td>457060</td>\n",
       "      <td>126232</td>\n",
       "      <td>541644</td>\n",
       "      <td>108438</td>\n",
       "      <td>12068376</td>\n",
       "      <td>True</td>\n",
       "      <td>False</td>\n",
       "      <td>Russian</td>\n",
       "    </tr>\n",
       "  </tbody>\n",
       "</table>\n",
       "</div>"
      ],
      "text/plain": [
       "                    Channel  Watch time(Minutes)  Stream time(minutes)  \\\n",
       "12   Riot Games (riotgames)           2674646715                 80820   \n",
       "25                 TheGrefg           1757406750                 54855   \n",
       "81                  dota2ti           1017577605                  6315   \n",
       "96                   shroud            888505170                 30240   \n",
       "109              dota2ti_ru            812538090                  6195   \n",
       "\n",
       "     Peak viewers  Average viewers  Followers  Followers gained  Views gained  \\\n",
       "12         639375            20960    4487489            497678      56855694   \n",
       "25         538444            28887    3795667           3593081      47094362   \n",
       "81         483530           147643     663297            121422      16228039   \n",
       "96         471281            29612    7744066            833587      30621257   \n",
       "109        457060           126232     541644            108438      12068376   \n",
       "\n",
       "     Partnered  Mature Language  \n",
       "12        True   False  English  \n",
       "25        True   False  Spanish  \n",
       "81        True   False  English  \n",
       "96        True   False  English  \n",
       "109       True   False  Russian  "
      ]
     },
     "metadata": {},
     "output_type": "display_data"
    }
   ],
   "source": [
    "df = pd.read_csv(os.path.join(PATH, 'twitchdata-update.csv'))\n",
    "df.sort_values(by='Peak viewers', ascending=False, inplace=True)\n",
    "print(df.shape)\n",
    "display(df.head(5))"
   ]
  },
  {
   "cell_type": "code",
   "execution_count": 3,
   "metadata": {},
   "outputs": [
    {
     "data": {
      "image/png": "[encoded data removed]",
      "text/plain": [
       "<Figure size 800x600 with 2 Axes>"
      ]
     },
     "metadata": {},
     "output_type": "display_data"
    }
   ],
   "source": [
    "fig, ax = plt.subplots(figsize=(8, 6), layout='tight', facecolor='white', dpi=100)\n",
    "sb.heatmap(df.corr(method='pearson'), annot=True, cmap='Blues')\n",
    "plt.show()"
   ]
  },
  {
   "cell_type": "code",
   "execution_count": 4,
   "metadata": {},
   "outputs": [
    {
     "data": {
      "text/html": [
       "<div>\n",
       "<style scoped>\n",
       "    .dataframe tbody tr th:only-of-type {\n",
       "        vertical-align: middle;\n",
       "    }\n",
       "\n",
       "    .dataframe tbody tr th {\n",
       "        vertical-align: top;\n",
       "    }\n",
       "\n",
       "    .dataframe thead th {\n",
       "        text-align: right;\n",
       "    }\n",
       "</style>\n",
       "<table border=\"1\" class=\"dataframe\">\n",
       "  <thead>\n",
       "    <tr style=\"text-align: right;\">\n",
       "      <th></th>\n",
       "      <th>Watch time(Minutes)</th>\n",
       "      <th>Stream time(minutes)</th>\n",
       "      <th>Peak viewers</th>\n",
       "      <th>Average viewers</th>\n",
       "      <th>Followers</th>\n",
       "      <th>Followers gained</th>\n",
       "      <th>Views gained</th>\n",
       "    </tr>\n",
       "  </thead>\n",
       "  <tbody>\n",
       "    <tr>\n",
       "      <th>count</th>\n",
       "      <td>1000</td>\n",
       "      <td>1000</td>\n",
       "      <td>1000</td>\n",
       "      <td>1000</td>\n",
       "      <td>1000</td>\n",
       "      <td>1000</td>\n",
       "      <td>1000</td>\n",
       "    </tr>\n",
       "    <tr>\n",
       "      <th>mean</th>\n",
       "      <td>418427930</td>\n",
       "      <td>120515</td>\n",
       "      <td>37065</td>\n",
       "      <td>4781</td>\n",
       "      <td>570054</td>\n",
       "      <td>205518</td>\n",
       "      <td>11668165</td>\n",
       "    </tr>\n",
       "    <tr>\n",
       "      <th>std</th>\n",
       "      <td>549635514</td>\n",
       "      <td>85376</td>\n",
       "      <td>60314</td>\n",
       "      <td>8453</td>\n",
       "      <td>804413</td>\n",
       "      <td>339913</td>\n",
       "      <td>24905722</td>\n",
       "    </tr>\n",
       "    <tr>\n",
       "      <th>min</th>\n",
       "      <td>122192850</td>\n",
       "      <td>3465</td>\n",
       "      <td>496</td>\n",
       "      <td>235</td>\n",
       "      <td>3660</td>\n",
       "      <td>-15772</td>\n",
       "      <td>175788</td>\n",
       "    </tr>\n",
       "    <tr>\n",
       "      <th>25%</th>\n",
       "      <td>163189893</td>\n",
       "      <td>73758</td>\n",
       "      <td>9113</td>\n",
       "      <td>1457</td>\n",
       "      <td>170546</td>\n",
       "      <td>43758</td>\n",
       "      <td>3880602</td>\n",
       "    </tr>\n",
       "    <tr>\n",
       "      <th>50%</th>\n",
       "      <td>234990787</td>\n",
       "      <td>108240</td>\n",
       "      <td>16676</td>\n",
       "      <td>2425</td>\n",
       "      <td>318063</td>\n",
       "      <td>98352</td>\n",
       "      <td>6456323</td>\n",
       "    </tr>\n",
       "    <tr>\n",
       "      <th>75%</th>\n",
       "      <td>433739917</td>\n",
       "      <td>141843</td>\n",
       "      <td>37569</td>\n",
       "      <td>4786</td>\n",
       "      <td>624332</td>\n",
       "      <td>236130</td>\n",
       "      <td>12196762</td>\n",
       "    </tr>\n",
       "    <tr>\n",
       "      <th>max</th>\n",
       "      <td>6196161750</td>\n",
       "      <td>521445</td>\n",
       "      <td>639375</td>\n",
       "      <td>147643</td>\n",
       "      <td>8938903</td>\n",
       "      <td>3966525</td>\n",
       "      <td>670137548</td>\n",
       "    </tr>\n",
       "  </tbody>\n",
       "</table>\n",
       "</div>"
      ],
      "text/plain": [
       "       Watch time(Minutes)  Stream time(minutes)  Peak viewers  \\\n",
       "count                 1000                  1000          1000   \n",
       "mean             418427930                120515         37065   \n",
       "std              549635514                 85376         60314   \n",
       "min              122192850                  3465           496   \n",
       "25%              163189893                 73758          9113   \n",
       "50%              234990787                108240         16676   \n",
       "75%              433739917                141843         37569   \n",
       "max             6196161750                521445        639375   \n",
       "\n",
       "       Average viewers  Followers  Followers gained  Views gained  \n",
       "count             1000       1000              1000          1000  \n",
       "mean              4781     570054            205518      11668165  \n",
       "std               8453     804413            339913      24905722  \n",
       "min                235       3660            -15772        175788  \n",
       "25%               1457     170546             43758       3880602  \n",
       "50%               2425     318063             98352       6456323  \n",
       "75%               4786     624332            236130      12196762  \n",
       "max             147643    8938903           3966525     670137548  "
      ]
     },
     "execution_count": 4,
     "metadata": {},
     "output_type": "execute_result"
    }
   ],
   "source": [
    "df.describe().astype('int64')"
   ]
  },
  {
   "cell_type": "code",
   "execution_count": 5,
   "metadata": {},
   "outputs": [
    {
     "data": {
      "text/html": [
       "<div>\n",
       "<style scoped>\n",
       "    .dataframe tbody tr th:only-of-type {\n",
       "        vertical-align: middle;\n",
       "    }\n",
       "\n",
       "    .dataframe tbody tr th {\n",
       "        vertical-align: top;\n",
       "    }\n",
       "\n",
       "    .dataframe thead th {\n",
       "        text-align: right;\n",
       "    }\n",
       "</style>\n",
       "<table border=\"1\" class=\"dataframe\">\n",
       "  <thead>\n",
       "    <tr style=\"text-align: right;\">\n",
       "      <th></th>\n",
       "      <th>Channel</th>\n",
       "      <th>Watch time(Minutes)</th>\n",
       "      <th>Stream time(minutes)</th>\n",
       "      <th>Peak viewers</th>\n",
       "      <th>Average viewers</th>\n",
       "      <th>Followers</th>\n",
       "      <th>Followers gained</th>\n",
       "      <th>Views gained</th>\n",
       "      <th>Partnered</th>\n",
       "      <th>Mature</th>\n",
       "      <th>Language</th>\n",
       "    </tr>\n",
       "  </thead>\n",
       "  <tbody>\n",
       "    <tr>\n",
       "      <th>0</th>\n",
       "      <td>xQcOW</td>\n",
       "      <td>6196161750</td>\n",
       "      <td>215250</td>\n",
       "      <td>222720</td>\n",
       "      <td>27716</td>\n",
       "      <td>3246298</td>\n",
       "      <td>1734810</td>\n",
       "      <td>93036735</td>\n",
       "      <td>True</td>\n",
       "      <td>False</td>\n",
       "      <td>English</td>\n",
       "    </tr>\n",
       "  </tbody>\n",
       "</table>\n",
       "</div>"
      ],
      "text/plain": [
       "  Channel  Watch time(Minutes)  Stream time(minutes)  Peak viewers  \\\n",
       "0   xQcOW           6196161750                215250        222720   \n",
       "\n",
       "   Average viewers  Followers  Followers gained  Views gained  Partnered  \\\n",
       "0            27716    3246298           1734810      93036735       True   \n",
       "\n",
       "   Mature Language  \n",
       "0   False  English  "
      ]
     },
     "execution_count": 5,
     "metadata": {},
     "output_type": "execute_result"
    }
   ],
   "source": [
    "df.loc[df['Channel'].str.lower().str.contains('xqcow')]"
   ]
  },
  {
   "cell_type": "code",
   "execution_count": 6,
   "metadata": {},
   "outputs": [
    {
     "data": {
      "image/png": "[encoded data removed]",
      "text/plain": [
       "<Figure size 800x600 with 1 Axes>"
      ]
     },
     "metadata": {},
     "output_type": "display_data"
    }
   ],
   "source": [
    "plt.figure(figsize=(8, 6), dpi=100)\n",
    "plt.scatter(x=df['Peak viewers'], y=df['Average viewers'], s=10, color=(0.1, 0.5, 0.9))\n",
    "plt.title('Twitch Dataset: Peak Viewers vs. Average Viewers')\n",
    "plt.xlabel('Peak Viewers')\n",
    "plt.xlabel('Average Viewers')\n",
    "plt.grid(visible=True)"
   ]
  },
  {
   "cell_type": "code",
   "execution_count": 7,
   "metadata": {},
   "outputs": [
    {
     "data": {
      "application/vnd.plotly.v1+json": {
       "config": {
        "plotlyServerURL": "https://plot.ly"
       },
       "data": [
        {
         "customdata": [
          [
           "Riot Games (riotgames)",
           "English"
          ],
          [
           "TheGrefg",
           "Spanish"
          ],
          [
           "dota2ti",
           "English"
          ],
          [
           "shroud",
           "English"
          ],
          [
           "dota2ti_ru",
           "Russian"
          ],
          [
           "Gaules",
           "Portuguese"
          ],
          [
           "csgomc_ru",
           "Russian"
          ],
          [
           "Warframe",
           "English"
          ],
          [
           "StarLadder_cs_en",
           "English"
          ],
          [
           "JokerdTV",
           "English"
          ],
          [
           "summit1g",
           "English"
          ],
          [
           "LEC",
           "English"
          ],
          [
           "ESL_CSGO",
           "English"
          ],
          [
           "TheRealKnossi",
           "German"
          ],
          [
           "Tfue",
           "English"
          ],
          [
           "Asmongold",
           "English"
          ],
          [
           "ZeratoR",
           "French"
          ],
          [
           "bysTaXx",
           "Spanish"
          ],
          [
           "RiotGamesBrazil",
           "Portuguese"
          ],
          [
           "OverwatchLeague",
           "English"
          ],
          [
           "Rubius",
           "Spanish"
          ],
          [
           "GamesDoneQuick",
           "English"
          ],
          [
           "LVPes",
           "Spanish"
          ],
          [
           "xQcOW",
           "English"
          ],
          [
           "LCS",
           "English"
          ],
          [
           "DreamHackCS",
           "English"
          ],
          [
           "RocketLeague",
           "English"
          ],
          [
           "OgamingLoL",
           "French"
          ],
          [
           "StarLadder5",
           "Russian"
          ],
          [
           "dota2mc_ru",
           "Russian"
          ],
          [
           "MontanaBlack88",
           "German"
          ],
          [
           "ibai",
           "Spanish"
          ],
          [
           "LCK",
           "English"
          ],
          [
           "Call of Duty (callofduty)",
           "English"
          ],
          [
           "auronplay",
           "Spanish"
          ],
          [
           "Fortnite",
           "English"
          ],
          [
           "Pestily",
           "English"
          ],
          [
           "Squeezie",
           "French"
          ],
          [
           "winstrike_tv",
           "Russian"
          ],
          [
           "Mibrtv",
           "Portuguese"
          ],
          [
           "Method",
           "English"
          ],
          [
           "DreamLeague",
           "English"
          ],
          [
           "LPL",
           "English"
          ],
          [
           "FACEIT TV (faceittv)",
           "English"
          ],
          [
           "Sardoche",
           "French"
          ],
          [
           "TimTheTatman",
           "English"
          ],
          [
           "PardonMyTake",
           "English"
          ],
          [
           "LCK_Korea",
           "Korean"
          ],
          [
           "Anton",
           "English"
          ],
          [
           "Rainbow6",
           "English"
          ],
          [
           "NOBRU",
           "Portuguese"
          ],
          [
           "Twitch",
           "English"
          ],
          [
           "SypherPK",
           "English"
          ],
          [
           "UNLOSTV",
           "Turkish"
          ],
          [
           "BeyondTheSummit_PT2",
           "Portuguese"
          ],
          [
           "Anomaly",
           "English"
          ],
          [
           "Castro_1021",
           "English"
          ],
          [
           "limit_maximum",
           "English"
          ],
          [
           "YoDa",
           "Portuguese"
          ],
          [
           "Myth",
           "English"
          ],
          [
           "bytarifaaa",
           "Spanish"
          ],
          [
           "Slushpuppy",
           "English"
          ],
          [
           "BeyondTheSummit",
           "English"
          ],
          [
           "FFearFFul",
           "Arabic"
          ],
          [
           "WePlayEsport_RU",
           "Russian"
          ],
          [
           "NICKMERCS",
           "English"
          ],
          [
           "Magic",
           "Spanish"
          ],
          [
           "BLASTPremier",
           "English"
          ],
          [
           "pokimane",
           "English"
          ],
          [
           "CriticalRole",
           "English"
          ],
          [
           "SummonersInnLive",
           "German"
          ],
          [
           "TwitchRivals",
           "English"
          ],
          [
           "sodapoppin",
           "English"
          ],
          [
           "Baiano",
           "Portuguese"
          ],
          [
           "Evelone192",
           "Russian"
          ],
          [
           "EASPORTSFIFA",
           "English"
          ],
          [
           "CSRuHub",
           "Russian"
          ],
          [
           "Dota2RuHub",
           "Russian"
          ],
          [
           "Deadlyslob",
           "English"
          ],
          [
           "Veritas",
           "English"
          ],
          [
           "Domingo",
           "French"
          ],
          [
           "Klean",
           "English"
          ],
          [
           "GRONKH",
           "German"
          ],
          [
           "ESL_DOTA2",
           "English"
          ],
          [
           "DreamHackDota2_RU",
           "Russian"
          ],
          [
           "buster",
           "Russian"
          ],
          [
           "VGBootCamp",
           "English"
          ],
          [
           "landonorris",
           "English"
          ],
          [
           "DrDisrespect",
           "English"
          ],
          [
           "LVNDMARK",
           "English"
          ],
          [
           "ElRichMC",
           "Spanish"
          ],
          [
           "shongxbong",
           "Arabic"
          ],
          [
           "GhostFreak66",
           "English"
          ],
          [
           "btssmash",
           "English"
          ],
          [
           "Doigby",
           "French"
          ],
          [
           "DrLupo",
           "English"
          ],
          [
           "ESL_CSGOb",
           "English"
          ],
          [
           "Mongraal",
           "English"
          ],
          [
           "loltyler1",
           "English"
          ],
          [
           "LIRIK",
           "English"
          ],
          [
           "alanzoka",
           "Portuguese"
          ],
          [
           "ONSCREEN",
           "English"
          ],
          [
           "WePlayEsport_EN",
           "English"
          ],
          [
           "GarenaTW",
           "Chinese"
          ],
          [
           "NickEh30",
           "English"
          ],
          [
           "JoshOG",
           "English"
          ],
          [
           "CapcomFighters",
           "English"
          ],
          [
           "Chess",
           "English"
          ],
          [
           "Datto",
           "English"
          ],
          [
           "Clix",
           "English"
          ],
          [
           "Sigma",
           "English"
          ],
          [
           "Gotaga",
           "French"
          ],
          [
           "coscu",
           "Spanish"
          ],
          [
           "scump",
           "English"
          ],
          [
           "TeePee",
           "English"
          ],
          [
           "Flashpoint",
           "English"
          ],
          [
           "benjyfishy",
           "English"
          ],
          [
           "Sfory",
           "Russian"
          ],
          [
           "btscsgo",
           "English"
          ],
          [
           "alexelcapo",
           "Spanish"
          ],
          [
           "Flight23white",
           "English"
          ],
          [
           "Swagg",
           "English"
          ],
          [
           "KEEMSTAR",
           "English"
          ],
          [
           "wtcN",
           "Turkish"
          ],
          [
           "울프 (lol_woolf)",
           "Korean"
          ],
          [
           "robn_live",
           "English"
          ],
          [
           "RiotGamesRU",
           "Russian"
          ],
          [
           "Monkeynews",
           "English"
          ],
          [
           "AustinShow",
           "English"
          ],
          [
           "CouRageJD",
           "English"
          ],
          [
           "괴물쥐123 (tmxk319)",
           "Korean"
          ],
          [
           "Markstrom",
           "English"
          ],
          [
           "Kamet0",
           "French"
          ],
          [
           "Yassuo",
           "English"
          ],
          [
           "POW3Rtv",
           "Italian"
          ],
          [
           "Cellbit",
           "Portuguese"
          ],
          [
           "Fextralife",
           "English"
          ],
          [
           "EmadGG",
           "English"
          ],
          [
           "Sacriel",
           "English"
          ],
          [
           "polsatgames",
           "Polish"
          ],
          [
           "Bugha",
           "English"
          ],
          [
           "악어 (jdm2088)",
           "Korean"
          ],
          [
           "Elraenn",
           "Turkish"
          ],
          [
           "Brunenger",
           "Spanish"
          ],
          [
           "CallMeCarsonLIVE",
           "English"
          ],
          [
           "OGADotaPIT",
           "English"
          ],
          [
           "RiotGamesJP",
           "Japanese"
          ],
          [
           "R6esportsBR",
           "Portuguese"
          ],
          [
           "ludwig",
           "English"
          ],
          [
           "Kotton",
           "English"
          ],
          [
           "LexVeldhuis",
           "English"
          ],
          [
           "BarcaGamer",
           "Spanish"
          ],
          [
           "Reborn_Live",
           "Spanish"
          ],
          [
           "FolagorLives",
           "Spanish"
          ],
          [
           "Fresh",
           "English"
          ],
          [
           "앰비션_ (lol_ambition)",
           "Korean"
          ],
          [
           "EAMaddenNFL",
           "English"
          ],
          [
           "bratishkinoff",
           "Russian"
          ],
          [
           "Gorgc",
           "English"
          ],
          [
           "Faker",
           "Korean"
          ],
          [
           "StarCraft",
           "English"
          ],
          [
           "CDNThe3rd",
           "English"
          ],
          [
           "Perxitaa",
           "Spanish"
          ],
          [
           "Yogscast",
           "English"
          ],
          [
           "Dota2ruhub2",
           "Russian"
          ],
          [
           "Gladd",
           "English"
          ],
          [
           "LosPollosTV",
           "English"
          ],
          [
           "forever",
           "Portuguese"
          ],
          [
           "Alexby11",
           "Spanish"
          ],
          [
           "Doublelift",
           "English"
          ],
          [
           "k1ng",
           "Spanish"
          ],
          [
           "TSM_Hamlinz",
           "English"
          ],
          [
           "Warcraft",
           "English"
          ],
          [
           "Rakin",
           "Portuguese"
          ],
          [
           "HunterGodBr",
           "Portuguese"
          ],
          [
           "T90Official",
           "English"
          ],
          [
           "Aydan",
           "English"
          ],
          [
           "INSCOPE21TV",
           "German"
          ],
          [
           "Trymacs",
           "German"
          ],
          [
           "WOKE",
           "English"
          ],
          [
           "RiotGamesOCE",
           "English"
          ],
          [
           "Locklear",
           "French"
          ],
          [
           "MckyTV",
           "German"
          ],
          [
           "BeyondTheSummit_PT",
           "Portuguese"
          ],
          [
           "Trainwreckstv",
           "English"
          ],
          [
           "Frankkaster",
           "Spanish"
          ],
          [
           "Anthony_Kongphan",
           "English"
          ],
          [
           "QuattroAce",
           "Russian"
          ],
          [
           "NBA2KLeague",
           "English"
          ],
          [
           "BeatportOfficial",
           "English"
          ],
          [
           "SLAKUN10",
           "Spanish"
          ],
          [
           "karavay46",
           "Russian"
          ],
          [
           "ElcanaldeJoaco",
           "Spanish"
          ],
          [
           "dasMEHDI",
           "English"
          ],
          [
           "lestream",
           "French"
          ],
          [
           "scoped",
           "English"
          ],
          [
           "ReventXz",
           "Spanish"
          ],
          [
           "TheKAIRI78",
           "French"
          ],
          [
           "SolaryFortnite",
           "French"
          ],
          [
           "GMHikaru",
           "English"
          ],
          [
           "ROSHTEIN",
           "English"
          ],
          [
           "Greekgodx",
           "English"
          ],
          [
           "ElmiilloR",
           "Spanish"
          ],
          [
           "Symfuhny",
           "English"
          ],
          [
           "juansguarnizo",
           "Spanish"
          ],
          [
           "Amar",
           "German"
          ],
          [
           "Etoiles",
           "French"
          ],
          [
           "fuslie",
           "English"
          ],
          [
           "StRoGo",
           "Russian"
          ],
          [
           "한동숙 (handongsuk)",
           "Korean"
          ],
          [
           "elded",
           "Spanish"
          ],
          [
           "HasanAbi",
           "English"
          ],
          [
           "DavyJones",
           "Portuguese"
          ],
          [
           "Ampeterby7",
           "Spanish"
          ],
          [
           "PlayHearthstone",
           "English"
          ],
          [
           "JesusAVGN",
           "Russian"
          ],
          [
           "Jahrein",
           "Turkish"
          ],
          [
           "CohhCarnage",
           "English"
          ],
          [
           "KendineMuzisyen",
           "Turkish"
          ],
          [
           "dakotaz",
           "English"
          ],
          [
           "Maximilian_DOOD",
           "English"
          ],
          [
           "침착맨 (zilioner)",
           "Korean"
          ],
          [
           "IzakOOO",
           "Polish"
          ],
          [
           "RTAinJapan",
           "Japanese"
          ],
          [
           "iklooode25",
           "Arabic"
          ],
          [
           "Loserfruit",
           "English"
          ],
          [
           "Papaplatte",
           "German"
          ],
          [
           "moistcr1tikal",
           "English"
          ],
          [
           "JLTomy",
           "French"
          ],
          [
           "KingGothalion",
           "English"
          ],
          [
           "Worrun_",
           "English"
          ],
          [
           "UnknownxArmy",
           "English"
          ],
          [
           "Hiko",
           "English"
          ],
          [
           "NateHill",
           "English"
          ],
          [
           "cloakzy",
           "English"
          ],
          [
           "Tyceno",
           "English"
          ],
          [
           "Nadeshot",
           "English"
          ],
          [
           "Mithrain",
           "Turkish"
          ],
          [
           "ESL_SC2",
           "English"
          ],
          [
           "공혁준 (rhdgurwns)",
           "Korean"
          ],
          [
           "mistermv",
           "French"
          ],
          [
           "HusKerrs",
           "English"
          ],
          [
           "PietSmiet",
           "German"
          ],
          [
           "Pimpeano",
           "Spanish"
          ],
          [
           "FPSThailand",
           "Thai"
          ],
          [
           "양띵 (yd0821)",
           "Korean"
          ],
          [
           "DisguisedToast",
           "English"
          ],
          [
           "Werlyb",
           "Spanish"
          ],
          [
           "gamelifeow",
           "Russian"
          ],
          [
           "Mickalow",
           "French"
          ],
          [
           "Llobeti4",
           "Spanish"
          ],
          [
           "AnneMunition",
           "English"
          ],
          [
           "xChocoBars",
           "English"
          ],
          [
           "lolesportsla",
           "Spanish"
          ],
          [
           "Lutti",
           "French"
          ],
          [
           "just_ns",
           "Russian"
          ],
          [
           "Stray228",
           "Russian"
          ],
          [
           "MadDecentLive",
           "English"
          ],
          [
           "얍얍 (yapyap30)",
           "Korean"
          ],
          [
           "Quin69",
           "English"
          ],
          [
           "ziGueira",
           "Portuguese"
          ],
          [
           "Giantwaffle",
           "English"
          ],
          [
           "BotezLive",
           "English"
          ],
          [
           "RiotGamesTurkish",
           "Turkish"
          ],
          [
           "PUBG",
           "English"
          ],
          [
           "DreadzTV",
           "Russian"
          ],
          [
           "TFBlade",
           "English"
          ],
          [
           "FEDMYSTER",
           "English"
          ],
          [
           "s1mple",
           "English"
          ],
          [
           "Lord_Kebun",
           "English"
          ],
          [
           "richwcampbell",
           "English"
          ],
          [
           "itsHafu",
           "English"
          ],
          [
           "forsen",
           "English"
          ],
          [
           "JASONR",
           "English"
          ],
          [
           "DansGaming",
           "English"
          ],
          [
           "ClassyBeef",
           "English"
          ],
          [
           "SmiteGame",
           "English"
          ],
          [
           "lilypichu",
           "English"
          ],
          [
           "AlpTV",
           "Turkish"
          ],
          [
           "chess24",
           "English"
          ],
          [
           "imls",
           "English"
          ],
          [
           "Mizkif",
           "English"
          ],
          [
           "Skyyart",
           "French"
          ],
          [
           "Diegosaurs",
           "English"
          ],
          [
           "룩삼 (looksam)",
           "Korean"
          ],
          [
           "x2Twins",
           "English"
          ],
          [
           "Sev7n",
           "Portuguese"
          ],
          [
           "TaKeTV",
           "German"
          ],
          [
           "MrSavage",
           "English"
          ],
          [
           "ELoTRiX",
           "German"
          ],
          [
           "Arteezy",
           "English"
          ],
          [
           "미라지 (mirage720)",
           "Korean"
          ],
          [
           "72hrs",
           "English"
          ],
          [
           "ZanoXVII",
           "Italian"
          ],
          [
           "Vicens",
           "Spanish"
          ],
          [
           "chocoTaco",
           "English"
          ],
          [
           "Spraggy",
           "English"
          ],
          [
           "Skadoodle",
           "English"
          ],
          [
           "SNEUX",
           "Spanish"
          ],
          [
           "Nikolarn",
           "English"
          ],
          [
           "강지 (rkdwl12)",
           "Korean"
          ],
          [
           "mokrivskyi",
           "Russian"
          ],
          [
           "SilverName",
           "Russian"
          ],
          [
           "Sykkuno",
           "English"
          ],
          [
           "EsfandTV",
           "English"
          ],
          [
           "Patriota",
           "Portuguese"
          ],
          [
           "Odablock",
           "English"
          ],
          [
           "dinablin",
           "Russian"
          ],
          [
           "nl_Kripp",
           "English"
          ],
          [
           "jovirone",
           "Portuguese"
          ],
          [
           "NiteNightKid",
           "English"
          ],
          [
           "RiceGum",
           "English"
          ],
          [
           "Trick2g",
           "English"
          ],
          [
           "AlphaCast",
           "French"
          ],
          [
           "WankilStudio",
           "French"
          ],
          [
           "Xari",
           "French"
          ],
          [
           "Letshe",
           "English"
          ],
          [
           "A_Seagull",
           "English"
          ],
          [
           "brax",
           "English"
          ],
          [
           "KriszhAdvice",
           "Hungarian"
          ],
          [
           "Sinner666",
           "Russian"
          ],
          [
           "WELOVEGAMES",
           "Russian"
          ],
          [
           "TrilluXe",
           "German"
          ],
          [
           "hardgamechannel",
           "Russian"
          ],
          [
           "Scarra",
           "English"
          ],
          [
           "Stewie2K",
           "English"
          ],
          [
           "DaigoTheBeasTV",
           "Japanese"
          ],
          [
           "miniminter",
           "English"
          ],
          [
           "Esports_Alliance",
           "Thai"
          ],
          [
           "풍월량 (hanryang1125)",
           "Korean"
          ],
          [
           "kurt0411",
           "English"
          ],
          [
           "caps",
           "English"
          ],
          [
           "핑맨 (95pingman)",
           "Korean"
          ],
          [
           "Dmitry_Lixxx",
           "Russian"
          ],
          [
           "MarkitoNavaja",
           "Spanish"
          ],
          [
           "fps_shaka",
           "Japanese"
          ],
          [
           "MarkiLokurasY",
           "Spanish"
          ],
          [
           "Homyatol",
           "Italian"
          ],
          [
           "MYM_ALKAPONE",
           "Spanish"
          ],
          [
           "aceu",
           "English"
          ],
          [
           "imaqtpie",
           "English"
          ],
          [
           "modestal",
           "Russian"
          ],
          [
           "Mathil1",
           "English"
          ],
          [
           "Smoke",
           "English"
          ],
          [
           "서새봄냥 (saddummy)",
           "Korean"
          ],
          [
           "매직박 (yagubu)",
           "Korean"
          ],
          [
           "m0xyy",
           "English"
          ],
          [
           "aXtLOL",
           "Portuguese"
          ],
          [
           "Mendo",
           "English"
          ],
          [
           "boxbox",
           "English"
          ],
          [
           "stylishnoob4",
           "Japanese"
          ],
          [
           "Thijs",
           "English"
          ],
          [
           "MOONMOON",
           "English"
          ],
          [
           "RiffTrax",
           "English"
          ],
          [
           "PG_Esports",
           "Italian"
          ],
          [
           "dogdog",
           "English"
          ],
          [
           "Nmplol",
           "English"
          ],
          [
           "RebeuDeter",
           "French"
          ],
          [
           "WillerZ",
           "English"
          ],
          [
           "Philza",
           "English"
          ],
          [
           "itmeJP",
           "English"
          ],
          [
           "MinosTV_",
           "French"
          ],
          [
           "berkriptepe",
           "Turkish"
          ],
          [
           "소풍왔니 (yumyumyu77)",
           "Korean"
          ],
          [
           "LeBouseuh",
           "French"
          ],
          [
           "Solary",
           "French"
          ],
          [
           "mang0",
           "English"
          ],
          [
           "BrookeAB",
           "English"
          ],
          [
           "IlloJuan",
           "Spanish"
          ],
          [
           "NoWay4u_Sir",
           "German"
          ],
          [
           "DesertHeartsRecords",
           "English"
          ],
          [
           "jukes",
           "Portuguese"
          ],
          [
           "rewinside",
           "German"
          ],
          [
           "Destiny",
           "English"
          ],
          [
           "Xayoo_",
           "Polish"
          ],
          [
           "IWillDominate",
           "English"
          ],
          [
           "Agraelus",
           "Czech"
          ],
          [
           "Mixwell",
           "Spanish"
          ],
          [
           "Valkia",
           "English"
          ],
          [
           "ops1x",
           "English"
          ],
          [
           "NymN",
           "English"
          ],
          [
           "cdewx",
           "English"
          ],
          [
           "jakenbakeLIVE",
           "English"
          ],
          [
           "SkipNhO",
           "Portuguese"
          ],
          [
           "Kaydop",
           "French"
          ],
          [
           "Ponce",
           "French"
          ],
          [
           "iamSometimes",
           "Thai"
          ],
          [
           "TSM_ImperialHal",
           "English"
          ],
          [
           "1PVCS",
           "French"
          ],
          [
           "ESL_CSGO_FR",
           "French"
          ],
          [
           "Syndicate",
           "English"
          ],
          [
           "sneakylol",
           "English"
          ],
          [
           "DougisRaw",
           "English"
          ],
          [
           "RakanooLive",
           "Arabic"
          ],
          [
           "Chap",
           "English"
          ],
          [
           "pokelawls",
           "English"
          ],
          [
           "GoldGlove",
           "English"
          ],
          [
           "B0aty",
           "English"
          ],
          [
           "Dhalucard",
           "German"
          ],
          [
           "Moondye7",
           "German"
          ],
          [
           "boyMinORu",
           "Thai"
          ],
          [
           "ESAMarathon",
           "English"
          ],
          [
           "NairoMK",
           "English"
          ],
          [
           "HGmony",
           "Russian"
          ],
          [
           "Grimmmz",
           "English"
          ],
          [
           "JERICHO",
           "English"
          ],
          [
           "Emongg",
           "English"
          ],
          [
           "BigSpinCR",
           "German"
          ],
          [
           "orslok",
           "Spanish"
          ],
          [
           "trihex",
           "English"
          ],
          [
           "JonVlogs",
           "Portuguese"
          ],
          [
           "Sweet_Anita",
           "English"
          ],
          [
           "BigEx",
           "English"
          ],
          [
           "HoneyMad",
           "Russian"
          ],
          [
           "LITkillah",
           "Spanish"
          ],
          [
           "EWROON",
           "Polish"
          ],
          [
           "zEkO",
           "Spanish"
          ],
          [
           "Pikabooirl",
           "English"
          ],
          [
           "Sloot",
           "English"
          ],
          [
           "maxim",
           "German"
          ],
          [
           "yeTz",
           "Portuguese"
          ],
          [
           "Voyboy",
           "English"
          ],
          [
           "GernaderJake",
           "English"
          ],
          [
           "akagreenn",
           "Turkish"
          ],
          [
           "AdmiralBahroo",
           "English"
          ],
          [
           "쌍베 (pacific8815)",
           "Korean"
          ],
          [
           "Kitboga",
           "English"
          ],
          [
           "Shaunz",
           "French"
          ],
          [
           "pimpimenta",
           "Portuguese"
          ],
          [
           "WeAreTheVR",
           "Hungarian"
          ],
          [
           "runthefutmarket",
           "English"
          ],
          [
           "Zizaran",
           "English"
          ],
          [
           "DownToQuest",
           "English"
          ],
          [
           "SlotRoom247",
           "German"
          ],
          [
           "RTGameCrowd",
           "English"
          ],
          [
           "PAGO3",
           "Polish"
          ],
          [
           "bateson87",
           "English"
          ],
          [
           "HighDistortion",
           "English"
          ],
          [
           "XBOCT",
           "Russian"
          ],
          [
           "RealKraftyy",
           "English"
          ],
          [
           "Swifty",
           "English"
          ],
          [
           "Sequisha",
           "English"
          ],
          [
           "Shiphtur",
           "English"
          ],
          [
           "dafran",
           "English"
          ],
          [
           "JLWaliid",
           "French"
          ],
          [
           "오킹 (obm1025)",
           "Korean"
          ],
          [
           "fl0m",
           "English"
          ],
          [
           "x6FlipiN",
           "Spanish"
          ],
          [
           "Cerbero_Podcast",
           "Italian"
          ],
          [
           "cyr",
           "English"
          ],
          [
           "KamoLRF",
           "German"
          ],
          [
           "dizzy",
           "English"
          ],
          [
           "relaxing234",
           "Chinese"
          ],
          [
           "Fairlight_Excalibur",
           "English"
          ],
          [
           "Vinesauce",
           "English"
          ],
          [
           "GodHunt",
           "Russian"
          ],
          [
           "primeleague",
           "German"
          ],
          [
           "Heelmike",
           "English"
          ],
          [
           "TSM_Viss",
           "English"
          ],
          [
           "Jankos",
           "English"
          ],
          [
           "LPMassive",
           "German"
          ],
          [
           "Ezekiel_III",
           "English"
          ],
          [
           "Albralelie",
           "English"
          ],
          [
           "easywithaces",
           "English"
          ],
          [
           "亞洲統神 (asiagodtonegg3be0)",
           "Chinese"
          ],
          [
           "cacho01",
           "Spanish"
          ],
          [
           "blxckoutz",
           "Portuguese"
          ],
          [
           "CeMka",
           "Russian"
          ],
          [
           "ZiggyDLive",
           "English"
          ],
          [
           "Everyeyeit",
           "Italian"
          ],
          [
           "orangemorange",
           "German"
          ],
          [
           "ALOHADANCETV",
           "Russian"
          ],
          [
           "Smurfdomuca",
           "Portuguese"
          ],
          [
           "Elwind",
           "Turkish"
          ],
          [
           "goncho",
           "Spanish"
          ],
          [
           "Conterstine",
           "Spanish"
          ],
          [
           "러너교 (runner0608)",
           "Korean"
          ],
          [
           "Gabi",
           "Portuguese"
          ],
          [
           "Nightblue3",
           "English"
          ],
          [
           "IrmanPlay",
           "Russian"
          ],
          [
           "餐餐自由配 (blusewilly_retry)",
           "Chinese"
          ],
          [
           "SolaryHS",
           "French"
          ],
          [
           "pankylol",
           "Turkish"
          ],
          [
           "Annoying",
           "English"
          ],
          [
           "Alinity",
           "English"
          ],
          [
           "KingRichard",
           "English"
          ],
          [
           "C_a_k_e",
           "Russian"
          ],
          [
           "따효니 (ddahyoni)",
           "Korean"
          ],
          [
           "SPYGEA",
           "Japanese"
          ],
          [
           "Tumblurr",
           "Italian"
          ],
          [
           "Manyrin",
           "Russian"
          ],
          [
           "XEWER",
           "French"
          ],
          [
           "SkyrrozTV",
           "French"
          ],
          [
           "ybicanoooobov",
           "Russian"
          ],
          [
           "YoMax",
           "French"
          ],
          [
           "도현_ (d_obby)",
           "Korean"
          ],
          [
           "Solaaaa",
           "German"
          ],
          [
           "木棉花官方頻道 (muse_tw)",
           "Chinese"
          ],
          [
           "Maghla",
           "French"
          ],
          [
           "AdmiralBulldog",
           "English"
          ],
          [
           "AntoineDanielLive",
           "French"
          ],
          [
           "PaymoneyWubby",
           "English"
          ],
          [
           "Speedrun",
           "English"
          ],
          [
           "aminematue",
           "French"
          ],
          [
           "MoMaN",
           "French"
          ],
          [
           "FORMAL",
           "English"
          ],
          [
           "老皮 (mobilmobil)",
           "Chinese"
          ],
          [
           "JLBichouu",
           "French"
          ],
          [
           "daltoosh",
           "English"
          ],
          [
           "icebergdoto",
           "Russian"
          ],
          [
           "Kurumx",
           "English"
          ],
          [
           "Rammus53",
           "Turkish"
          ],
          [
           "Gosu",
           "English"
          ],
          [
           "Vader",
           "English"
          ],
          [
           "살인마협회장 (sal_gu)",
           "Korean"
          ],
          [
           "탬탬버린 (2chamcham2)",
           "Korean"
          ],
          [
           "WARDELL",
           "English"
          ],
          [
           "Replays",
           "English"
          ],
          [
           "midbeast",
           "English"
          ],
          [
           "FENGRUSH",
           "English"
          ],
          [
           "xTheSolutionTV",
           "German"
          ],
          [
           "adolfz",
           "Portuguese"
          ],
          [
           "Jerma985",
           "English"
          ],
          [
           "貝莉莓 (beryl_lulu)",
           "Chinese"
          ],
          [
           "녹두로 (nokduro)",
           "Korean"
          ],
          [
           "SparkofPhoenixTV",
           "German"
          ],
          [
           "쫀득이_ (pjs9073)",
           "Korean"
          ],
          [
           "StaysafeTV",
           "English"
          ],
          [
           "Sanchovies",
           "English"
          ],
          [
           "Alfie",
           "English"
          ],
          [
           "Felps",
           "Portuguese"
          ],
          [
           "Aurateur",
           "English"
          ],
          [
           "Towelliee",
           "English"
          ],
          [
           "Dementardo",
           "Spanish"
          ],
          [
           "CooLifeGame",
           "Spanish"
          ],
          [
           "Staiy",
           "German"
          ],
          [
           "Rush",
           "English"
          ],
          [
           "FollowGrubby",
           "English"
          ],
          [
           "RobertoCein",
           "Spanish"
          ],
          [
           "1DrakoNz",
           "Portuguese"
          ],
          [
           "Sco",
           "English"
          ],
          [
           "Multiplayerit",
           "Italian"
          ],
          [
           "ixxYjYxxi",
           "Arabic"
          ],
          [
           "ClintStevens",
           "English"
          ],
          [
           "Jinnytty",
           "English"
          ],
          [
           "RaizQT",
           "English"
          ],
          [
           "Faux",
           "English"
          ],
          [
           "Nick28T",
           "English"
          ],
          [
           "julien",
           "English"
          ],
          [
           "LightFuryLF",
           "Thai"
          ],
          [
           "Gigz",
           "English"
          ],
          [
           "bmkibler",
           "English"
          ],
          [
           "PainLivestream",
           "German"
          ],
          [
           "Otzdarva",
           "English"
          ],
          [
           "ChicaLive",
           "English"
          ],
          [
           "duckmanzch",
           "Thai"
          ],
          [
           "aDrive",
           "English"
          ],
          [
           "CarritosKami",
           "Spanish"
          ],
          [
           "懶貓 (failverde)",
           "Chinese"
          ],
          [
           "tarzaned",
           "English"
          ],
          [
           "RebirthzTV",
           "Thai"
          ],
          [
           "Destructoid",
           "English"
          ],
          [
           "LotharHS",
           "Polish"
          ],
          [
           "Sweatcicle",
           "English"
          ],
          [
           "Peereira7",
           "Spanish"
          ],
          [
           "Adin2Huncho",
           "English"
          ],
          [
           "EFEUYGAC",
           "Turkish"
          ],
          [
           "RATIRL",
           "English"
          ],
          [
           "G4G_REVENANT",
           "Spanish"
          ],
          [
           "BeBePtv",
           "Russian"
          ],
          [
           "roflgator",
           "English"
          ],
          [
           "DatModz",
           "English"
          ],
          [
           "FlexZ",
           "Spanish"
          ],
          [
           "Monstercat",
           "English"
          ],
          [
           "uzra",
           "Chinese"
          ],
          [
           "우왁굳 (woowakgood)",
           "Korean"
          ],
          [
           "과로사1 (aram4519)",
           "Korean"
          ],
          [
           "Reverse2k",
           "English"
          ],
          [
           "ZLOYn",
           "Russian"
          ],
          [
           "GTimeTV",
           "German"
          ],
          [
           "Pieface23",
           "English"
          ],
          [
           "hexy",
           "English"
          ],
          [
           "UCCleague",
           "Russian"
          ],
          [
           "Th3Antonio",
           "Spanish"
          ],
          [
           "Shlorox",
           "German"
          ],
          [
           "SoyPan",
           "Spanish"
          ],
          [
           "KabajiOW",
           "English"
          ],
          [
           "melharucos",
           "Russian"
          ],
          [
           "Arcadum",
           "English"
          ],
          [
           "Remx",
           "French"
          ],
          [
           "Naru",
           "Turkish"
          ],
          [
           "knekro",
           "Spanish"
          ],
          [
           "Xiuder_",
           "Italian"
          ],
          [
           "HAchubby",
           "English"
          ],
          [
           "innocents",
           "English"
          ],
          [
           "tebtv",
           "English"
          ],
          [
           "Timmac",
           "English"
          ],
          [
           "Amouranth",
           "English"
          ],
          [
           "koil",
           "English"
          ],
          [
           "BarbarousKing",
           "English"
          ],
          [
           "swimstrim",
           "English"
          ],
          [
           "GrandPOObear",
           "English"
          ],
          [
           "harbleu",
           "English"
          ],
          [
           "venruki",
           "English"
          ],
          [
           "Broxah",
           "English"
          ],
          [
           "AvoidingThePuddle",
           "English"
          ],
          [
           "Broeki1",
           "German"
          ],
          [
           "Elajjaz",
           "English"
          ],
          [
           "NiceWigg",
           "English"
          ],
          [
           "AlcastHQ",
           "English"
          ],
          [
           "MasterSnakou",
           "French"
          ],
          [
           "iGeStarK",
           "Spanish"
          ],
          [
           "김진우 (jinu6734)",
           "Korean"
          ],
          [
           "ItsSlikeR",
           "English"
          ],
          [
           "LobosJr",
           "English"
          ],
          [
           "Savjz",
           "English"
          ],
          [
           "羅傑 (roger9527)",
           "Chinese"
          ],
          [
           "ProfessorBroman",
           "English"
          ],
          [
           "Amaz",
           "English"
          ],
          [
           "39daph",
           "English"
          ],
          [
           "KingGeorge",
           "English"
          ],
          [
           "aircool",
           "English"
          ],
          [
           "StreamerHouse",
           "English"
          ],
          [
           "hashinshin",
           "English"
          ],
          [
           "TheRealMarzaa",
           "Italian"
          ],
          [
           "Halifax",
           "English"
          ],
          [
           "接接 (godjj)",
           "Chinese"
          ],
          [
           "TidesofTime",
           "English"
          ],
          [
           "Alkaizerx",
           "English"
          ],
          [
           "Yamikazexz",
           "English"
          ],
          [
           "쉐리 (kss7749)",
           "Korean"
          ],
          [
           "makataO",
           "Russian"
          ],
          [
           "Payo",
           "English"
          ],
          [
           "철면수심 (109ace)",
           "Korean"
          ],
          [
           "QuarterJade",
           "English"
          ],
          [
           "RoyalPhunk",
           "German"
          ],
          [
           "플러리 (flurry1989)",
           "Korean"
          ],
          [
           "pqueen",
           "Turkish"
          ],
          [
           "大丸 (wtf_winds123)",
           "Chinese"
          ],
          [
           "A1taOda",
           "Russian"
          ],
          [
           "buddha",
           "English"
          ],
          [
           "超負荷 (sam1268)",
           "Chinese"
          ],
          [
           "RatedEpicz",
           "English"
          ],
          [
           "RduLIVE",
           "English"
          ],
          [
           "Aa9skillz",
           "English"
          ],
          [
           "singsing",
           "English"
          ],
          [
           "Sh4dowehhh",
           "Russian"
          ],
          [
           "Cizzorz",
           "English"
          ],
          [
           "김도 (kimdoe)",
           "Korean"
          ],
          [
           "AsmodaiTV",
           "English"
          ],
          [
           "PatoPapao",
           "Portuguese"
          ],
          [
           "Naowh",
           "English"
          ],
          [
           "BobRoss",
           "English"
          ],
          [
           "LigaPro1",
           "Other"
          ],
          [
           "SmallAnt",
           "English"
          ],
          [
           "Distortion2",
           "English"
          ],
          [
           "Alderiate",
           "French"
          ],
          [
           "OgamingSC2",
           "French"
          ],
          [
           "jean_mago",
           "Portuguese"
          ],
          [
           "Becca",
           "English"
          ],
          [
           "Dyrus",
           "English"
          ],
          [
           "ThaldrinLol",
           "Turkish"
          ],
          [
           "BruceGrannec",
           "French"
          ],
          [
           "감블러 (9ambler)",
           "Korean"
          ],
          [
           "AdzTV",
           "French"
          ],
          [
           "Tiagovski555YT",
           "Portuguese"
          ],
          [
           "bazattak007",
           "Spanish"
          ],
          [
           "Corobizar",
           "French"
          ],
          [
           "10000DAYS",
           "Turkish"
          ],
          [
           "Zerkaa",
           "English"
          ],
          [
           "mch_AGG",
           "Portuguese"
          ],
          [
           "LRojo_",
           "Spanish"
          ],
          [
           "ImMarksman",
           "English"
          ],
          [
           "머독 (ajehr)",
           "Korean"
          ],
          [
           "QuickyBaby",
           "English"
          ],
          [
           "Bonjwa",
           "German"
          ],
          [
           "Criken",
           "English"
          ],
          [
           "꽃핀 (cherrypach)",
           "Korean"
          ],
          [
           "iateyourpie",
           "English"
          ],
          [
           "개복어 (dogswellfish)",
           "Korean"
          ],
          [
           "TrU3Ta1ent",
           "English"
          ],
          [
           "hastad",
           "Portuguese"
          ],
          [
           "Overpow",
           "Polish"
          ],
          [
           "Ramee",
           "English"
          ],
          [
           "Kiwo",
           "English"
          ],
          [
           "Steelmage",
           "English"
          ],
          [
           "강퀴 (kangqui)",
           "Korean"
          ],
          [
           "JustCooman",
           "Russian"
          ],
          [
           "NeverSayYesTwitch",
           "French"
          ],
          [
           "PsheroTV",
           "English"
          ],
          [
           "sacy",
           "Portuguese"
          ],
          [
           "견자희 (wkgml)",
           "Korean"
          ],
          [
           "Froggen",
           "English"
          ],
          [
           "嬌兔 (zrush)",
           "Chinese"
          ],
          [
           "Spaceboy",
           "English"
          ],
          [
           "KarmikKoala",
           "Russian"
          ],
          [
           "Ziqoftw",
           "English"
          ],
          [
           "태준이 (dlxowns45)",
           "Korean"
          ],
          [
           "AndyMilonakis",
           "English"
          ],
          [
           "BastiGHG",
           "German"
          ],
          [
           "erobb221",
           "English"
          ],
          [
           "Tanovich",
           "Spanish"
          ],
          [
           "Pace22",
           "English"
          ],
          [
           "BlackUFA",
           "Russian"
          ],
          [
           "Shotz",
           "English"
          ],
          [
           "DuendePablo",
           "Spanish"
          ],
          [
           "LuluLuvely",
           "English"
          ],
          [
           "Bidule",
           "French"
          ],
          [
           "케인 (kanetv8)",
           "Korean"
          ],
          [
           "DizzyKitten",
           "English"
          ],
          [
           "Hype",
           "Turkish"
          ],
          [
           "H2P_Gucio",
           "Polish"
          ],
          [
           "Lasqa",
           "Russian"
          ],
          [
           "피닉스박1 (xkwhd)",
           "Korean"
          ],
          [
           "龜狗 (gueigotv)",
           "Chinese"
          ],
          [
           "ANGRYPUG",
           "English"
          ],
          [
           "Tonton",
           "French"
          ],
          [
           "OfficialAndyPyro",
           "Finnish"
          ],
          [
           "NeVeR_LosEs",
           "Chinese"
          ],
          [
           "六希夫 (qttsix)",
           "Chinese"
          ],
          [
           "소우릎 (so_urf)",
           "Korean"
          ],
          [
           "SovietWomble",
           "English"
          ],
          [
           "Mushway",
           "French"
          ],
          [
           "Mazarin1k",
           "Czech"
          ],
          [
           "gratis150ml",
           "Portuguese"
          ],
          [
           "natalan",
           "Spanish"
          ],
          [
           "Kubon_",
           "Polish"
          ],
          [
           "mandiocaa1",
           "Portuguese"
          ],
          [
           "BreaK",
           "English"
          ],
          [
           "Jay3",
           "English"
          ],
          [
           "Opat04",
           "Czech"
          ],
          [
           "Uthenera",
           "Turkish"
          ],
          [
           "Wardiii",
           "English"
          ],
          [
           "MuTeX",
           "English"
          ],
          [
           "CaMaK",
           "French"
          ],
          [
           "MrBboy45",
           "French"
          ],
          [
           "실프_ (silphtv)",
           "Korean"
          ],
          [
           "지수소녀 (wltn4765)",
           "Korean"
          ],
          [
           "ElOjoNinja",
           "Spanish"
          ],
          [
           "Kyle",
           "English"
          ],
          [
           "Northernlion",
           "English"
          ],
          [
           "leplol1",
           "Portuguese"
          ],
          [
           "resttpowered",
           "Slovak"
          ],
          [
           "Kandyland",
           "English"
          ],
          [
           "olyashaa",
           "Russian"
          ],
          [
           "다주 (dda_ju)",
           "Korean"
          ],
          [
           "BotanicX",
           "Russian"
          ],
          [
           "Strippin",
           "English"
          ],
          [
           "supertf",
           "English"
          ],
          [
           "LenaGol0vach",
           "Russian"
          ],
          [
           "ArQuel",
           "Polish"
          ],
          [
           "mL7support",
           "English"
          ],
          [
           "ilMasseo",
           "Italian"
          ],
          [
           "루시아 (lucia94)",
           "Korean"
          ],
          [
           "iProMx",
           "French"
          ],
          [
           "sleepy",
           "English"
          ],
          [
           "MiltonTPike1",
           "English"
          ],
          [
           "Crocodyle_lol",
           "French"
          ],
          [
           "옥냥이 (rooftopcat99)",
           "Korean"
          ],
          [
           "Nattank",
           "Portuguese"
          ],
          [
           "Kephrii",
           "English"
          ],
          [
           "Lapi",
           "French"
          ],
          [
           "foggedftw2",
           "English"
          ],
          [
           "veloxey",
           "Italian"
          ],
          [
           "Xposed",
           "English"
          ],
          [
           "The_Happy_Hob",
           "English"
          ],
          [
           "TheNo1Alex",
           "English"
          ],
          [
           "MaTaFe_",
           "English"
          ],
          [
           "Evangelion0",
           "Spanish"
          ],
          [
           "Kamikatze",
           "German"
          ],
          [
           "Sintica",
           "German"
          ],
          [
           "nugiyen",
           "English"
          ],
          [
           "iceiceice",
           "English"
          ],
          [
           "殺梗 (xargon0731)",
           "Chinese"
          ],
          [
           "calango",
           "Portuguese"
          ],
          [
           "masondota2",
           "English"
          ],
          [
           "uhSnow",
           "English"
          ],
          [
           "KVYZEE",
           "Russian"
          ],
          [
           "狂暴小建 (a541021)",
           "Chinese"
          ],
          [
           "Back2Warcraft",
           "German"
          ],
          [
           "선바 (sunbaking)",
           "Korean"
          ],
          [
           "FantaBobShow",
           "French"
          ],
          [
           "yamatonjp",
           "Japanese"
          ],
          [
           "chowh1",
           "French"
          ],
          [
           "CzechCloud",
           "Czech"
          ],
          [
           "c9judite",
           "Portuguese"
          ],
          [
           "murilo_RT",
           "Portuguese"
          ],
          [
           "pijack11",
           "Portuguese"
          ],
          [
           "DarioMocciaTwitch",
           "Italian"
          ],
          [
           "Sjow",
           "English"
          ],
          [
           "踢虧 (takesipon)",
           "Chinese"
          ],
          [
           "CrReaM",
           "English"
          ],
          [
           "THump",
           "English"
          ],
          [
           "Videoyun",
           "Turkish"
          ],
          [
           "DieHahn",
           "German"
          ],
          [
           "SayNoToRage",
           "English"
          ],
          [
           "소니쇼 (sonycast_)",
           "Korean"
          ],
          [
           "Loeya",
           "English"
          ],
          [
           "IamCristinini",
           "Spanish"
          ],
          [
           "SkipNhOLIVE",
           "Portuguese"
          ],
          [
           "Surefour",
           "English"
          ],
          [
           "AnniTheDuck",
           "German"
          ],
          [
           "sips_",
           "English"
          ],
          [
           "スタンミ (sutanmi)",
           "Japanese"
          ],
          [
           "Bawkbasoup",
           "English"
          ],
          [
           "CarTmaNzbs",
           "Russian"
          ],
          [
           "UberHaxorNova",
           "English"
          ],
          [
           "Draineo",
           "English"
          ],
          [
           "Daxak",
           "Russian"
          ],
          [
           "Pengu",
           "English"
          ],
          [
           "인간젤리 (ses836)",
           "Korean"
          ],
          [
           "guit88man",
           "Russian"
          ],
          [
           "Paoloidolo",
           "Italian"
          ],
          [
           "김나성 (naseongkim)",
           "Korean"
          ],
          [
           "逼比 (bebelolz)",
           "Chinese"
          ],
          [
           "VooDooSh",
           "Russian"
          ],
          [
           "k3soju",
           "English"
          ],
          [
           "Crystal_LoL",
           "Turkish"
          ],
          [
           "蝦愛橘子 (shuteye_orange)",
           "Chinese"
          ],
          [
           "thedarkness",
           "Portuguese"
          ],
          [
           "livekiss",
           "Chinese"
          ],
          [
           "AnthonyZ",
           "English"
          ],
          [
           "nookyyy",
           "German"
          ],
          [
           "WagamamaTV",
           "English"
          ],
          [
           "MacieJay",
           "English"
          ],
          [
           "JeelTV",
           "French"
          ],
          [
           "Rogue",
           "English"
          ],
          [
           "Vovo",
           "Portuguese"
          ],
          [
           "NoctisAK47",
           "Thai"
          ],
          [
           "NeZaK_",
           "Italian"
          ],
          [
           "Linkus7",
           "English"
          ],
          [
           "CurtisRyan",
           "English"
          ],
          [
           "김뚜띠_ (kimdduddi)",
           "Korean"
          ],
          [
           "BikeMan",
           "English"
          ],
          [
           "shtan_udachi",
           "Russian"
          ],
          [
           "ShivFPS",
           "English"
          ],
          [
           "keanelol",
           "English"
          ],
          [
           "Harmii",
           "German"
          ],
          [
           "P4wnyhof",
           "German"
          ],
          [
           "Wingsofdeath",
           "English"
          ],
          [
           "ZONY",
           "Polish"
          ],
          [
           "PENTA",
           "English"
          ],
          [
           "Cryaotic",
           "English"
          ],
          [
           "grafo",
           "Spanish"
          ],
          [
           "금사향 (sah_yang)",
           "Korean"
          ],
          [
           "LAGTVMaximusBlack",
           "English"
          ],
          [
           "cellinrj",
           "Portuguese"
          ],
          [
           "MenosTrece",
           "Spanish"
          ],
          [
           "연두는말안드뤄 (rudbeckia7)",
           "Korean"
          ],
          [
           "chistor_",
           "Russian"
          ],
          [
           "wintergaming",
           "English"
          ],
          [
           "CuteDog_",
           "English"
          ],
          [
           "BRNWOWZK1",
           "Portuguese"
          ],
          [
           "OuterHeaven",
           "English"
          ],
          [
           "Tanxlive",
           "Thai"
          ],
          [
           "mailand",
           "German"
          ],
          [
           "양아지 (dkwl025)",
           "Korean"
          ],
          [
           "TpaBoMaH",
           "Russian"
          ],
          [
           "kutcherlol",
           "German"
          ],
          [
           "Puppers",
           "English"
          ],
          [
           "똘똘똘이_ (jungtaejune)",
           "Korean"
          ],
          [
           "Recrent",
           "Russian"
          ],
          [
           "rxnexus",
           "Russian"
          ],
          [
           "Calebhart42",
           "English"
          ],
          [
           "monkeys_forever",
           "English"
          ],
          [
           "KarasMai",
           "English"
          ],
          [
           "FifaTargrean",
           "Thai"
          ],
          [
           "kyliebitkin",
           "English"
          ],
          [
           "RayNarvaezJr",
           "English"
          ],
          [
           "KYR_SP33DY",
           "English"
          ],
          [
           "Vargskelethor",
           "English"
          ],
          [
           "Limmy",
           "English"
          ],
          [
           "RaulZitoYT",
           "Portuguese"
          ],
          [
           "CasinoDaddy",
           "English"
          ],
          [
           "BobbyPoffGaming",
           "English"
          ],
          [
           "GingiTV",
           "English"
          ],
          [
           "마스카 (newmasca)",
           "Korean"
          ],
          [
           "나나양 (nanayango3o)",
           "Korean"
          ],
          [
           "球球 (lilballzlolz)",
           "Chinese"
          ],
          [
           "AkTep",
           "Russian"
          ],
          [
           "kragiee",
           "English"
          ],
          [
           "Pun1shers_TV",
           "Greek"
          ],
          [
           "Pelegrino1993",
           "Portuguese"
          ],
          [
           "ALLinPav",
           "English"
          ],
          [
           "짬타수아 (zzamtiger0310)",
           "Korean"
          ],
          [
           "SkyshockTV",
           "Spanish"
          ],
          [
           "IFrostBolt",
           "English"
          ],
          [
           "Igromania",
           "Russian"
          ],
          [
           "theRealShooKon3",
           "English"
          ],
          [
           "코렛트 (collet11)",
           "Korean"
          ],
          [
           "allkeyshop_tv",
           "English"
          ],
          [
           "SheriffEli",
           "English"
          ],
          [
           "Wackyjacky101",
           "English"
          ],
          [
           "kyo1984123",
           "Chinese"
          ],
          [
           "Bamboe",
           "English"
          ],
          [
           "gabepeixe",
           "Portuguese"
          ],
          [
           "貝克 (slrabbit99)",
           "Chinese"
          ],
          [
           "Zalae",
           "English"
          ],
          [
           "SirhcEz",
           "English"
          ],
          [
           "crokeyz",
           "English"
          ],
          [
           "MANvsGAME",
           "English"
          ],
          [
           "MatteoHS",
           "Italian"
          ],
          [
           "DuelLinksMeta",
           "English"
          ],
          [
           "ImSoFresh",
           "French"
          ],
          [
           "홍방장 (game2eye)",
           "Korean"
          ],
          [
           "Day9tv",
           "English"
          ],
          [
           "JonBams",
           "English"
          ],
          [
           "SilentSentry",
           "English"
          ],
          [
           "Staryuuki",
           "Spanish"
          ],
          [
           "Rubini",
           "Portuguese"
          ],
          [
           "Flambass",
           "English"
          ],
          [
           "purple_hs",
           "English"
          ],
          [
           "聶寶 (nielnieh345)",
           "Chinese"
          ],
          [
           "자동 (tranth)",
           "Korean"
          ],
          [
           "Ko0416",
           "Chinese"
          ],
          [
           "CalebDMTG",
           "English"
          ],
          [
           "qSnake",
           "Russian"
          ],
          [
           "twlevewinsHS",
           "English"
          ],
          [
           "saintvicious",
           "English"
          ],
          [
           "西門夜說 (westdoor)",
           "Chinese"
          ],
          [
           "Tomato",
           "English"
          ],
          [
           "KheZu",
           "English"
          ],
          [
           "flamuu",
           "English"
          ],
          [
           "고차비 (kumikomii)",
           "Korean"
          ],
          [
           "rhobalas_lol",
           "French"
          ],
          [
           "RocketBeansTV",
           "German"
          ],
          [
           "MarcaoRX",
           "Portuguese"
          ],
          [
           "BananaSlamJamma",
           "English"
          ],
          [
           "Sologesang",
           "German"
          ],
          [
           "SoloRenektonOnly",
           "English"
          ],
          [
           "Tourva",
           "English"
          ],
          [
           "VaporaDark",
           "English"
          ],
          [
           "Mmorpg",
           "English"
          ],
          [
           "zorlaKOKA",
           "Portuguese"
          ],
          [
           "bebe872",
           "English"
          ],
          [
           "LuquEt4",
           "Portuguese"
          ],
          [
           "H0llyLP",
           "German"
          ],
          [
           "Robbaz",
           "English"
          ],
          [
           "BurkeBlack",
           "English"
          ],
          [
           "Crayator",
           "English"
          ],
          [
           "iLame",
           "Russian"
          ],
          [
           "GN_GG",
           "Russian"
          ],
          [
           "TobiasFate",
           "English"
          ],
          [
           "재슥짱 (pikra10)",
           "Korean"
          ],
          [
           "CoconutB",
           "English"
          ],
          [
           "포셔 (portialyn)",
           "Korean"
          ],
          [
           "Zombie_Barricades",
           "English"
          ],
          [
           "DanucD",
           "English"
          ],
          [
           "Xnapycz",
           "Czech"
          ],
          [
           "TSM_TheOddOne",
           "English"
          ],
          [
           "웁_게임방송 (alenenwooptv)",
           "Korean"
          ],
          [
           "_연두부_ (lovelyyeon)",
           "Korean"
          ],
          [
           "AladdinTV",
           "German"
          ],
          [
           "UncleBjorn",
           "Russian"
          ],
          [
           "Herdyn",
           "Czech"
          ],
          [
           "Killars",
           "English"
          ],
          [
           "StereOnline",
           "Portuguese"
          ],
          [
           "GoBGG",
           "French"
          ],
          [
           "Krayn_Live",
           "French"
          ],
          [
           "JohnPitterTV",
           "Portuguese"
          ],
          [
           "Drjayfisto",
           "English"
          ],
          [
           "jorbs",
           "English"
          ],
          [
           "Xop0",
           "Russian"
          ],
          [
           "skill4ltu",
           "English"
          ],
          [
           "Buozzi",
           "Portuguese"
          ],
          [
           "RyuQuezacotl",
           "English"
          ],
          [
           "Hitch",
           "English"
          ],
          [
           "HellYeahPlay",
           "Russian"
          ],
          [
           "빅헤드 (bighead033)",
           "Korean"
          ],
          [
           "wingz",
           "Spanish"
          ],
          [
           "햇살살 (hatsalsal)",
           "Korean"
          ],
          [
           "小夜夜 (albislol)",
           "Chinese"
          ],
          [
           "しゃるる (syaruru3)",
           "Japanese"
          ],
          [
           "Altair",
           "French"
          ],
          [
           "BoarControlHS",
           "English"
          ],
          [
           "TommyKayLIVE",
           "English"
          ],
          [
           "SaltyBet",
           "English"
          ],
          [
           "JeffHoogland",
           "English"
          ],
          [
           "NumotTheNummy",
           "English"
          ],
          [
           "TMemoryy",
           "English"
          ],
          [
           "armateam",
           "French"
          ],
          [
           "BlackFIreIce",
           "Polish"
          ],
          [
           "헤징 (hejin0_0)",
           "Korean"
          ],
          [
           "Weak3n",
           "English"
          ],
          [
           "RelaxBeats",
           "English"
          ],
          [
           "luke4316live",
           "Italian"
          ],
          [
           "CyrusTWO",
           "Swedish"
          ],
          [
           "크캣66 (crazzyccat)",
           "Korean"
          ],
          [
           "ipav999",
           "English"
          ],
          [
           "Sonecarox",
           "Portuguese"
          ],
          [
           "칸데르니아 (jmjdoc)",
           "Korean"
          ],
          [
           "스피드소닉 (dragon3652)",
           "Korean"
          ],
          [
           "HeyarTV",
           "French"
          ],
          [
           "FanHOTS",
           "English"
          ],
          [
           "무굴 (moogrr1211)",
           "Korean"
          ],
          [
           "voicetv",
           "Thai"
          ],
          [
           "SaltyTeemo",
           "English"
          ],
          [
           "MarketTradersTV",
           "English"
          ],
          [
           "runitup247",
           "English"
          ],
          [
           "Japan_ASMR",
           "Japanese"
          ]
         ],
         "hovertemplate": "Peak Viewers=%{x}<br>Average Viewers=%{y}<br>Channel=%{customdata[0]}<br>Language=%{customdata[1]}<br>Followers=%{marker.color}<extra></extra>",
         "legendgroup": "",
         "marker": {
          "color": [
           4487489,
           3795667,
           663297,
           7744066,
           541644,
           1767635,
           492954,
           1254031,
           820675,
           159384,
           5310163,
           973727,
           3944850,
           1260160,
           8938903,
           1563438,
           880728,
           1093212,
           1011924,
           1796619,
           5751354,
           1724316,
           587677,
           3246298,
           1162746,
           1801697,
           1409120,
           523758,
           1029203,
           428284,
           2911316,
           1894953,
           934688,
           968465,
           3983847,
           3558217,
           616168,
           2149306,
           148183,
           250709,
           401400,
           349054,
           502467,
           1681615,
           746865,
           5265659,
           143916,
           619382,
           207484,
           1501197,
           1549722,
           1189614,
           3611359,
           1585519,
           178612,
           2607076,
           2411995,
           162040,
           1792625,
           6726893,
           638657,
           122486,
           923689,
           727059,
           346934,
           4074287,
           365714,
           501371,
           5367605,
           571210,
           503346,
           999480,
           2786162,
           425797,
           1075101,
           1287954,
           511431,
           777510,
           315637,
           182492,
           829700,
           276242,
           1216020,
           337177,
           203419,
           1087377,
           521938,
           584831,
           4450718,
           248829,
           688715,
           845158,
           111646,
           216558,
           1068260,
           4115083,
           575769,
           2951980,
           3530767,
           2666382,
           3445134,
           918654,
           175061,
           401222,
           1660204,
           1748928,
           348447,
           326118,
           530822,
           2035180,
           61206,
           2401580,
           1865296,
           893010,
           520519,
           93616,
           1739112,
           457502,
           219539,
           680023,
           828896,
           784966,
           146035,
           1852272,
           308528,
           66223,
           173861,
           80290,
           840624,
           2115596,
           427926,
           93045,
           565661,
           1878416,
           1080764,
           1293451,
           508816,
           702744,
           672403,
           141026,
           2942212,
           276488,
           1223076,
           659652,
           1151712,
           157820,
           141684,
           323856,
           542580,
           253065,
           244467,
           636568,
           697007,
           786983,
           3135667,
           362297,
           241924,
           1128907,
           391726,
           2716270,
           342409,
           2009972,
           689582,
           961860,
           248277,
           337972,
           476096,
           373484,
           1448018,
           1389835,
           706537,
           2137521,
           593564,
           1258173,
           258876,
           160226,
           1701314,
           658658,
           1607134,
           107484,
           149775,
           824676,
           722041,
           203549,
           728097,
           826222,
           462128,
           157620,
           143535,
           126546,
           1874932,
           354734,
           810622,
           299048,
           883706,
           731808,
           362062,
           885915,
           1478270,
           505361,
           381918,
           1278824,
           426716,
           2355063,
           1204773,
           604374,
           220873,
           336394,
           272944,
           385250,
           2601858,
           470123,
           955846,
           1194476,
           825727,
           682899,
           1422862,
           1264808,
           1372290,
           4520305,
           833047,
           465887,
           1461767,
           71730,
           418710,
           1869993,
           919026,
           1166681,
           428073,
           1015521,
           146163,
           850944,
           1001350,
           1055613,
           2138294,
           297359,
           1472104,
           1258713,
           305311,
           289455,
           479900,
           361360,
           576903,
           740343,
           390579,
           279864,
           1340283,
           204348,
           234471,
           864324,
           648084,
           621921,
           583881,
           186208,
           226344,
           341549,
           773712,
           95371,
           301033,
           538532,
           529814,
           878934,
           330772,
           651994,
           733628,
           675908,
           1008040,
           609723,
           1681884,
           434200,
           108410,
           787371,
           1308165,
           777611,
           817365,
           108623,
           535211,
           1363222,
           576276,
           66198,
           392024,
           591653,
           598579,
           521201,
           285474,
           1288969,
           469944,
           227062,
           1651212,
           895851,
           634982,
           352412,
           1024814,
           514866,
           730679,
           1134153,
           99807,
           611890,
           196635,
           526389,
           507418,
           308815,
           614395,
           334591,
           471970,
           646758,
           131966,
           293748,
           1379123,
           1089830,
           28818,
           903261,
           1476226,
           411993,
           726730,
           269447,
           884661,
           1028544,
           574927,
           284899,
           7102,
           413458,
           412495,
           786562,
           1242014,
           875087,
           173271,
           858427,
           117084,
           494445,
           142446,
           479368,
           195423,
           347824,
           665430,
           303671,
           923377,
           375749,
           770535,
           859439,
           2652018,
           323364,
           293595,
           166007,
           580794,
           59697,
           461534,
           763886,
           518090,
           1717150,
           354579,
           755116,
           923448,
           79099,
           112874,
           594239,
           455444,
           215360,
           79392,
           527540,
           369273,
           204605,
           622358,
           309322,
           988237,
           493207,
           328671,
           737161,
           275174,
           383892,
           85097,
           1327059,
           1259972,
           571183,
           572789,
           797244,
           414951,
           331208,
           308459,
           268942,
           241746,
           380159,
           489623,
           1076499,
           193058,
           242969,
           179552,
           302593,
           71596,
           193614,
           3000509,
           1659108,
           127151,
           1234662,
           1272899,
           668807,
           1433703,
           516113,
           269408,
           306920,
           367223,
           244440,
           339545,
           34358,
           1001739,
           1191987,
           504653,
           185784,
           327888,
           431935,
           480299,
           972070,
           256448,
           533250,
           601927,
           514693,
           743040,
           237214,
           205002,
           312566,
           849972,
           1251182,
           295771,
           117916,
           778055,
           171858,
           772055,
           148568,
           828298,
           410814,
           292812,
           267004,
           82299,
           69183,
           861594,
           425072,
           598678,
           1677690,
           318230,
           710277,
           615027,
           252495,
           709343,
           599036,
           272391,
           428179,
           658323,
           279204,
           179420,
           182107,
           688868,
           795869,
           258402,
           408958,
           442493,
           202883,
           73409,
           308927,
           762778,
           573657,
           315264,
           190452,
           240030,
           90359,
           494643,
           269080,
           482061,
           86502,
           173807,
           86590,
           261139,
           555334,
           267948,
           703464,
           442412,
           386804,
           164902,
           271202,
           2641880,
           252042,
           374480,
           149073,
           284563,
           431285,
           1203324,
           1536757,
           302633,
           322895,
           222046,
           353687,
           449520,
           455056,
           597890,
           523512,
           273980,
           195405,
           309594,
           121053,
           329065,
           694253,
           416920,
           302419,
           93358,
           124232,
           360418,
           512592,
           446426,
           212578,
           241602,
           171113,
           50286,
           978645,
           1751290,
           424374,
           164092,
           489270,
           306435,
           871405,
           330060,
           95643,
           320629,
           294217,
           334594,
           156726,
           165823,
           433078,
           193757,
           149648,
           154845,
           183885,
           844681,
           142427,
           705098,
           547154,
           395859,
           259624,
           542991,
           430649,
           730326,
           373375,
           375911,
           58786,
           857099,
           393432,
           372334,
           167584,
           237909,
           977377,
           511861,
           51589,
           254401,
           475075,
           435872,
           262104,
           1041932,
           122694,
           461081,
           165439,
           169973,
           388878,
           276694,
           48007,
           251812,
           160000,
           377689,
           199880,
           358498,
           423002,
           284620,
           57205,
           106365,
           270720,
           155382,
           788684,
           185506,
           591500,
           301329,
           380488,
           294277,
           665021,
           238155,
           336093,
           226974,
           223756,
           331632,
           343191,
           369667,
           328473,
           120586,
           178553,
           344859,
           260728,
           312280,
           221461,
           534759,
           76050,
           393639,
           1707804,
           299033,
           159402,
           137885,
           253619,
           349467,
           292558,
           317896,
           336181,
           150944,
           346566,
           184033,
           81928,
           448316,
           244437,
           274875,
           283503,
           375646,
           542892,
           131484,
           732192,
           915023,
           505362,
           767727,
           153703,
           630255,
           570621,
           495558,
           228316,
           331744,
           251700,
           153870,
           201657,
           170718,
           391656,
           175503,
           166726,
           277256,
           204451,
           169505,
           485787,
           259338,
           537519,
           247303,
           148702,
           134757,
           234884,
           502696,
           572005,
           84234,
           1866339,
           287639,
           247056,
           656860,
           103636,
           1519266,
           30986,
           255156,
           314170,
           319860,
           105368,
           342691,
           357844,
           1474090,
           521166,
           463188,
           144116,
           489577,
           220585,
           391413,
           272635,
           356683,
           529504,
           219431,
           100767,
           633443,
           362794,
           416329,
           123954,
           285509,
           240835,
           124020,
           215413,
           595939,
           868738,
           254516,
           132642,
           296481,
           60987,
           57130,
           159117,
           194933,
           202779,
           206184,
           415795,
           770030,
           180412,
           135311,
           151920,
           198304,
           346631,
           547446,
           507730,
           244207,
           296560,
           171871,
           279922,
           159763,
           514073,
           431852,
           82570,
           141167,
           613135,
           145476,
           220488,
           135446,
           142209,
           165232,
           366463,
           147542,
           255595,
           200953,
           118305,
           95477,
           1368076,
           310100,
           205378,
           741652,
           529357,
           267984,
           312944,
           309300,
           189654,
           178477,
           411346,
           76777,
           200619,
           151886,
           318995,
           309065,
           99600,
           273504,
           182260,
           359260,
           157981,
           252184,
           405554,
           559877,
           205041,
           34119,
           293665,
           196136,
           274237,
           285920,
           342850,
           617665,
           82578,
           151788,
           317125,
           200012,
           107835,
           214028,
           86544,
           559647,
           130323,
           242205,
           252913,
           266853,
           216106,
           140855,
           116653,
           120494,
           107476,
           160387,
           121984,
           183960,
           283232,
           767187,
           104526,
           134611,
           127963,
           207369,
           94929,
           251416,
           348598,
           179920,
           113551,
           180668,
           105341,
           70814,
           252717,
           114376,
           240206,
           57634,
           165906,
           250786,
           375697,
           231584,
           168463,
           255949,
           1233300,
           398634,
           324765,
           331662,
           460463,
           430755,
           53124,
           94820,
           386948,
           421256,
           102225,
           116897,
           775987,
           105730,
           144898,
           183900,
           103260,
           260119,
           85678,
           76666,
           167132,
           85247,
           536792,
           31323,
           199617,
           206681,
           312799,
           835787,
           357385,
           169330,
           141898,
           73584,
           255840,
           96728,
           65688,
           149158,
           264192,
           100852,
           236407,
           162917,
           333858,
           489174,
           473157,
           260125,
           152821,
           813371,
           414577,
           206794,
           256353,
           245715,
           470873,
           212053,
           89608,
           260779,
           113658,
           173713,
           137954,
           244133,
           86561,
           220819,
           151266,
           198818,
           171425,
           124835,
           220789,
           255944,
           177595,
           79270,
           281664,
           396862,
           85336,
           528396,
           706212,
           287063,
           207508,
           78971,
           151098,
           125803,
           156597,
           109068,
           147351,
           118276,
           222796,
           234312,
           82289,
           80566,
           71579,
           185684,
           114154,
           199618,
           184078,
           126282,
           215304,
           67472,
           265814,
           209700,
           135687,
           86644,
           149362,
           106235,
           170668,
           579629,
           68907,
           510330,
           428553,
           88697,
           111954,
           183891,
           496790,
           309837,
           301633,
           586475,
           102528,
           71953,
           88792,
           93991,
           85764,
           108784,
           71327,
           200878,
           38410,
           247236,
           272662,
           92634,
           122158,
           117425,
           177741,
           100599,
           416018,
           166594,
           170181,
           58531,
           391603,
           287553,
           101359,
           235167,
           361102,
           70232,
           74404,
           151000,
           229652,
           276421,
           599828,
           233263,
           91514,
           701822,
           77376,
           188378,
           39485,
           172386,
           546052,
           94551,
           864087,
           125615,
           108382,
           110211,
           111003,
           410224,
           46971,
           327645,
           229586,
           125775,
           286184,
           130341,
           70609,
           94751,
           127741,
           75290,
           79063,
           96343,
           136885,
           213212,
           85695,
           77861,
           146276,
           33726,
           42265,
           79204,
           127770,
           224099,
           68914,
           103069,
           171107,
           187315,
           108895,
           123451,
           188176,
           166162,
           168531,
           96691,
           35930,
           163956,
           87530,
           30877,
           35503,
           124479,
           64587,
           37162,
           3660,
           173196,
           30413,
           91608,
           67707
          ],
          "coloraxis": "coloraxis",
          "size": 10,
          "symbol": "circle"
         },
         "mode": "markers",
         "name": "",
         "orientation": "v",
         "showlegend": false,
         "type": "scatter",
         "x": [
          639375,
          538444,
          483530,
          471281,
          457060,
          387315,
          364816,
          346131,
          329195,
          319862,
          310998,
          305119,
          300575,
          288459,
          285644,
          263720,
          262273,
          259210,
          255542,
          254493,
          240096,
          234826,
          233009,
          222720,
          214124,
          212201,
          206681,
          204491,
          189859,
          182869,
          181600,
          173238,
          171861,
          170131,
          170115,
          169084,
          168112,
          158972,
          153252,
          151094,
          148350,
          147514,
          146577,
          145470,
          144066,
          142067,
          141406,
          140557,
          137531,
          135471,
          132224,
          130795,
          130401,
          128345,
          126254,
          125408,
          125133,
          124818,
          123796,
          122552,
          121009,
          118125,
          116547,
          116245,
          115737,
          115633,
          114234,
          113167,
          112160,
          110800,
          110095,
          109148,
          107833,
          107069,
          106900,
          106126,
          106003,
          105359,
          104568,
          103833,
          102022,
          101124,
          100330,
          99858,
          98717,
          97838,
          97791,
          97550,
          97540,
          96236,
          95938,
          94869,
          94791,
          94083,
          93577,
          90696,
          89949,
          89706,
          89387,
          89170,
          89153,
          88516,
          87751,
          85416,
          85073,
          85051,
          84858,
          83666,
          82047,
          81926,
          81683,
          81644,
          80444,
          79976,
          78741,
          77708,
          75491,
          75219,
          74949,
          74670,
          74388,
          74199,
          74195,
          73861,
          73800,
          73664,
          73049,
          72483,
          72199,
          72100,
          71933,
          71423,
          70983,
          70587,
          69009,
          68813,
          68795,
          67732,
          66781,
          66706,
          66311,
          65622,
          65543,
          64308,
          61531,
          60846,
          60682,
          60386,
          60346,
          58818,
          58416,
          57917,
          57849,
          57813,
          57431,
          57254,
          57179,
          56790,
          56449,
          56325,
          56109,
          55752,
          55418,
          54885,
          54508,
          54477,
          54323,
          53702,
          53526,
          52584,
          52558,
          51989,
          51972,
          51854,
          51612,
          51422,
          51268,
          51244,
          50957,
          50598,
          50458,
          50103,
          49791,
          49496,
          49379,
          49127,
          49085,
          48810,
          48495,
          48457,
          48358,
          48331,
          48072,
          47683,
          47638,
          47343,
          47282,
          47081,
          46710,
          46106,
          45843,
          45741,
          45726,
          45671,
          45631,
          45549,
          45364,
          45247,
          45087,
          44976,
          44758,
          44649,
          44526,
          43882,
          43877,
          43859,
          43683,
          43615,
          43422,
          43397,
          43253,
          43164,
          43050,
          42822,
          42463,
          42374,
          42230,
          42135,
          42079,
          41994,
          41881,
          41700,
          41644,
          41610,
          40497,
          40407,
          40327,
          40183,
          40072,
          40001,
          39961,
          39433,
          39004,
          38592,
          38563,
          38412,
          38169,
          37980,
          37939,
          37872,
          37469,
          37236,
          37216,
          37187,
          37121,
          37023,
          36971,
          36968,
          36933,
          36742,
          36519,
          36340,
          36278,
          36258,
          35922,
          35865,
          35833,
          35011,
          34971,
          34830,
          34756,
          34345,
          33966,
          33902,
          33646,
          33624,
          33245,
          33075,
          33059,
          32856,
          32758,
          32671,
          32577,
          32463,
          32222,
          31874,
          31836,
          31809,
          31525,
          31194,
          31009,
          30706,
          30702,
          30648,
          30628,
          30514,
          30415,
          30357,
          30067,
          30044,
          29993,
          29983,
          29927,
          29658,
          29597,
          29435,
          29397,
          29316,
          29316,
          29272,
          29228,
          29173,
          28917,
          28898,
          28866,
          28830,
          28808,
          28779,
          28736,
          28709,
          27996,
          27956,
          27943,
          27529,
          27421,
          27416,
          27261,
          27188,
          27040,
          26999,
          26941,
          26754,
          26738,
          26715,
          26584,
          26572,
          26329,
          26274,
          26221,
          26141,
          26087,
          25985,
          25866,
          25500,
          25482,
          25478,
          25387,
          25340,
          25321,
          25314,
          25263,
          24923,
          24892,
          24765,
          24734,
          24727,
          24687,
          24675,
          24663,
          24611,
          24603,
          24576,
          24573,
          24521,
          24497,
          24470,
          24391,
          24357,
          24315,
          24286,
          24264,
          24263,
          24167,
          24101,
          23935,
          23813,
          23555,
          23552,
          23519,
          23490,
          23488,
          23448,
          23432,
          23408,
          23304,
          23255,
          23238,
          23107,
          23081,
          22857,
          22845,
          22759,
          22641,
          22607,
          22571,
          22496,
          22448,
          22375,
          22306,
          22231,
          22141,
          22132,
          22074,
          21999,
          21993,
          21935,
          21922,
          21815,
          21759,
          21721,
          21617,
          21594,
          21401,
          21369,
          21359,
          21341,
          21313,
          21309,
          21283,
          21262,
          21212,
          21187,
          21162,
          21136,
          21053,
          20936,
          20913,
          20861,
          20855,
          20851,
          20746,
          20745,
          20723,
          20609,
          20354,
          20284,
          20204,
          20179,
          20110,
          19953,
          19884,
          19755,
          19688,
          19611,
          19603,
          19328,
          19318,
          19304,
          19298,
          19267,
          19264,
          19262,
          19194,
          19156,
          19065,
          19032,
          19013,
          18963,
          18844,
          18826,
          18813,
          18804,
          18730,
          18686,
          18594,
          18552,
          18483,
          18473,
          18437,
          18421,
          18387,
          18317,
          18282,
          18270,
          18091,
          18090,
          17926,
          17866,
          17738,
          17697,
          17585,
          17513,
          17394,
          17361,
          17341,
          17327,
          17317,
          17253,
          17228,
          17165,
          17140,
          17100,
          17061,
          17036,
          16952,
          16860,
          16718,
          16702,
          16695,
          16681,
          16671,
          16622,
          16604,
          16577,
          16550,
          16518,
          16497,
          16461,
          16445,
          16441,
          16413,
          16370,
          16362,
          16289,
          16252,
          16243,
          16215,
          16193,
          16153,
          16128,
          16093,
          15928,
          15921,
          15901,
          15858,
          15792,
          15654,
          15608,
          15588,
          15588,
          15553,
          15547,
          15495,
          15476,
          15459,
          15429,
          15405,
          15296,
          15249,
          15242,
          15241,
          15237,
          15223,
          15223,
          15190,
          15185,
          15167,
          15155,
          15150,
          15139,
          15061,
          15034,
          15002,
          14940,
          14928,
          14684,
          14637,
          14634,
          14610,
          14602,
          14578,
          14566,
          14561,
          14550,
          14532,
          14502,
          14481,
          14480,
          14376,
          14353,
          14329,
          14288,
          14278,
          14261,
          14181,
          14177,
          14167,
          14160,
          14155,
          14110,
          14072,
          14020,
          14003,
          13955,
          13945,
          13884,
          13865,
          13825,
          13801,
          13788,
          13744,
          13731,
          13675,
          13675,
          13654,
          13639,
          13500,
          13495,
          13421,
          13419,
          13314,
          13295,
          13230,
          13179,
          13137,
          13108,
          13091,
          13080,
          13013,
          12999,
          12948,
          12893,
          12810,
          12762,
          12709,
          12708,
          12707,
          12676,
          12652,
          12648,
          12621,
          12620,
          12609,
          12540,
          12525,
          12478,
          12461,
          12457,
          12430,
          12411,
          12295,
          12292,
          12274,
          12180,
          12144,
          12141,
          12084,
          11976,
          11975,
          11974,
          11971,
          11861,
          11860,
          11854,
          11843,
          11839,
          11788,
          11782,
          11759,
          11751,
          11694,
          11693,
          11659,
          11533,
          11518,
          11495,
          11480,
          11457,
          11418,
          11405,
          11338,
          11305,
          11287,
          11279,
          11247,
          11245,
          11217,
          11200,
          11193,
          11192,
          11191,
          11178,
          11141,
          11117,
          11077,
          11063,
          11050,
          10985,
          10962,
          10929,
          10901,
          10888,
          10858,
          10845,
          10836,
          10815,
          10809,
          10776,
          10771,
          10739,
          10692,
          10656,
          10648,
          10628,
          10590,
          10587,
          10569,
          10549,
          10543,
          10455,
          10391,
          10352,
          10350,
          10349,
          10316,
          10121,
          10110,
          10100,
          10087,
          10080,
          10030,
          10011,
          10010,
          9938,
          9918,
          9822,
          9738,
          9676,
          9671,
          9671,
          9665,
          9616,
          9611,
          9605,
          9601,
          9561,
          9545,
          9540,
          9531,
          9514,
          9497,
          9460,
          9459,
          9448,
          9437,
          9408,
          9401,
          9379,
          9339,
          9339,
          9312,
          9307,
          9248,
          9203,
          9142,
          9137,
          9135,
          9127,
          9118,
          9115,
          9110,
          9038,
          8980,
          8886,
          8874,
          8855,
          8838,
          8810,
          8794,
          8770,
          8709,
          8684,
          8622,
          8596,
          8580,
          8560,
          8554,
          8535,
          8533,
          8509,
          8467,
          8448,
          8409,
          8406,
          8380,
          8377,
          8375,
          8354,
          8337,
          8309,
          8260,
          8248,
          8247,
          8221,
          8212,
          8210,
          8185,
          8181,
          8160,
          8140,
          8103,
          8098,
          8063,
          8057,
          8048,
          8014,
          7998,
          7955,
          7943,
          7940,
          7911,
          7894,
          7872,
          7854,
          7853,
          7809,
          7808,
          7777,
          7721,
          7707,
          7683,
          7681,
          7659,
          7628,
          7592,
          7560,
          7504,
          7471,
          7441,
          7440,
          7435,
          7416,
          7393,
          7377,
          7318,
          7302,
          7289,
          7268,
          7264,
          7262,
          7248,
          7245,
          7244,
          7223,
          7220,
          7216,
          7208,
          7200,
          7196,
          7176,
          7172,
          7172,
          7169,
          7165,
          7143,
          7138,
          7136,
          7132,
          7111,
          7099,
          7019,
          7016,
          6981,
          6955,
          6899,
          6867,
          6861,
          6813,
          6802,
          6798,
          6787,
          6781,
          6765,
          6763,
          6738,
          6728,
          6721,
          6688,
          6611,
          6607,
          6577,
          6575,
          6545,
          6524,
          6453,
          6450,
          6431,
          6411,
          6328,
          6300,
          6298,
          6289,
          6236,
          6221,
          6217,
          6213,
          6210,
          6159,
          6148,
          6144,
          6075,
          5988,
          5981,
          5967,
          5956,
          5955,
          5944,
          5934,
          5928,
          5916,
          5831,
          5827,
          5792,
          5788,
          5698,
          5597,
          5577,
          5572,
          5530,
          5521,
          5507,
          5460,
          5455,
          5451,
          5448,
          5446,
          5441,
          5425,
          5370,
          5363,
          5358,
          5322,
          5242,
          5227,
          5224,
          5223,
          5210,
          5152,
          5120,
          5118,
          5067,
          5041,
          4994,
          4977,
          4965,
          4958,
          4958,
          4938,
          4922,
          4911,
          4911,
          4859,
          4681,
          4659,
          4596,
          4498,
          4497,
          4439,
          4388,
          4363,
          4290,
          4282,
          4279,
          4265,
          4254,
          4232,
          4227,
          4198,
          4183,
          4148,
          4092,
          4084,
          4074,
          4049,
          4036,
          4022,
          3976,
          3946,
          3940,
          3940,
          3915,
          3740,
          3710,
          3702,
          3622,
          3536,
          3467,
          3375,
          3359,
          3244,
          3181,
          3044,
          3032,
          2922,
          2830,
          2757,
          2727,
          2543,
          2536,
          2445,
          2395,
          2379,
          2343,
          2104,
          2008,
          1874,
          1803,
          1357,
          1182,
          496
         ],
         "xaxis": "x",
         "y": [
          20960,
          28887,
          147643,
          29612,
          126232,
          10976,
          17020,
          12843,
          29956,
          2013,
          25610,
          28830,
          7714,
          24595,
          29602,
          42414,
          10516,
          6210,
          25918,
          33132,
          42948,
          6734,
          12947,
          27716,
          46459,
          5001,
          36086,
          3020,
          13089,
          19495,
          33514,
          22837,
          36030,
          19897,
          53986,
          28584,
          8481,
          19260,
          12058,
          3310,
          4135,
          1751,
          17573,
          9722,
          8066,
          25664,
          6728,
          39848,
          3199,
          11535,
          22070,
          9190,
          6553,
          12171,
          796,
          12377,
          17779,
          1886,
          12868,
          9396,
          13435,
          1560,
          2635,
          5305,
          8627,
          24181,
          5123,
          24689,
          16026,
          17689,
          6328,
          14509,
          19659,
          9229,
          16422,
          24395,
          5044,
          13189,
          3088,
          1595,
          11423,
          2801,
          17860,
          4714,
          22356,
          14195,
          1534,
          6524,
          23794,
          3688,
          9062,
          7656,
          1029,
          1061,
          6829,
          8311,
          5114,
          18180,
          22381,
          21739,
          19560,
          4134,
          6127,
          22130,
          9702,
          2957,
          5684,
          5767,
          2122,
          12996,
          798,
          10750,
          8919,
          6789,
          4410,
          11713,
          14423,
          3197,
          6530,
          5772,
          7522,
          6309,
          35333,
          7438,
          9633,
          656,
          19753,
          1288,
          24739,
          8717,
          7173,
          915,
          4560,
          10531,
          3836,
          8264,
          18985,
          2741,
          5573,
          5695,
          12982,
          15405,
          13224,
          2844,
          8208,
          10161,
          13675,
          4021,
          5368,
          2757,
          4939,
          1234,
          17488,
          5032,
          9728,
          5332,
          5697,
          10626,
          8683,
          29414,
          6636,
          4919,
          8010,
          1384,
          5158,
          2779,
          5671,
          5300,
          5331,
          13364,
          4365,
          15483,
          13741,
          5333,
          1737,
          3379,
          3507,
          7554,
          10735,
          3827,
          3076,
          5512,
          3599,
          807,
          7134,
          4886,
          1858,
          1696,
          4264,
          5300,
          18906,
          4037,
          8673,
          5013,
          3652,
          5165,
          3073,
          6795,
          3180,
          7155,
          11717,
          7083,
          5163,
          7327,
          6039,
          4207,
          2090,
          2504,
          4621,
          12869,
          7699,
          6543,
          4111,
          9301,
          13154,
          3838,
          8929,
          11343,
          9583,
          7112,
          9235,
          5843,
          4463,
          8383,
          7265,
          1816,
          8546,
          3977,
          10053,
          5792,
          1728,
          3735,
          5268,
          3311,
          6743,
          4015,
          7985,
          4990,
          1414,
          3828,
          6627,
          3247,
          4147,
          6469,
          2260,
          8075,
          9892,
          2399,
          1659,
          1830,
          3410,
          1586,
          1917,
          4586,
          1153,
          3969,
          10290,
          3069,
          9306,
          6616,
          3203,
          3429,
          1985,
          7414,
          4647,
          6249,
          9117,
          9086,
          12723,
          12367,
          1878,
          3276,
          10080,
          992,
          3270,
          1941,
          1588,
          8407,
          2913,
          1603,
          5621,
          7899,
          2311,
          4150,
          3302,
          4167,
          1037,
          829,
          6883,
          5620,
          19681,
          1638,
          3756,
          6073,
          5739,
          3846,
          1674,
          2318,
          3748,
          2279,
          2484,
          5864,
          10618,
          2530,
          4393,
          1951,
          2336,
          2413,
          9256,
          5632,
          1127,
          11696,
          2650,
          3046,
          10173,
          4841,
          3073,
          4193,
          5295,
          1593,
          4530,
          2761,
          2095,
          5711,
          6060,
          5296,
          2225,
          4215,
          4293,
          12201,
          4083,
          10170,
          3449,
          3006,
          5070,
          5195,
          2714,
          4826,
          5948,
          6328,
          3478,
          5660,
          3953,
          2331,
          6681,
          1666,
          2431,
          4991,
          1959,
          2717,
          8485,
          7180,
          11220,
          562,
          1933,
          5856,
          6767,
          7141,
          872,
          2991,
          2079,
          2034,
          4103,
          4496,
          3678,
          3187,
          1403,
          2777,
          4087,
          8479,
          3620,
          8165,
          4455,
          3894,
          6091,
          4591,
          4642,
          4219,
          1008,
          1457,
          3402,
          1904,
          2375,
          3875,
          2268,
          3043,
          2004,
          3550,
          2256,
          2570,
          4281,
          6775,
          1076,
          2726,
          3430,
          3352,
          2196,
          3152,
          1828,
          2530,
          2717,
          1460,
          3054,
          2465,
          2153,
          2401,
          2228,
          1824,
          3082,
          1157,
          2239,
          2690,
          1569,
          6394,
          9104,
          5172,
          4440,
          2146,
          937,
          3173,
          4221,
          4632,
          1347,
          2902,
          8152,
          3992,
          7394,
          3791,
          1744,
          2688,
          2999,
          2552,
          543,
          326,
          4259,
          2326,
          3344,
          1397,
          4473,
          1235,
          1572,
          2540,
          3414,
          4319,
          2239,
          3563,
          1931,
          2712,
          2647,
          1678,
          3948,
          2997,
          8405,
          1208,
          6125,
          1820,
          4427,
          2115,
          2668,
          5858,
          2181,
          1190,
          1668,
          1388,
          4426,
          2669,
          2566,
          979,
          1227,
          1236,
          2653,
          4288,
          2843,
          7165,
          2431,
          2557,
          2434,
          2174,
          7234,
          2612,
          5941,
          1802,
          3141,
          3884,
          2441,
          3312,
          4403,
          4534,
          3131,
          3846,
          2284,
          1660,
          2185,
          8255,
          2051,
          1401,
          2227,
          1397,
          2124,
          6198,
          3964,
          5485,
          375,
          4016,
          1363,
          2391,
          5303,
          2039,
          2038,
          3746,
          1543,
          2217,
          3502,
          5913,
          2663,
          5107,
          1394,
          1983,
          2652,
          4985,
          2027,
          4926,
          4773,
          1739,
          4040,
          1462,
          2597,
          2876,
          1250,
          971,
          3109,
          2492,
          2392,
          4663,
          4415,
          3711,
          4731,
          3365,
          1270,
          2655,
          1790,
          1053,
          5459,
          4445,
          3607,
          2164,
          1133,
          3024,
          1685,
          1169,
          1136,
          2247,
          1635,
          2387,
          2045,
          1363,
          1692,
          1681,
          2348,
          4159,
          4629,
          1190,
          898,
          1023,
          1377,
          1470,
          3700,
          4420,
          2947,
          1865,
          1281,
          1753,
          897,
          313,
          3683,
          4100,
          1592,
          925,
          2603,
          1022,
          2149,
          2092,
          1378,
          2419,
          5216,
          954,
          3252,
          3519,
          992,
          1205,
          3045,
          2912,
          909,
          2779,
          1557,
          2177,
          1460,
          2560,
          2791,
          2244,
          1383,
          2230,
          3926,
          1264,
          4269,
          3893,
          1317,
          4922,
          1475,
          4680,
          1786,
          1282,
          4710,
          2317,
          1332,
          3401,
          5401,
          955,
          2764,
          3766,
          2914,
          964,
          402,
          2483,
          1505,
          793,
          4378,
          2104,
          1312,
          1643,
          2403,
          910,
          2772,
          2202,
          2286,
          2934,
          3859,
          2602,
          2410,
          1844,
          3184,
          4538,
          3336,
          3953,
          2885,
          2735,
          2012,
          1891,
          4062,
          2796,
          2795,
          1333,
          2175,
          1149,
          1821,
          1953,
          3337,
          547,
          2012,
          1500,
          1123,
          1671,
          3011,
          1692,
          1443,
          2061,
          1630,
          1787,
          1255,
          2571,
          884,
          1192,
          1889,
          3292,
          2207,
          1802,
          1828,
          2369,
          987,
          1601,
          2204,
          1812,
          2004,
          2825,
          1243,
          1696,
          1400,
          3287,
          1357,
          1166,
          1304,
          2210,
          3024,
          3084,
          1107,
          2205,
          1293,
          2023,
          1153,
          2733,
          2028,
          1434,
          1524,
          3889,
          2523,
          1101,
          2178,
          2052,
          1313,
          1584,
          1674,
          3581,
          2863,
          1139,
          1373,
          1892,
          1237,
          1027,
          3680,
          1412,
          1756,
          2900,
          2638,
          780,
          1801,
          2240,
          1323,
          4355,
          1432,
          1111,
          1814,
          2106,
          1670,
          824,
          1759,
          1659,
          1891,
          980,
          1484,
          3059,
          3968,
          1444,
          2072,
          1748,
          2296,
          1466,
          1937,
          1816,
          2526,
          4159,
          1122,
          2124,
          2184,
          1603,
          4576,
          2103,
          1845,
          1802,
          2256,
          1537,
          1297,
          789,
          1220,
          1273,
          1475,
          2834,
          1105,
          1096,
          1777,
          1586,
          1207,
          996,
          3107,
          2549,
          1736,
          2882,
          3150,
          849,
          3105,
          1697,
          2762,
          1936,
          2269,
          980,
          978,
          644,
          315,
          1569,
          1749,
          2189,
          1534,
          1150,
          1885,
          1030,
          1229,
          1010,
          2840,
          2635,
          1906,
          1196,
          2289,
          2533,
          2984,
          2683,
          1259,
          1793,
          3247,
          1169,
          2061,
          2452,
          1213,
          1989,
          1205,
          1584,
          2488,
          2519,
          1647,
          1466,
          2217,
          1914,
          520,
          1216,
          683,
          1268,
          2249,
          1768,
          1186,
          974,
          1052,
          1407,
          1121,
          1205,
          2318,
          1486,
          1929,
          1782,
          2176,
          1159,
          1205,
          1343,
          1118,
          2322,
          1727,
          1544,
          1559,
          725,
          1711,
          1481,
          2478,
          1838,
          719,
          1104,
          465,
          1101,
          971,
          1400,
          1237,
          1531,
          1093,
          1458,
          1649,
          1502,
          1475,
          1808,
          1563,
          1374,
          1353,
          1142,
          1589,
          1879,
          2809,
          1641,
          839,
          2168,
          1254,
          1713,
          567,
          1589,
          1724,
          1541,
          1137,
          1961,
          1074,
          850,
          1876,
          1605,
          897,
          939,
          1333,
          1248,
          1361,
          1291,
          1012,
          1516,
          1075,
          1788,
          1329,
          1351,
          1279,
          1796,
          2103,
          1176,
          1886,
          1119,
          1669,
          2140,
          1522,
          1085,
          1467,
          1284,
          1138,
          1149,
          728,
          1402,
          1515,
          1608,
          1389,
          1711,
          1422,
          1165,
          2675,
          991,
          1851,
          1615,
          779,
          696,
          1258,
          1263,
          1072,
          1735,
          1185,
          2338,
          908,
          1247,
          1087,
          1081,
          1116,
          1427,
          2154,
          1796,
          1243,
          1715,
          1233,
          1068,
          1171,
          1349,
          735,
          2045,
          1572,
          913,
          1418,
          1115,
          1416,
          975,
          1180,
          642,
          785,
          1400,
          918,
          900,
          1105,
          1243,
          1110,
          1503,
          872,
          976,
          875,
          1706,
          793,
          1347,
          1302,
          706,
          1309,
          1183,
          1064,
          1124,
          571,
          1070,
          1118,
          924,
          479,
          1070,
          1017,
          1260,
          235,
          636,
          1027,
          644,
          737,
          569,
          756,
          529,
          786,
          1090,
          879,
          314,
          476,
          297,
          422,
          271
         ],
         "yaxis": "y"
        }
       ],
       "layout": {
        "coloraxis": {
         "colorbar": {
          "title": {
           "text": "Followers"
          }
         },
         "colorscale": [
          [
           0,
           "#00224e"
          ],
          [
           0.1111111111111111,
           "#123570"
          ],
          [
           0.2222222222222222,
           "#3b496c"
          ],
          [
           0.3333333333333333,
           "#575d6d"
          ],
          [
           0.4444444444444444,
           "#707173"
          ],
          [
           0.5555555555555556,
           "#8a8678"
          ],
          [
           0.6666666666666666,
           "#a59c74"
          ],
          [
           0.7777777777777778,
           "#c3b369"
          ],
          [
           0.8888888888888888,
           "#e1cc55"
          ],
          [
           1,
           "#fee838"
          ]
         ]
        },
        "height": 600,
        "legend": {
         "tracegroupgap": 0
        },
        "margin": {
         "b": 20,
         "l": 10,
         "r": 10,
         "t": 80
        },
        "template": {
         "data": {
          "bar": [
           {
            "error_x": {
             "color": "#2a3f5f"
            },
            "error_y": {
             "color": "#2a3f5f"
            },
            "marker": {
             "line": {
              "color": "#E5ECF6",
              "width": 0.5
             },
             "pattern": {
              "fillmode": "overlay",
              "size": 10,
              "solidity": 0.2
             }
            },
            "type": "bar"
           }
          ],
          "barpolar": [
           {
            "marker": {
             "line": {
              "color": "#E5ECF6",
              "width": 0.5
             },
             "pattern": {
              "fillmode": "overlay",
              "size": 10,
              "solidity": 0.2
             }
            },
            "type": "barpolar"
           }
          ],
          "carpet": [
           {
            "aaxis": {
             "endlinecolor": "#2a3f5f",
             "gridcolor": "white",
             "linecolor": "white",
             "minorgridcolor": "white",
             "startlinecolor": "#2a3f5f"
            },
            "baxis": {
             "endlinecolor": "#2a3f5f",
             "gridcolor": "white",
             "linecolor": "white",
             "minorgridcolor": "white",
             "startlinecolor": "#2a3f5f"
            },
            "type": "carpet"
           }
          ],
          "choropleth": [
           {
            "colorbar": {
             "outlinewidth": 0,
             "ticks": ""
            },
            "type": "choropleth"
           }
          ],
          "contour": [
           {
            "colorbar": {
             "outlinewidth": 0,
             "ticks": ""
            },
            "colorscale": [
             [
              0,
              "#0d0887"
             ],
             [
              0.1111111111111111,
              "#46039f"
             ],
             [
              0.2222222222222222,
              "#7201a8"
             ],
             [
              0.3333333333333333,
              "#9c179e"
             ],
             [
              0.4444444444444444,
              "#bd3786"
             ],
             [
              0.5555555555555556,
              "#d8576b"
             ],
             [
              0.6666666666666666,
              "#ed7953"
             ],
             [
              0.7777777777777778,
              "#fb9f3a"
             ],
             [
              0.8888888888888888,
              "#fdca26"
             ],
             [
              1,
              "#f0f921"
             ]
            ],
            "type": "contour"
           }
          ],
          "contourcarpet": [
           {
            "colorbar": {
             "outlinewidth": 0,
             "ticks": ""
            },
            "type": "contourcarpet"
           }
          ],
          "heatmap": [
           {
            "colorbar": {
             "outlinewidth": 0,
             "ticks": ""
            },
            "colorscale": [
             [
              0,
              "#0d0887"
             ],
             [
              0.1111111111111111,
              "#46039f"
             ],
             [
              0.2222222222222222,
              "#7201a8"
             ],
             [
              0.3333333333333333,
              "#9c179e"
             ],
             [
              0.4444444444444444,
              "#bd3786"
             ],
             [
              0.5555555555555556,
              "#d8576b"
             ],
             [
              0.6666666666666666,
              "#ed7953"
             ],
             [
              0.7777777777777778,
              "#fb9f3a"
             ],
             [
              0.8888888888888888,
              "#fdca26"
             ],
             [
              1,
              "#f0f921"
             ]
            ],
            "type": "heatmap"
           }
          ],
          "heatmapgl": [
           {
            "colorbar": {
             "outlinewidth": 0,
             "ticks": ""
            },
            "colorscale": [
             [
              0,
              "#0d0887"
             ],
             [
              0.1111111111111111,
              "#46039f"
             ],
             [
              0.2222222222222222,
              "#7201a8"
             ],
             [
              0.3333333333333333,
              "#9c179e"
             ],
             [
              0.4444444444444444,
              "#bd3786"
             ],
             [
              0.5555555555555556,
              "#d8576b"
             ],
             [
              0.6666666666666666,
              "#ed7953"
             ],
             [
              0.7777777777777778,
              "#fb9f3a"
             ],
             [
              0.8888888888888888,
              "#fdca26"
             ],
             [
              1,
              "#f0f921"
             ]
            ],
            "type": "heatmapgl"
           }
          ],
          "histogram": [
           {
            "marker": {
             "pattern": {
              "fillmode": "overlay",
              "size": 10,
              "solidity": 0.2
             }
            },
            "type": "histogram"
           }
          ],
          "histogram2d": [
           {
            "colorbar": {
             "outlinewidth": 0,
             "ticks": ""
            },
            "colorscale": [
             [
              0,
              "#0d0887"
             ],
             [
              0.1111111111111111,
              "#46039f"
             ],
             [
              0.2222222222222222,
              "#7201a8"
             ],
             [
              0.3333333333333333,
              "#9c179e"
             ],
             [
              0.4444444444444444,
              "#bd3786"
             ],
             [
              0.5555555555555556,
              "#d8576b"
             ],
             [
              0.6666666666666666,
              "#ed7953"
             ],
             [
              0.7777777777777778,
              "#fb9f3a"
             ],
             [
              0.8888888888888888,
              "#fdca26"
             ],
             [
              1,
              "#f0f921"
             ]
            ],
            "type": "histogram2d"
           }
          ],
          "histogram2dcontour": [
           {
            "colorbar": {
             "outlinewidth": 0,
             "ticks": ""
            },
            "colorscale": [
             [
              0,
              "#0d0887"
             ],
             [
              0.1111111111111111,
              "#46039f"
             ],
             [
              0.2222222222222222,
              "#7201a8"
             ],
             [
              0.3333333333333333,
              "#9c179e"
             ],
             [
              0.4444444444444444,
              "#bd3786"
             ],
             [
              0.5555555555555556,
              "#d8576b"
             ],
             [
              0.6666666666666666,
              "#ed7953"
             ],
             [
              0.7777777777777778,
              "#fb9f3a"
             ],
             [
              0.8888888888888888,
              "#fdca26"
             ],
             [
              1,
              "#f0f921"
             ]
            ],
            "type": "histogram2dcontour"
           }
          ],
          "mesh3d": [
           {
            "colorbar": {
             "outlinewidth": 0,
             "ticks": ""
            },
            "type": "mesh3d"
           }
          ],
          "parcoords": [
           {
            "line": {
             "colorbar": {
              "outlinewidth": 0,
              "ticks": ""
             }
            },
            "type": "parcoords"
           }
          ],
          "pie": [
           {
            "automargin": true,
            "type": "pie"
           }
          ],
          "scatter": [
           {
            "fillpattern": {
             "fillmode": "overlay",
             "size": 10,
             "solidity": 0.2
            },
            "type": "scatter"
           }
          ],
          "scatter3d": [
           {
            "line": {
             "colorbar": {
              "outlinewidth": 0,
              "ticks": ""
             }
            },
            "marker": {
             "colorbar": {
              "outlinewidth": 0,
              "ticks": ""
             }
            },
            "type": "scatter3d"
           }
          ],
          "scattercarpet": [
           {
            "marker": {
             "colorbar": {
              "outlinewidth": 0,
              "ticks": ""
             }
            },
            "type": "scattercarpet"
           }
          ],
          "scattergeo": [
           {
            "marker": {
             "colorbar": {
              "outlinewidth": 0,
              "ticks": ""
             }
            },
            "type": "scattergeo"
           }
          ],
          "scattergl": [
           {
            "marker": {
             "colorbar": {
              "outlinewidth": 0,
              "ticks": ""
             }
            },
            "type": "scattergl"
           }
          ],
          "scattermapbox": [
           {
            "marker": {
             "colorbar": {
              "outlinewidth": 0,
              "ticks": ""
             }
            },
            "type": "scattermapbox"
           }
          ],
          "scatterpolar": [
           {
            "marker": {
             "colorbar": {
              "outlinewidth": 0,
              "ticks": ""
             }
            },
            "type": "scatterpolar"
           }
          ],
          "scatterpolargl": [
           {
            "marker": {
             "colorbar": {
              "outlinewidth": 0,
              "ticks": ""
             }
            },
            "type": "scatterpolargl"
           }
          ],
          "scatterternary": [
           {
            "marker": {
             "colorbar": {
              "outlinewidth": 0,
              "ticks": ""
             }
            },
            "type": "scatterternary"
           }
          ],
          "surface": [
           {
            "colorbar": {
             "outlinewidth": 0,
             "ticks": ""
            },
            "colorscale": [
             [
              0,
              "#0d0887"
             ],
             [
              0.1111111111111111,
              "#46039f"
             ],
             [
              0.2222222222222222,
              "#7201a8"
             ],
             [
              0.3333333333333333,
              "#9c179e"
             ],
             [
              0.4444444444444444,
              "#bd3786"
             ],
             [
              0.5555555555555556,
              "#d8576b"
             ],
             [
              0.6666666666666666,
              "#ed7953"
             ],
             [
              0.7777777777777778,
              "#fb9f3a"
             ],
             [
              0.8888888888888888,
              "#fdca26"
             ],
             [
              1,
              "#f0f921"
             ]
            ],
            "type": "surface"
           }
          ],
          "table": [
           {
            "cells": {
             "fill": {
              "color": "#EBF0F8"
             },
             "line": {
              "color": "white"
             }
            },
            "header": {
             "fill": {
              "color": "#C8D4E3"
             },
             "line": {
              "color": "white"
             }
            },
            "type": "table"
           }
          ]
         },
         "layout": {
          "annotationdefaults": {
           "arrowcolor": "#2a3f5f",
           "arrowhead": 0,
           "arrowwidth": 1
          },
          "autotypenumbers": "strict",
          "coloraxis": {
           "colorbar": {
            "outlinewidth": 0,
            "ticks": ""
           }
          },
          "colorscale": {
           "diverging": [
            [
             0,
             "#8e0152"
            ],
            [
             0.1,
             "#c51b7d"
            ],
            [
             0.2,
             "#de77ae"
            ],
            [
             0.3,
             "#f1b6da"
            ],
            [
             0.4,
             "#fde0ef"
            ],
            [
             0.5,
             "#f7f7f7"
            ],
            [
             0.6,
             "#e6f5d0"
            ],
            [
             0.7,
             "#b8e186"
            ],
            [
             0.8,
             "#7fbc41"
            ],
            [
             0.9,
             "#4d9221"
            ],
            [
             1,
             "#276419"
            ]
           ],
           "sequential": [
            [
             0,
             "#0d0887"
            ],
            [
             0.1111111111111111,
             "#46039f"
            ],
            [
             0.2222222222222222,
             "#7201a8"
            ],
            [
             0.3333333333333333,
             "#9c179e"
            ],
            [
             0.4444444444444444,
             "#bd3786"
            ],
            [
             0.5555555555555556,
             "#d8576b"
            ],
            [
             0.6666666666666666,
             "#ed7953"
            ],
            [
             0.7777777777777778,
             "#fb9f3a"
            ],
            [
             0.8888888888888888,
             "#fdca26"
            ],
            [
             1,
             "#f0f921"
            ]
           ],
           "sequentialminus": [
            [
             0,
             "#0d0887"
            ],
            [
             0.1111111111111111,
             "#46039f"
            ],
            [
             0.2222222222222222,
             "#7201a8"
            ],
            [
             0.3333333333333333,
             "#9c179e"
            ],
            [
             0.4444444444444444,
             "#bd3786"
            ],
            [
             0.5555555555555556,
             "#d8576b"
            ],
            [
             0.6666666666666666,
             "#ed7953"
            ],
            [
             0.7777777777777778,
             "#fb9f3a"
            ],
            [
             0.8888888888888888,
             "#fdca26"
            ],
            [
             1,
             "#f0f921"
            ]
           ]
          },
          "colorway": [
           "#636efa",
           "#EF553B",
           "#00cc96",
           "#ab63fa",
           "#FFA15A",
           "#19d3f3",
           "#FF6692",
           "#B6E880",
           "#FF97FF",
           "#FECB52"
          ],
          "font": {
           "color": "#2a3f5f"
          },
          "geo": {
           "bgcolor": "white",
           "lakecolor": "white",
           "landcolor": "#E5ECF6",
           "showlakes": true,
           "showland": true,
           "subunitcolor": "white"
          },
          "hoverlabel": {
           "align": "left"
          },
          "hovermode": "closest",
          "mapbox": {
           "style": "light"
          },
          "paper_bgcolor": "white",
          "plot_bgcolor": "#E5ECF6",
          "polar": {
           "angularaxis": {
            "gridcolor": "white",
            "linecolor": "white",
            "ticks": ""
           },
           "bgcolor": "#E5ECF6",
           "radialaxis": {
            "gridcolor": "white",
            "linecolor": "white",
            "ticks": ""
           }
          },
          "scene": {
           "xaxis": {
            "backgroundcolor": "#E5ECF6",
            "gridcolor": "white",
            "gridwidth": 2,
            "linecolor": "white",
            "showbackground": true,
            "ticks": "",
            "zerolinecolor": "white"
           },
           "yaxis": {
            "backgroundcolor": "#E5ECF6",
            "gridcolor": "white",
            "gridwidth": 2,
            "linecolor": "white",
            "showbackground": true,
            "ticks": "",
            "zerolinecolor": "white"
           },
           "zaxis": {
            "backgroundcolor": "#E5ECF6",
            "gridcolor": "white",
            "gridwidth": 2,
            "linecolor": "white",
            "showbackground": true,
            "ticks": "",
            "zerolinecolor": "white"
           }
          },
          "shapedefaults": {
           "line": {
            "color": "#2a3f5f"
           }
          },
          "ternary": {
           "aaxis": {
            "gridcolor": "white",
            "linecolor": "white",
            "ticks": ""
           },
           "baxis": {
            "gridcolor": "white",
            "linecolor": "white",
            "ticks": ""
           },
           "bgcolor": "#E5ECF6",
           "caxis": {
            "gridcolor": "white",
            "linecolor": "white",
            "ticks": ""
           }
          },
          "title": {
           "x": 0.05
          },
          "xaxis": {
           "automargin": true,
           "gridcolor": "white",
           "linecolor": "white",
           "ticks": "",
           "title": {
            "standoff": 15
           },
           "zerolinecolor": "white",
           "zerolinewidth": 2
          },
          "yaxis": {
           "automargin": true,
           "gridcolor": "white",
           "linecolor": "white",
           "ticks": "",
           "title": {
            "standoff": 15
           },
           "zerolinecolor": "white",
           "zerolinewidth": 2
          }
         }
        },
        "title": {
         "text": "Twitch Dataset: Peak Viewers vs. Average Viewers"
        },
        "width": 1000,
        "xaxis": {
         "anchor": "y",
         "domain": [
          0,
          1
         ],
         "title": {
          "text": "Peak Viewers"
         }
        },
        "yaxis": {
         "anchor": "x",
         "domain": [
          0,
          1
         ],
         "title": {
          "text": "Average Viewers"
         }
        }
       }
      }
     },
     "metadata": {},
     "output_type": "display_data"
    }
   ],
   "source": [
    "# ['aggrnyl', 'agsunset', 'algae', 'amp', 'armyrose', 'balance',\n",
    "# 'blackbody', 'bluered', 'blues', 'blugrn', 'bluyl', 'brbg',\n",
    "# 'brwnyl', 'bugn', 'bupu', 'burg', 'burgyl', 'cividis', 'curl',\n",
    "# 'darkmint', 'deep', 'delta', 'dense', 'earth', 'edge', 'electric',\n",
    "# 'emrld', 'fall', 'geyser', 'gnbu', 'gray', 'greens', 'greys',\n",
    "# 'haline', 'hot', 'hsv', 'ice', 'icefire', 'inferno', 'jet',\n",
    "# 'magenta', 'magma', 'matter', 'mint', 'mrybm', 'mygbm', 'oranges',\n",
    "# 'orrd', 'oryel', 'oxy', 'peach', 'phase', 'picnic', 'pinkyl',\n",
    "# 'piyg', 'plasma', 'plotly3', 'portland', 'prgn', 'pubu', 'pubugn',\n",
    "# 'puor', 'purd', 'purp', 'purples', 'purpor', 'rainbow', 'rdbu',\n",
    "# 'rdgy', 'rdpu', 'rdylbu', 'rdylgn', 'redor', 'reds', 'solar',\n",
    "# 'spectral', 'speed', 'sunset', 'sunsetdark', 'teal', 'tealgrn',\n",
    "# 'tealrose', 'tempo', 'temps', 'thermal', 'tropic', 'turbid',\n",
    "# 'turbo', 'twilight', 'viridis', 'ylgn', 'ylgnbu', 'ylorbr',\n",
    "# 'ylorrd']\n",
    "\n",
    "scatter_plot = px.scatter(data_frame=df, x='Peak viewers', y='Average viewers',\n",
    "        hover_data=['Channel', 'Language'], color='Followers', color_continuous_scale='cividis',\n",
    "\t\tlabels={\n",
    "\t\t\t\"Peak viewers\": \"Peak Viewers\",\n",
    "\t\t\t\"Average viewers\": \"Average Viewers\",\n",
    "\t\t},\n",
    "        title='Twitch Dataset: Peak Viewers vs. Average Viewers'\n",
    ")\n",
    "scatter_plot.update_traces(marker_size=10)\n",
    "scatter_plot.update_layout(margin=dict(l=10, r=10, t=80, b=20), width=1000, height=600)\n",
    "scatter_plot.show()"
   ]
  },
  {
   "attachments": {},
   "cell_type": "markdown",
   "metadata": {},
   "source": [
    "## SOURCE\n",
    "https://www.kaggle.com/datasets/aayushmishra1512/twitchdata"
   ]
  }
 ],
 "metadata": {
  "kernelspec": {
   "display_name": "base",
   "language": "python",
   "name": "python3"
  },
  "language_info": {
   "codemirror_mode": {
    "name": "ipython",
    "version": 3
   },
   "file_extension": ".py",
   "mimetype": "text/x-python",
   "name": "python",
   "nbconvert_exporter": "python",
   "pygments_lexer": "ipython3",
   "version": "3.9.13"
  },
  "orig_nbformat": 4
 },
 "nbformat": 4,
 "nbformat_minor": 2
}
