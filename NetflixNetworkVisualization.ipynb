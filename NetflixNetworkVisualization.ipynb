{
 "cells": [
  {
   "cell_type": "code",
   "execution_count": 1,
   "metadata": {},
   "outputs": [],
   "source": [
    "import pandas as pd\n",
    "import numpy as np\n",
    "import re\n",
    "import networkx as nx\n",
    "import matplotlib.pyplot as plt\n",
    "import plotly.graph_objects as go\n",
    "import seaborn as sns\n",
    "\n",
    "from itertools import combinations\n",
    "from sklearn.preprocessing import LabelEncoder\n",
    "import warnings\n",
    "warnings.filterwarnings('ignore')"
   ]
  },
  {
   "cell_type": "code",
   "execution_count": 2,
   "metadata": {},
   "outputs": [],
   "source": [
    "# convert list of lists to list\n",
    "def flatten(lst):\n",
    "    return [item for sublist in lst for item in sublist]"
   ]
  },
  {
   "cell_type": "markdown",
   "metadata": {},
   "source": [
    "## DATA GATHERING"
   ]
  },
  {
   "cell_type": "code",
   "execution_count": 3,
   "metadata": {},
   "outputs": [
    {
     "name": "stdout",
     "output_type": "stream",
     "text": [
      "Columns (12): ['show_id', 'type', 'title', 'director', 'cast', 'country', 'date_added', 'release_year', 'rating', 'duration', 'listed_in', 'description']\n",
      "\n",
      "Shape: (8807, 12)\n"
     ]
    },
    {
     "data": {
      "text/html": [
       "<div>\n",
       "<style scoped>\n",
       "    .dataframe tbody tr th:only-of-type {\n",
       "        vertical-align: middle;\n",
       "    }\n",
       "\n",
       "    .dataframe tbody tr th {\n",
       "        vertical-align: top;\n",
       "    }\n",
       "\n",
       "    .dataframe thead th {\n",
       "        text-align: right;\n",
       "    }\n",
       "</style>\n",
       "<table border=\"1\" class=\"dataframe\">\n",
       "  <thead>\n",
       "    <tr style=\"text-align: right;\">\n",
       "      <th></th>\n",
       "      <th>show_id</th>\n",
       "      <th>type</th>\n",
       "      <th>title</th>\n",
       "      <th>director</th>\n",
       "      <th>cast</th>\n",
       "      <th>country</th>\n",
       "      <th>date_added</th>\n",
       "      <th>release_year</th>\n",
       "      <th>rating</th>\n",
       "      <th>duration</th>\n",
       "      <th>listed_in</th>\n",
       "      <th>description</th>\n",
       "    </tr>\n",
       "  </thead>\n",
       "  <tbody>\n",
       "    <tr>\n",
       "      <th>0</th>\n",
       "      <td>s1</td>\n",
       "      <td>Movie</td>\n",
       "      <td>Dick Johnson Is Dead</td>\n",
       "      <td>Kirsten Johnson</td>\n",
       "      <td>NaN</td>\n",
       "      <td>United States</td>\n",
       "      <td>September 25, 2021</td>\n",
       "      <td>2020</td>\n",
       "      <td>PG-13</td>\n",
       "      <td>90 min</td>\n",
       "      <td>Documentaries</td>\n",
       "      <td>As her father nears the end of his life, filmm...</td>\n",
       "    </tr>\n",
       "    <tr>\n",
       "      <th>1</th>\n",
       "      <td>s2</td>\n",
       "      <td>TV Show</td>\n",
       "      <td>Blood &amp; Water</td>\n",
       "      <td>NaN</td>\n",
       "      <td>Ama Qamata, Khosi Ngema, Gail Mabalane, Thaban...</td>\n",
       "      <td>South Africa</td>\n",
       "      <td>September 24, 2021</td>\n",
       "      <td>2021</td>\n",
       "      <td>TV-MA</td>\n",
       "      <td>2 Seasons</td>\n",
       "      <td>International TV Shows, TV Dramas, TV Mysteries</td>\n",
       "      <td>After crossing paths at a party, a Cape Town t...</td>\n",
       "    </tr>\n",
       "    <tr>\n",
       "      <th>2</th>\n",
       "      <td>s3</td>\n",
       "      <td>TV Show</td>\n",
       "      <td>Ganglands</td>\n",
       "      <td>Julien Leclercq</td>\n",
       "      <td>Sami Bouajila, Tracy Gotoas, Samuel Jouy, Nabi...</td>\n",
       "      <td>NaN</td>\n",
       "      <td>September 24, 2021</td>\n",
       "      <td>2021</td>\n",
       "      <td>TV-MA</td>\n",
       "      <td>1 Season</td>\n",
       "      <td>Crime TV Shows, International TV Shows, TV Act...</td>\n",
       "      <td>To protect his family from a powerful drug lor...</td>\n",
       "    </tr>\n",
       "    <tr>\n",
       "      <th>3</th>\n",
       "      <td>s4</td>\n",
       "      <td>TV Show</td>\n",
       "      <td>Jailbirds New Orleans</td>\n",
       "      <td>NaN</td>\n",
       "      <td>NaN</td>\n",
       "      <td>NaN</td>\n",
       "      <td>September 24, 2021</td>\n",
       "      <td>2021</td>\n",
       "      <td>TV-MA</td>\n",
       "      <td>1 Season</td>\n",
       "      <td>Docuseries, Reality TV</td>\n",
       "      <td>Feuds, flirtations and toilet talk go down amo...</td>\n",
       "    </tr>\n",
       "    <tr>\n",
       "      <th>4</th>\n",
       "      <td>s5</td>\n",
       "      <td>TV Show</td>\n",
       "      <td>Kota Factory</td>\n",
       "      <td>NaN</td>\n",
       "      <td>Mayur More, Jitendra Kumar, Ranjan Raj, Alam K...</td>\n",
       "      <td>India</td>\n",
       "      <td>September 24, 2021</td>\n",
       "      <td>2021</td>\n",
       "      <td>TV-MA</td>\n",
       "      <td>2 Seasons</td>\n",
       "      <td>International TV Shows, Romantic TV Shows, TV ...</td>\n",
       "      <td>In a city of coaching centers known to train I...</td>\n",
       "    </tr>\n",
       "  </tbody>\n",
       "</table>\n",
       "</div>"
      ],
      "text/plain": [
       "  show_id     type                  title         director  \\\n",
       "0      s1    Movie   Dick Johnson Is Dead  Kirsten Johnson   \n",
       "1      s2  TV Show          Blood & Water              NaN   \n",
       "2      s3  TV Show              Ganglands  Julien Leclercq   \n",
       "3      s4  TV Show  Jailbirds New Orleans              NaN   \n",
       "4      s5  TV Show           Kota Factory              NaN   \n",
       "\n",
       "                                                cast        country  \\\n",
       "0                                                NaN  United States   \n",
       "1  Ama Qamata, Khosi Ngema, Gail Mabalane, Thaban...   South Africa   \n",
       "2  Sami Bouajila, Tracy Gotoas, Samuel Jouy, Nabi...            NaN   \n",
       "3                                                NaN            NaN   \n",
       "4  Mayur More, Jitendra Kumar, Ranjan Raj, Alam K...          India   \n",
       "\n",
       "           date_added  release_year rating   duration  \\\n",
       "0  September 25, 2021          2020  PG-13     90 min   \n",
       "1  September 24, 2021          2021  TV-MA  2 Seasons   \n",
       "2  September 24, 2021          2021  TV-MA   1 Season   \n",
       "3  September 24, 2021          2021  TV-MA   1 Season   \n",
       "4  September 24, 2021          2021  TV-MA  2 Seasons   \n",
       "\n",
       "                                           listed_in  \\\n",
       "0                                      Documentaries   \n",
       "1    International TV Shows, TV Dramas, TV Mysteries   \n",
       "2  Crime TV Shows, International TV Shows, TV Act...   \n",
       "3                             Docuseries, Reality TV   \n",
       "4  International TV Shows, Romantic TV Shows, TV ...   \n",
       "\n",
       "                                         description  \n",
       "0  As her father nears the end of his life, filmm...  \n",
       "1  After crossing paths at a party, a Cape Town t...  \n",
       "2  To protect his family from a powerful drug lor...  \n",
       "3  Feuds, flirtations and toilet talk go down amo...  \n",
       "4  In a city of coaching centers known to train I...  "
      ]
     },
     "metadata": {},
     "output_type": "display_data"
    }
   ],
   "source": [
    "df = pd.read_csv('datasets/netflix_titles.csv')\n",
    "print(f'Columns ({len(df.columns)}): {df.columns.values.tolist()}\\n')\n",
    "print(f'Shape: {df.shape}')\n",
    "display(df.head())"
   ]
  },
  {
   "cell_type": "code",
   "execution_count": 4,
   "metadata": {},
   "outputs": [],
   "source": [
    "# Filter data\n",
    "def filter_data(df, filter):\n",
    "    df2 = df.loc[(df['type'] == filter)].reset_index(drop=True) # filter to defined type\n",
    "    # print(f'Shape: {df2.shape}')\n",
    "    # display(df2.head())\n",
    "    return df2"
   ]
  },
  {
   "attachments": {},
   "cell_type": "markdown",
   "metadata": {},
   "source": [
    "## TEMPORAL VISUALIZATION"
   ]
  },
  {
   "cell_type": "code",
   "execution_count": 5,
   "metadata": {},
   "outputs": [
    {
     "data": {
      "text/html": [
       "<div>\n",
       "<style scoped>\n",
       "    .dataframe tbody tr th:only-of-type {\n",
       "        vertical-align: middle;\n",
       "    }\n",
       "\n",
       "    .dataframe tbody tr th {\n",
       "        vertical-align: top;\n",
       "    }\n",
       "\n",
       "    .dataframe thead th {\n",
       "        text-align: right;\n",
       "    }\n",
       "</style>\n",
       "<table border=\"1\" class=\"dataframe\">\n",
       "  <thead>\n",
       "    <tr style=\"text-align: right;\">\n",
       "      <th></th>\n",
       "      <th>show_id</th>\n",
       "      <th>type</th>\n",
       "      <th>title</th>\n",
       "      <th>director</th>\n",
       "      <th>cast</th>\n",
       "      <th>country</th>\n",
       "      <th>date_added</th>\n",
       "      <th>release_year</th>\n",
       "      <th>rating</th>\n",
       "      <th>duration</th>\n",
       "      <th>listed_in</th>\n",
       "      <th>description</th>\n",
       "      <th>constant</th>\n",
       "    </tr>\n",
       "  </thead>\n",
       "  <tbody>\n",
       "    <tr>\n",
       "      <th>0</th>\n",
       "      <td>s1</td>\n",
       "      <td>Movie</td>\n",
       "      <td>Dick Johnson Is Dead</td>\n",
       "      <td>Kirsten Johnson</td>\n",
       "      <td>NaN</td>\n",
       "      <td>United States</td>\n",
       "      <td>September 25, 2021</td>\n",
       "      <td>2020</td>\n",
       "      <td>PG-13</td>\n",
       "      <td>90 min</td>\n",
       "      <td>Documentaries</td>\n",
       "      <td>As her father nears the end of his life, filmm...</td>\n",
       "      <td>1</td>\n",
       "    </tr>\n",
       "    <tr>\n",
       "      <th>1</th>\n",
       "      <td>s2</td>\n",
       "      <td>TV Show</td>\n",
       "      <td>Blood &amp; Water</td>\n",
       "      <td>NaN</td>\n",
       "      <td>Ama Qamata, Khosi Ngema, Gail Mabalane, Thaban...</td>\n",
       "      <td>South Africa</td>\n",
       "      <td>September 24, 2021</td>\n",
       "      <td>2021</td>\n",
       "      <td>TV-MA</td>\n",
       "      <td>2 Seasons</td>\n",
       "      <td>International TV Shows, TV Dramas, TV Mysteries</td>\n",
       "      <td>After crossing paths at a party, a Cape Town t...</td>\n",
       "      <td>1</td>\n",
       "    </tr>\n",
       "    <tr>\n",
       "      <th>2</th>\n",
       "      <td>s3</td>\n",
       "      <td>TV Show</td>\n",
       "      <td>Ganglands</td>\n",
       "      <td>Julien Leclercq</td>\n",
       "      <td>Sami Bouajila, Tracy Gotoas, Samuel Jouy, Nabi...</td>\n",
       "      <td>NaN</td>\n",
       "      <td>September 24, 2021</td>\n",
       "      <td>2021</td>\n",
       "      <td>TV-MA</td>\n",
       "      <td>1 Season</td>\n",
       "      <td>Crime TV Shows, International TV Shows, TV Act...</td>\n",
       "      <td>To protect his family from a powerful drug lor...</td>\n",
       "      <td>1</td>\n",
       "    </tr>\n",
       "    <tr>\n",
       "      <th>3</th>\n",
       "      <td>s4</td>\n",
       "      <td>TV Show</td>\n",
       "      <td>Jailbirds New Orleans</td>\n",
       "      <td>NaN</td>\n",
       "      <td>NaN</td>\n",
       "      <td>NaN</td>\n",
       "      <td>September 24, 2021</td>\n",
       "      <td>2021</td>\n",
       "      <td>TV-MA</td>\n",
       "      <td>1 Season</td>\n",
       "      <td>Docuseries, Reality TV</td>\n",
       "      <td>Feuds, flirtations and toilet talk go down amo...</td>\n",
       "      <td>1</td>\n",
       "    </tr>\n",
       "    <tr>\n",
       "      <th>4</th>\n",
       "      <td>s5</td>\n",
       "      <td>TV Show</td>\n",
       "      <td>Kota Factory</td>\n",
       "      <td>NaN</td>\n",
       "      <td>Mayur More, Jitendra Kumar, Ranjan Raj, Alam K...</td>\n",
       "      <td>India</td>\n",
       "      <td>September 24, 2021</td>\n",
       "      <td>2021</td>\n",
       "      <td>TV-MA</td>\n",
       "      <td>2 Seasons</td>\n",
       "      <td>International TV Shows, Romantic TV Shows, TV ...</td>\n",
       "      <td>In a city of coaching centers known to train I...</td>\n",
       "      <td>1</td>\n",
       "    </tr>\n",
       "  </tbody>\n",
       "</table>\n",
       "</div>"
      ],
      "text/plain": [
       "  show_id     type                  title         director  \\\n",
       "0      s1    Movie   Dick Johnson Is Dead  Kirsten Johnson   \n",
       "1      s2  TV Show          Blood & Water              NaN   \n",
       "2      s3  TV Show              Ganglands  Julien Leclercq   \n",
       "3      s4  TV Show  Jailbirds New Orleans              NaN   \n",
       "4      s5  TV Show           Kota Factory              NaN   \n",
       "\n",
       "                                                cast        country  \\\n",
       "0                                                NaN  United States   \n",
       "1  Ama Qamata, Khosi Ngema, Gail Mabalane, Thaban...   South Africa   \n",
       "2  Sami Bouajila, Tracy Gotoas, Samuel Jouy, Nabi...            NaN   \n",
       "3                                                NaN            NaN   \n",
       "4  Mayur More, Jitendra Kumar, Ranjan Raj, Alam K...          India   \n",
       "\n",
       "           date_added  release_year rating   duration  \\\n",
       "0  September 25, 2021          2020  PG-13     90 min   \n",
       "1  September 24, 2021          2021  TV-MA  2 Seasons   \n",
       "2  September 24, 2021          2021  TV-MA   1 Season   \n",
       "3  September 24, 2021          2021  TV-MA   1 Season   \n",
       "4  September 24, 2021          2021  TV-MA  2 Seasons   \n",
       "\n",
       "                                           listed_in  \\\n",
       "0                                      Documentaries   \n",
       "1    International TV Shows, TV Dramas, TV Mysteries   \n",
       "2  Crime TV Shows, International TV Shows, TV Act...   \n",
       "3                             Docuseries, Reality TV   \n",
       "4  International TV Shows, Romantic TV Shows, TV ...   \n",
       "\n",
       "                                         description  constant  \n",
       "0  As her father nears the end of his life, filmm...         1  \n",
       "1  After crossing paths at a party, a Cape Town t...         1  \n",
       "2  To protect his family from a powerful drug lor...         1  \n",
       "3  Feuds, flirtations and toilet talk go down amo...         1  \n",
       "4  In a city of coaching centers known to train I...         1  "
      ]
     },
     "execution_count": 5,
     "metadata": {},
     "output_type": "execute_result"
    }
   ],
   "source": [
    "temporal_dataset = df.copy()\n",
    "temporal_dataset['constant'] = 1\n",
    "temporal_dataset.head()"
   ]
  },
  {
   "cell_type": "code",
   "execution_count": 6,
   "metadata": {},
   "outputs": [
    {
     "data": {
      "text/html": [
       "<div>\n",
       "<style scoped>\n",
       "    .dataframe tbody tr th:only-of-type {\n",
       "        vertical-align: middle;\n",
       "    }\n",
       "\n",
       "    .dataframe tbody tr th {\n",
       "        vertical-align: top;\n",
       "    }\n",
       "\n",
       "    .dataframe thead th {\n",
       "        text-align: right;\n",
       "    }\n",
       "</style>\n",
       "<table border=\"1\" class=\"dataframe\">\n",
       "  <thead>\n",
       "    <tr style=\"text-align: right;\">\n",
       "      <th></th>\n",
       "      <th>Country</th>\n",
       "      <th>Year</th>\n",
       "      <th>Constant</th>\n",
       "    </tr>\n",
       "  </thead>\n",
       "  <tbody>\n",
       "    <tr>\n",
       "      <th>0</th>\n",
       "      <td>United States</td>\n",
       "      <td>2020</td>\n",
       "      <td>1</td>\n",
       "    </tr>\n",
       "    <tr>\n",
       "      <th>1</th>\n",
       "      <td>South Africa</td>\n",
       "      <td>2021</td>\n",
       "      <td>1</td>\n",
       "    </tr>\n",
       "    <tr>\n",
       "      <th>2</th>\n",
       "      <td>India</td>\n",
       "      <td>2021</td>\n",
       "      <td>1</td>\n",
       "    </tr>\n",
       "    <tr>\n",
       "      <th>3</th>\n",
       "      <td>United States</td>\n",
       "      <td>2021</td>\n",
       "      <td>1</td>\n",
       "    </tr>\n",
       "    <tr>\n",
       "      <th>4</th>\n",
       "      <td>Ghana</td>\n",
       "      <td>2021</td>\n",
       "      <td>1</td>\n",
       "    </tr>\n",
       "  </tbody>\n",
       "</table>\n",
       "</div>"
      ],
      "text/plain": [
       "         Country  Year  Constant\n",
       "0  United States  2020         1\n",
       "1   South Africa  2021         1\n",
       "2          India  2021         1\n",
       "3  United States  2021         1\n",
       "4          Ghana  2021         1"
      ]
     },
     "metadata": {},
     "output_type": "display_data"
    },
    {
     "data": {
      "text/html": [
       "<div>\n",
       "<style scoped>\n",
       "    .dataframe tbody tr th:only-of-type {\n",
       "        vertical-align: middle;\n",
       "    }\n",
       "\n",
       "    .dataframe tbody tr th {\n",
       "        vertical-align: top;\n",
       "    }\n",
       "\n",
       "    .dataframe thead th {\n",
       "        text-align: right;\n",
       "    }\n",
       "</style>\n",
       "<table border=\"1\" class=\"dataframe\">\n",
       "  <thead>\n",
       "    <tr style=\"text-align: right;\">\n",
       "      <th></th>\n",
       "      <th>Country</th>\n",
       "      <th>Year</th>\n",
       "      <th>Constant</th>\n",
       "    </tr>\n",
       "  </thead>\n",
       "  <tbody>\n",
       "    <tr>\n",
       "      <th>0</th>\n",
       "      <td></td>\n",
       "      <td>2020</td>\n",
       "      <td>1</td>\n",
       "    </tr>\n",
       "    <tr>\n",
       "      <th>1</th>\n",
       "      <td></td>\n",
       "      <td>2021</td>\n",
       "      <td>1</td>\n",
       "    </tr>\n",
       "    <tr>\n",
       "      <th>2</th>\n",
       "      <td>Afghanistan</td>\n",
       "      <td>2016</td>\n",
       "      <td>1</td>\n",
       "    </tr>\n",
       "    <tr>\n",
       "      <th>3</th>\n",
       "      <td>Albania</td>\n",
       "      <td>2011</td>\n",
       "      <td>1</td>\n",
       "    </tr>\n",
       "    <tr>\n",
       "      <th>4</th>\n",
       "      <td>Algeria</td>\n",
       "      <td>2017</td>\n",
       "      <td>1</td>\n",
       "    </tr>\n",
       "  </tbody>\n",
       "</table>\n",
       "</div>"
      ],
      "text/plain": [
       "       Country  Year  Constant\n",
       "0               2020         1\n",
       "1               2021         1\n",
       "2  Afghanistan  2016         1\n",
       "3      Albania  2011         1\n",
       "4      Algeria  2017         1"
      ]
     },
     "metadata": {},
     "output_type": "display_data"
    },
    {
     "data": {
      "text/html": [
       "<div>\n",
       "<style scoped>\n",
       "    .dataframe tbody tr th:only-of-type {\n",
       "        vertical-align: middle;\n",
       "    }\n",
       "\n",
       "    .dataframe tbody tr th {\n",
       "        vertical-align: top;\n",
       "    }\n",
       "\n",
       "    .dataframe thead th {\n",
       "        text-align: right;\n",
       "    }\n",
       "</style>\n",
       "<table border=\"1\" class=\"dataframe\">\n",
       "  <thead>\n",
       "    <tr style=\"text-align: right;\">\n",
       "      <th></th>\n",
       "      <th>Country</th>\n",
       "      <th>Year</th>\n",
       "      <th>Constant</th>\n",
       "    </tr>\n",
       "  </thead>\n",
       "  <tbody>\n",
       "    <tr>\n",
       "      <th>1145</th>\n",
       "      <td>United States</td>\n",
       "      <td>2018</td>\n",
       "      <td>459</td>\n",
       "    </tr>\n",
       "    <tr>\n",
       "      <th>1144</th>\n",
       "      <td>United States</td>\n",
       "      <td>2017</td>\n",
       "      <td>449</td>\n",
       "    </tr>\n",
       "    <tr>\n",
       "      <th>1146</th>\n",
       "      <td>United States</td>\n",
       "      <td>2019</td>\n",
       "      <td>397</td>\n",
       "    </tr>\n",
       "    <tr>\n",
       "      <th>1143</th>\n",
       "      <td>United States</td>\n",
       "      <td>2016</td>\n",
       "      <td>379</td>\n",
       "    </tr>\n",
       "    <tr>\n",
       "      <th>1147</th>\n",
       "      <td>United States</td>\n",
       "      <td>2020</td>\n",
       "      <td>377</td>\n",
       "    </tr>\n",
       "    <tr>\n",
       "      <th>...</th>\n",
       "      <td>...</td>\n",
       "      <td>...</td>\n",
       "      <td>...</td>\n",
       "    </tr>\n",
       "    <tr>\n",
       "      <th>578</th>\n",
       "      <td>Lebanon</td>\n",
       "      <td>1997</td>\n",
       "      <td>1</td>\n",
       "    </tr>\n",
       "    <tr>\n",
       "      <th>579</th>\n",
       "      <td>Lebanon</td>\n",
       "      <td>1999</td>\n",
       "      <td>1</td>\n",
       "    </tr>\n",
       "    <tr>\n",
       "      <th>580</th>\n",
       "      <td>Lebanon</td>\n",
       "      <td>2008</td>\n",
       "      <td>1</td>\n",
       "    </tr>\n",
       "    <tr>\n",
       "      <th>582</th>\n",
       "      <td>Lebanon</td>\n",
       "      <td>2012</td>\n",
       "      <td>1</td>\n",
       "    </tr>\n",
       "    <tr>\n",
       "      <th>1178</th>\n",
       "      <td>Zimbabwe</td>\n",
       "      <td>2020</td>\n",
       "      <td>1</td>\n",
       "    </tr>\n",
       "  </tbody>\n",
       "</table>\n",
       "<p>1179 rows × 3 columns</p>\n",
       "</div>"
      ],
      "text/plain": [
       "            Country  Year  Constant\n",
       "1145  United States  2018       459\n",
       "1144  United States  2017       449\n",
       "1146  United States  2019       397\n",
       "1143  United States  2016       379\n",
       "1147  United States  2020       377\n",
       "...             ...   ...       ...\n",
       "578         Lebanon  1997         1\n",
       "579         Lebanon  1999         1\n",
       "580         Lebanon  2008         1\n",
       "582         Lebanon  2012         1\n",
       "1178       Zimbabwe  2020         1\n",
       "\n",
       "[1179 rows x 3 columns]"
      ]
     },
     "metadata": {},
     "output_type": "display_data"
    },
    {
     "name": "stdout",
     "output_type": "stream",
     "text": [
      "['United States', 'India', 'United Kingdom', 'Canada', 'France', 'Japan', 'Spain', 'South Korea', 'Germany', 'Mexico']\n"
     ]
    }
   ],
   "source": [
    "# drop na data, split based on commas, remove symbols, and flatten\n",
    "temporal_dataset_clean = temporal_dataset.country.dropna()\n",
    "temporal_dataset_country = flatten([x.split(', ') for x in temporal_dataset_clean])\n",
    "temporal_dataset_country = [re.sub('[^A-Za-z ]+', '', x) for x in temporal_dataset_country]\n",
    "temporal_dataset_year = flatten([[temporal_dataset.release_year[x] for n in range(len(y.split(', ')))] for x, y in enumerate(temporal_dataset_clean)])\n",
    "\n",
    "# constant to use as counter\n",
    "temporal_df = pd.DataFrame(data={'Country': temporal_dataset_country, 'Year': temporal_dataset_year, 'Constant': [1 for x in temporal_dataset_country]})\n",
    "display(temporal_df.head())\n",
    "\n",
    "# group data by country and year\n",
    "temporal_df2 = temporal_df.groupby(['Country', 'Year']).sum()\n",
    "temporal_df2 = temporal_df2[['Constant']].reset_index()\n",
    "display(temporal_df2.head())\n",
    "\n",
    "# show sorted data\n",
    "display(temporal_df2.sort_values(by='Constant', ascending=False))\n",
    "\n",
    "# transform data for visualization\n",
    "temporal_dataset_country_count = pd.DataFrame(temporal_dataset_country).value_counts().index.tolist()\n",
    "temporal_dataset_country_count = pd.DataFrame(data={'Country': temporal_dataset_country})\n",
    "temporal_dataset_country_count2 = temporal_dataset_country_count.value_counts().keys().tolist()\n",
    "temporal_dataset_country_count2 = [str(x).strip(\"('',)\") for x in temporal_dataset_country_count2][0:10]\n",
    "print(temporal_dataset_country_count2)"
   ]
  },
  {
   "cell_type": "code",
   "execution_count": 7,
   "metadata": {},
   "outputs": [
    {
     "data": {
      "application/vnd.plotly.v1+json": {
       "config": {
        "plotlyServerURL": "https://plot.ly"
       },
       "data": [
        {
         "line": {
          "color": "#e98d6b"
         },
         "name": "United States",
         "type": "scatter",
         "x": [
          1925,
          1945,
          1946,
          1955,
          1956,
          1958,
          1959,
          1960,
          1962,
          1963,
          1964,
          1965,
          1967,
          1969,
          1971,
          1972,
          1973,
          1974,
          1975,
          1976,
          1977,
          1978,
          1979,
          1980,
          1981,
          1982,
          1983,
          1984,
          1985,
          1986,
          1987,
          1988,
          1989,
          1990,
          1991,
          1992,
          1993,
          1994,
          1995,
          1996,
          1997,
          1998,
          1999,
          2000,
          2001,
          2002,
          2003,
          2004,
          2005,
          2006,
          2007,
          2008,
          2009,
          2010,
          2011,
          2012,
          2013,
          2014,
          2015,
          2016,
          2017,
          2018,
          2019,
          2020,
          2021
         ],
         "y": [
          1,
          2,
          1,
          1,
          1,
          3,
          1,
          3,
          2,
          1,
          2,
          1,
          2,
          1,
          3,
          1,
          6,
          4,
          2,
          4,
          4,
          3,
          5,
          4,
          6,
          5,
          5,
          7,
          6,
          5,
          1,
          8,
          5,
          5,
          5,
          10,
          9,
          10,
          11,
          11,
          20,
          15,
          17,
          14,
          21,
          21,
          29,
          26,
          25,
          29,
          34,
          54,
          59,
          71,
          79,
          106,
          133,
          150,
          238,
          379,
          449,
          459,
          397,
          377,
          321
         ]
        },
        {
         "line": {
          "color": "#e3685c"
         },
         "name": "India",
         "type": "scatter",
         "x": [
          1945,
          1956,
          1968,
          1972,
          1973,
          1975,
          1976,
          1978,
          1979,
          1981,
          1982,
          1984,
          1987,
          1988,
          1989,
          1990,
          1991,
          1992,
          1993,
          1994,
          1995,
          1996,
          1998,
          1999,
          2000,
          2001,
          2002,
          2003,
          2004,
          2005,
          2006,
          2007,
          2008,
          2009,
          2010,
          2011,
          2012,
          2013,
          2014,
          2015,
          2016,
          2017,
          2018,
          2019,
          2020,
          2021
         ],
         "y": [
          1,
          1,
          1,
          1,
          1,
          1,
          1,
          1,
          1,
          1,
          3,
          2,
          2,
          3,
          3,
          4,
          3,
          5,
          2,
          1,
          4,
          2,
          3,
          2,
          4,
          4,
          7,
          8,
          9,
          13,
          14,
          7,
          16,
          11,
          24,
          18,
          24,
          32,
          38,
          60,
          109,
          111,
          156,
          159,
          133,
          40
         ]
        },
        {
         "line": {
          "color": "#d14a61"
         },
         "name": "United Kingdom",
         "type": "scatter",
         "x": [
          1946,
          1968,
          1971,
          1974,
          1975,
          1976,
          1979,
          1980,
          1981,
          1982,
          1983,
          1984,
          1986,
          1987,
          1988,
          1990,
          1991,
          1993,
          1994,
          1995,
          1996,
          1997,
          1998,
          1999,
          2000,
          2001,
          2002,
          2003,
          2004,
          2005,
          2006,
          2007,
          2008,
          2009,
          2010,
          2011,
          2012,
          2013,
          2014,
          2015,
          2016,
          2017,
          2018,
          2019,
          2020,
          2021
         ],
         "y": [
          1,
          1,
          1,
          1,
          2,
          1,
          3,
          1,
          2,
          3,
          2,
          3,
          3,
          3,
          1,
          3,
          3,
          4,
          3,
          1,
          6,
          8,
          6,
          2,
          3,
          11,
          2,
          7,
          5,
          6,
          8,
          11,
          16,
          17,
          19,
          18,
          30,
          32,
          27,
          57,
          87,
          99,
          90,
          61,
          64,
          72
         ]
        },
        {
         "line": {
          "color": "#b13c6c"
         },
         "name": "Canada",
         "type": "scatter",
         "x": [
          1962,
          1971,
          1974,
          1975,
          1980,
          1985,
          1986,
          1987,
          1988,
          1989,
          1991,
          1993,
          1994,
          1995,
          1997,
          1998,
          2000,
          2001,
          2002,
          2003,
          2004,
          2005,
          2006,
          2007,
          2008,
          2009,
          2010,
          2011,
          2012,
          2013,
          2014,
          2015,
          2016,
          2017,
          2018,
          2019,
          2020,
          2021
         ],
         "y": [
          1,
          1,
          2,
          1,
          2,
          1,
          1,
          1,
          2,
          1,
          1,
          1,
          2,
          1,
          1,
          1,
          1,
          3,
          4,
          5,
          7,
          3,
          3,
          6,
          6,
          5,
          12,
          7,
          19,
          18,
          17,
          31,
          52,
          55,
          60,
          38,
          45,
          28
         ]
        },
        {
         "line": {
          "color": "#8f3371"
         },
         "name": "France",
         "type": "scatter",
         "x": [
          1979,
          1980,
          1982,
          1985,
          1986,
          1987,
          1988,
          1990,
          1992,
          1993,
          1994,
          1997,
          1998,
          1999,
          2000,
          2001,
          2002,
          2003,
          2004,
          2005,
          2006,
          2007,
          2008,
          2009,
          2010,
          2011,
          2012,
          2013,
          2014,
          2015,
          2016,
          2017,
          2018,
          2019,
          2020,
          2021
         ],
         "y": [
          1,
          1,
          1,
          1,
          1,
          2,
          1,
          1,
          1,
          2,
          1,
          4,
          2,
          3,
          1,
          2,
          1,
          5,
          2,
          2,
          4,
          7,
          6,
          6,
          7,
          11,
          5,
          14,
          17,
          26,
          41,
          33,
          58,
          42,
          52,
          29
         ]
        },
        {
         "line": {
          "color": "#6c2b6d"
         },
         "name": "Japan",
         "type": "scatter",
         "x": [
          1973,
          1976,
          1978,
          1980,
          1986,
          1987,
          1990,
          1991,
          1994,
          1998,
          2000,
          2001,
          2002,
          2003,
          2004,
          2005,
          2006,
          2007,
          2008,
          2009,
          2010,
          2011,
          2012,
          2013,
          2014,
          2015,
          2016,
          2017,
          2018,
          2019,
          2020,
          2021
         ],
         "y": [
          1,
          1,
          1,
          1,
          1,
          1,
          2,
          2,
          1,
          2,
          2,
          1,
          2,
          2,
          2,
          4,
          1,
          3,
          2,
          5,
          8,
          5,
          11,
          7,
          11,
          8,
          23,
          30,
          58,
          47,
          44,
          29
         ]
        }
       ],
       "layout": {
        "legend": {
         "title": {
          "text": "Type"
         }
        },
        "template": {
         "data": {
          "bar": [
           {
            "error_x": {
             "color": "#2a3f5f"
            },
            "error_y": {
             "color": "#2a3f5f"
            },
            "marker": {
             "line": {
              "color": "#E5ECF6",
              "width": 0.5
             },
             "pattern": {
              "fillmode": "overlay",
              "size": 10,
              "solidity": 0.2
             }
            },
            "type": "bar"
           }
          ],
          "barpolar": [
           {
            "marker": {
             "line": {
              "color": "#E5ECF6",
              "width": 0.5
             },
             "pattern": {
              "fillmode": "overlay",
              "size": 10,
              "solidity": 0.2
             }
            },
            "type": "barpolar"
           }
          ],
          "carpet": [
           {
            "aaxis": {
             "endlinecolor": "#2a3f5f",
             "gridcolor": "white",
             "linecolor": "white",
             "minorgridcolor": "white",
             "startlinecolor": "#2a3f5f"
            },
            "baxis": {
             "endlinecolor": "#2a3f5f",
             "gridcolor": "white",
             "linecolor": "white",
             "minorgridcolor": "white",
             "startlinecolor": "#2a3f5f"
            },
            "type": "carpet"
           }
          ],
          "choropleth": [
           {
            "colorbar": {
             "outlinewidth": 0,
             "ticks": ""
            },
            "type": "choropleth"
           }
          ],
          "contour": [
           {
            "colorbar": {
             "outlinewidth": 0,
             "ticks": ""
            },
            "colorscale": [
             [
              0,
              "#0d0887"
             ],
             [
              0.1111111111111111,
              "#46039f"
             ],
             [
              0.2222222222222222,
              "#7201a8"
             ],
             [
              0.3333333333333333,
              "#9c179e"
             ],
             [
              0.4444444444444444,
              "#bd3786"
             ],
             [
              0.5555555555555556,
              "#d8576b"
             ],
             [
              0.6666666666666666,
              "#ed7953"
             ],
             [
              0.7777777777777778,
              "#fb9f3a"
             ],
             [
              0.8888888888888888,
              "#fdca26"
             ],
             [
              1,
              "#f0f921"
             ]
            ],
            "type": "contour"
           }
          ],
          "contourcarpet": [
           {
            "colorbar": {
             "outlinewidth": 0,
             "ticks": ""
            },
            "type": "contourcarpet"
           }
          ],
          "heatmap": [
           {
            "colorbar": {
             "outlinewidth": 0,
             "ticks": ""
            },
            "colorscale": [
             [
              0,
              "#0d0887"
             ],
             [
              0.1111111111111111,
              "#46039f"
             ],
             [
              0.2222222222222222,
              "#7201a8"
             ],
             [
              0.3333333333333333,
              "#9c179e"
             ],
             [
              0.4444444444444444,
              "#bd3786"
             ],
             [
              0.5555555555555556,
              "#d8576b"
             ],
             [
              0.6666666666666666,
              "#ed7953"
             ],
             [
              0.7777777777777778,
              "#fb9f3a"
             ],
             [
              0.8888888888888888,
              "#fdca26"
             ],
             [
              1,
              "#f0f921"
             ]
            ],
            "type": "heatmap"
           }
          ],
          "heatmapgl": [
           {
            "colorbar": {
             "outlinewidth": 0,
             "ticks": ""
            },
            "colorscale": [
             [
              0,
              "#0d0887"
             ],
             [
              0.1111111111111111,
              "#46039f"
             ],
             [
              0.2222222222222222,
              "#7201a8"
             ],
             [
              0.3333333333333333,
              "#9c179e"
             ],
             [
              0.4444444444444444,
              "#bd3786"
             ],
             [
              0.5555555555555556,
              "#d8576b"
             ],
             [
              0.6666666666666666,
              "#ed7953"
             ],
             [
              0.7777777777777778,
              "#fb9f3a"
             ],
             [
              0.8888888888888888,
              "#fdca26"
             ],
             [
              1,
              "#f0f921"
             ]
            ],
            "type": "heatmapgl"
           }
          ],
          "histogram": [
           {
            "marker": {
             "pattern": {
              "fillmode": "overlay",
              "size": 10,
              "solidity": 0.2
             }
            },
            "type": "histogram"
           }
          ],
          "histogram2d": [
           {
            "colorbar": {
             "outlinewidth": 0,
             "ticks": ""
            },
            "colorscale": [
             [
              0,
              "#0d0887"
             ],
             [
              0.1111111111111111,
              "#46039f"
             ],
             [
              0.2222222222222222,
              "#7201a8"
             ],
             [
              0.3333333333333333,
              "#9c179e"
             ],
             [
              0.4444444444444444,
              "#bd3786"
             ],
             [
              0.5555555555555556,
              "#d8576b"
             ],
             [
              0.6666666666666666,
              "#ed7953"
             ],
             [
              0.7777777777777778,
              "#fb9f3a"
             ],
             [
              0.8888888888888888,
              "#fdca26"
             ],
             [
              1,
              "#f0f921"
             ]
            ],
            "type": "histogram2d"
           }
          ],
          "histogram2dcontour": [
           {
            "colorbar": {
             "outlinewidth": 0,
             "ticks": ""
            },
            "colorscale": [
             [
              0,
              "#0d0887"
             ],
             [
              0.1111111111111111,
              "#46039f"
             ],
             [
              0.2222222222222222,
              "#7201a8"
             ],
             [
              0.3333333333333333,
              "#9c179e"
             ],
             [
              0.4444444444444444,
              "#bd3786"
             ],
             [
              0.5555555555555556,
              "#d8576b"
             ],
             [
              0.6666666666666666,
              "#ed7953"
             ],
             [
              0.7777777777777778,
              "#fb9f3a"
             ],
             [
              0.8888888888888888,
              "#fdca26"
             ],
             [
              1,
              "#f0f921"
             ]
            ],
            "type": "histogram2dcontour"
           }
          ],
          "mesh3d": [
           {
            "colorbar": {
             "outlinewidth": 0,
             "ticks": ""
            },
            "type": "mesh3d"
           }
          ],
          "parcoords": [
           {
            "line": {
             "colorbar": {
              "outlinewidth": 0,
              "ticks": ""
             }
            },
            "type": "parcoords"
           }
          ],
          "pie": [
           {
            "automargin": true,
            "type": "pie"
           }
          ],
          "scatter": [
           {
            "marker": {
             "colorbar": {
              "outlinewidth": 0,
              "ticks": ""
             }
            },
            "type": "scatter"
           }
          ],
          "scatter3d": [
           {
            "line": {
             "colorbar": {
              "outlinewidth": 0,
              "ticks": ""
             }
            },
            "marker": {
             "colorbar": {
              "outlinewidth": 0,
              "ticks": ""
             }
            },
            "type": "scatter3d"
           }
          ],
          "scattercarpet": [
           {
            "marker": {
             "colorbar": {
              "outlinewidth": 0,
              "ticks": ""
             }
            },
            "type": "scattercarpet"
           }
          ],
          "scattergeo": [
           {
            "marker": {
             "colorbar": {
              "outlinewidth": 0,
              "ticks": ""
             }
            },
            "type": "scattergeo"
           }
          ],
          "scattergl": [
           {
            "marker": {
             "colorbar": {
              "outlinewidth": 0,
              "ticks": ""
             }
            },
            "type": "scattergl"
           }
          ],
          "scattermapbox": [
           {
            "marker": {
             "colorbar": {
              "outlinewidth": 0,
              "ticks": ""
             }
            },
            "type": "scattermapbox"
           }
          ],
          "scatterpolar": [
           {
            "marker": {
             "colorbar": {
              "outlinewidth": 0,
              "ticks": ""
             }
            },
            "type": "scatterpolar"
           }
          ],
          "scatterpolargl": [
           {
            "marker": {
             "colorbar": {
              "outlinewidth": 0,
              "ticks": ""
             }
            },
            "type": "scatterpolargl"
           }
          ],
          "scatterternary": [
           {
            "marker": {
             "colorbar": {
              "outlinewidth": 0,
              "ticks": ""
             }
            },
            "type": "scatterternary"
           }
          ],
          "surface": [
           {
            "colorbar": {
             "outlinewidth": 0,
             "ticks": ""
            },
            "colorscale": [
             [
              0,
              "#0d0887"
             ],
             [
              0.1111111111111111,
              "#46039f"
             ],
             [
              0.2222222222222222,
              "#7201a8"
             ],
             [
              0.3333333333333333,
              "#9c179e"
             ],
             [
              0.4444444444444444,
              "#bd3786"
             ],
             [
              0.5555555555555556,
              "#d8576b"
             ],
             [
              0.6666666666666666,
              "#ed7953"
             ],
             [
              0.7777777777777778,
              "#fb9f3a"
             ],
             [
              0.8888888888888888,
              "#fdca26"
             ],
             [
              1,
              "#f0f921"
             ]
            ],
            "type": "surface"
           }
          ],
          "table": [
           {
            "cells": {
             "fill": {
              "color": "#EBF0F8"
             },
             "line": {
              "color": "white"
             }
            },
            "header": {
             "fill": {
              "color": "#C8D4E3"
             },
             "line": {
              "color": "white"
             }
            },
            "type": "table"
           }
          ]
         },
         "layout": {
          "annotationdefaults": {
           "arrowcolor": "#2a3f5f",
           "arrowhead": 0,
           "arrowwidth": 1
          },
          "autotypenumbers": "strict",
          "coloraxis": {
           "colorbar": {
            "outlinewidth": 0,
            "ticks": ""
           }
          },
          "colorscale": {
           "diverging": [
            [
             0,
             "#8e0152"
            ],
            [
             0.1,
             "#c51b7d"
            ],
            [
             0.2,
             "#de77ae"
            ],
            [
             0.3,
             "#f1b6da"
            ],
            [
             0.4,
             "#fde0ef"
            ],
            [
             0.5,
             "#f7f7f7"
            ],
            [
             0.6,
             "#e6f5d0"
            ],
            [
             0.7,
             "#b8e186"
            ],
            [
             0.8,
             "#7fbc41"
            ],
            [
             0.9,
             "#4d9221"
            ],
            [
             1,
             "#276419"
            ]
           ],
           "sequential": [
            [
             0,
             "#0d0887"
            ],
            [
             0.1111111111111111,
             "#46039f"
            ],
            [
             0.2222222222222222,
             "#7201a8"
            ],
            [
             0.3333333333333333,
             "#9c179e"
            ],
            [
             0.4444444444444444,
             "#bd3786"
            ],
            [
             0.5555555555555556,
             "#d8576b"
            ],
            [
             0.6666666666666666,
             "#ed7953"
            ],
            [
             0.7777777777777778,
             "#fb9f3a"
            ],
            [
             0.8888888888888888,
             "#fdca26"
            ],
            [
             1,
             "#f0f921"
            ]
           ],
           "sequentialminus": [
            [
             0,
             "#0d0887"
            ],
            [
             0.1111111111111111,
             "#46039f"
            ],
            [
             0.2222222222222222,
             "#7201a8"
            ],
            [
             0.3333333333333333,
             "#9c179e"
            ],
            [
             0.4444444444444444,
             "#bd3786"
            ],
            [
             0.5555555555555556,
             "#d8576b"
            ],
            [
             0.6666666666666666,
             "#ed7953"
            ],
            [
             0.7777777777777778,
             "#fb9f3a"
            ],
            [
             0.8888888888888888,
             "#fdca26"
            ],
            [
             1,
             "#f0f921"
            ]
           ]
          },
          "colorway": [
           "#636efa",
           "#EF553B",
           "#00cc96",
           "#ab63fa",
           "#FFA15A",
           "#19d3f3",
           "#FF6692",
           "#B6E880",
           "#FF97FF",
           "#FECB52"
          ],
          "font": {
           "color": "#2a3f5f"
          },
          "geo": {
           "bgcolor": "white",
           "lakecolor": "white",
           "landcolor": "#E5ECF6",
           "showlakes": true,
           "showland": true,
           "subunitcolor": "white"
          },
          "hoverlabel": {
           "align": "left"
          },
          "hovermode": "closest",
          "mapbox": {
           "style": "light"
          },
          "paper_bgcolor": "white",
          "plot_bgcolor": "#E5ECF6",
          "polar": {
           "angularaxis": {
            "gridcolor": "white",
            "linecolor": "white",
            "ticks": ""
           },
           "bgcolor": "#E5ECF6",
           "radialaxis": {
            "gridcolor": "white",
            "linecolor": "white",
            "ticks": ""
           }
          },
          "scene": {
           "xaxis": {
            "backgroundcolor": "#E5ECF6",
            "gridcolor": "white",
            "gridwidth": 2,
            "linecolor": "white",
            "showbackground": true,
            "ticks": "",
            "zerolinecolor": "white"
           },
           "yaxis": {
            "backgroundcolor": "#E5ECF6",
            "gridcolor": "white",
            "gridwidth": 2,
            "linecolor": "white",
            "showbackground": true,
            "ticks": "",
            "zerolinecolor": "white"
           },
           "zaxis": {
            "backgroundcolor": "#E5ECF6",
            "gridcolor": "white",
            "gridwidth": 2,
            "linecolor": "white",
            "showbackground": true,
            "ticks": "",
            "zerolinecolor": "white"
           }
          },
          "shapedefaults": {
           "line": {
            "color": "#2a3f5f"
           }
          },
          "ternary": {
           "aaxis": {
            "gridcolor": "white",
            "linecolor": "white",
            "ticks": ""
           },
           "baxis": {
            "gridcolor": "white",
            "linecolor": "white",
            "ticks": ""
           },
           "bgcolor": "#E5ECF6",
           "caxis": {
            "gridcolor": "white",
            "linecolor": "white",
            "ticks": ""
           }
          },
          "title": {
           "x": 0.05
          },
          "xaxis": {
           "automargin": true,
           "gridcolor": "white",
           "linecolor": "white",
           "ticks": "",
           "title": {
            "standoff": 15
           },
           "zerolinecolor": "white",
           "zerolinewidth": 2
          },
          "yaxis": {
           "automargin": true,
           "gridcolor": "white",
           "linecolor": "white",
           "ticks": "",
           "title": {
            "standoff": 15
           },
           "zerolinecolor": "white",
           "zerolinewidth": 2
          }
         }
        },
        "title": {
         "text": "Temporal Visualization of Netflix Titles Based on Country"
        },
        "xaxis": {
         "title": {
          "text": "Year"
         }
        },
        "yaxis": {
         "title": {
          "text": "Number of Netflix Titles"
         }
        }
       }
      }
     },
     "metadata": {},
     "output_type": "display_data"
    }
   ],
   "source": [
    "pal = list(sns.color_palette(palette='flare').as_hex())\n",
    "\n",
    "fig = go.Figure()\n",
    "for d, p in zip(temporal_dataset_country_count2, pal):\n",
    "  fig.add_trace(\n",
    "      go.Scatter(\n",
    "          x = temporal_df2[temporal_df2['Country'] == d]['Year'],\n",
    "          y = temporal_df2[temporal_df2['Country'] == d]['Constant'],\n",
    "          name = d,\n",
    "          line_color = p,\n",
    "          fill = None,\n",
    "      ) \n",
    "  )\n",
    "  fig.update_layout(\n",
    "    title='Temporal Visualization of Netflix Titles Based on Country',\n",
    "    xaxis_title=\"Year\",\n",
    "    yaxis_title=\"Number of Netflix Titles\",\n",
    "    legend_title=\"Type\",\n",
    ")\n",
    "fig.show()"
   ]
  },
  {
   "attachments": {},
   "cell_type": "markdown",
   "metadata": {},
   "source": [
    "## NETWORK VISUALIZATION"
   ]
  },
  {
   "cell_type": "code",
   "execution_count": 8,
   "metadata": {},
   "outputs": [],
   "source": [
    "# Filter data\n",
    "def filter_data(df, filter):\n",
    "    df2 = df.loc[(df['type'] == filter)].reset_index(drop=True) # filter to defined type\n",
    "    # print(f'Shape: {df2.shape}')\n",
    "    # display(df2.head())\n",
    "    return df2"
   ]
  },
  {
   "cell_type": "code",
   "execution_count": 9,
   "metadata": {},
   "outputs": [],
   "source": [
    "# Nodes\n",
    "def create_nodes(listed_in):\n",
    "    genres_n = [x.split(\", \") for x in listed_in] # split based on commas\n",
    "    genres_flattened = [item for sublist in genres_n for item in sublist] # flatten list\n",
    "    genres_nodes = list(set(genres_flattened)) # get the unique genres\n",
    "    genres_nodes.sort() # sort the list\n",
    "    top_genres = pd.DataFrame(genres_flattened).value_counts() # get the top 10 genres\n",
    "    # print(f'Genres List ({len(genres_nodes)}):\\n{genres_nodes[0:10]} .... \\n')\n",
    "    # print(f'Top 10 Genres:\\n{top_genres[0:10]}')\n",
    "    return genres_nodes\n",
    "\n",
    "# Edges\n",
    "def create_edges(listed_in):\n",
    "    genres_edges = list()\n",
    "    for x in listed_in:\n",
    "        entry = x.split(\", \") # split based on commas\n",
    "        entry_combinations = [items for items in combinations(entry, r=2)] # get the combinations per entry\n",
    "        [genres_edges.append(x) for x in entry_combinations] # append the genre combinations as edges\n",
    "    # print(f'Genres Combinations ({len(list(set(genres_edges)))}): {genres_edges[0:5]} ....')\n",
    "    return genres_edges\n",
    "\n",
    "# Get number of actual connections\n",
    "def get_actual_connections(genres_edges):\n",
    "    a = [x[0].split(\", \") for x in genres_edges]\n",
    "    b = [x[1].split(\", \") for x in genres_edges]\n",
    "    a.extend(b)\n",
    "    c = pd.DataFrame(np.array(a).flatten()).value_counts()\n",
    "    # print(f'\\nNumber of actual connections:\\n{c}')\n",
    "    return c"
   ]
  },
  {
   "cell_type": "code",
   "execution_count": 10,
   "metadata": {},
   "outputs": [],
   "source": [
    "# Set hovertext\n",
    "def set_hovertext(G, actual_connections):\n",
    "    node_adjacencies = []\n",
    "    node_text = []\n",
    "    for node, adjacencies in enumerate(G.adjacency()):\n",
    "        node_adjacencies.append(len(adjacencies[1]))\n",
    "        node_text.append(f'''Genre: {adjacencies[0]}\n",
    "            <br>Number of Actual Connections: {actual_connections.get(adjacencies[0]) if actual_connections.get(adjacencies[0]) else str(len(adjacencies[1]))}\\\n",
    "            <br>Number of Unique Connections: {str(len(adjacencies[1]))}\\\n",
    "            <br>Connections: {[y if x%2==0 else f'<br> {y}' for x, y in enumerate(list(set(adjacencies[1])))]}''')\n",
    "    return node_adjacencies, node_text\n",
    "\n",
    "# Set edges\n",
    "def set_edges(G):\n",
    "    edge_x = []\n",
    "    edge_y = []\n",
    "    for edge in G.edges():\n",
    "        x0, y0 = G.nodes[edge[0]]['pos']\n",
    "        x1, y1 = G.nodes[edge[1]]['pos']\n",
    "        edge_x.append(x0)\n",
    "        edge_x.append(x1)\n",
    "        edge_x.append(None)\n",
    "        edge_y.append(y0)\n",
    "        edge_y.append(y1)\n",
    "        edge_y.append(None)\n",
    "    edge_trace = go.Scatter(\n",
    "        x=edge_x, y=edge_y,\n",
    "        line=dict(width=0.5, color='#888'),\n",
    "        hoverinfo='none',\n",
    "        mode='lines')\n",
    "    return edge_trace\n",
    "\n",
    "# Set nodes\n",
    "def set_nodes(G, node_adjacencies, node_text):\n",
    "    node_x = []\n",
    "    node_y = []\n",
    "    node_name = []\n",
    "    for node, adjacency in zip(G.nodes(), G.adjacency()):\n",
    "        x, y = G.nodes[node]['pos']\n",
    "        node_x.append(x)\n",
    "        node_y.append(y)\n",
    "        node_name.append(adjacency[0])\n",
    "    node_trace = go.Scatter(\n",
    "        x=node_x, y=node_y,\n",
    "        mode='markers+text',\n",
    "        text=node_name,\n",
    "        textposition=\"top center\",\n",
    "        hovertext=node_text,\n",
    "        marker=dict(\n",
    "            showscale=True,\n",
    "            colorscale='Blues',\n",
    "            reversescale=True,\n",
    "            color=[],\n",
    "            size=35,\n",
    "            colorbar=dict(\n",
    "                thickness=15,\n",
    "                title='Number of Unique Connections',\n",
    "                xanchor='left',\n",
    "                titleside='right'\n",
    "            ),\n",
    "            line_width=2))\n",
    "    node_trace.marker.color = node_adjacencies\n",
    "    return node_trace"
   ]
  },
  {
   "cell_type": "code",
   "execution_count": 11,
   "metadata": {},
   "outputs": [],
   "source": [
    "# Create graph\n",
    "def create_graph(genres_nodes, genres_edges, actual_connections):\n",
    "    G = nx.waxman_graph(n=genres_nodes, beta=0.5, alpha=0.1, seed=69)\n",
    "        # nx.thresholded_random_geometric_graph(n=genres_nodes, radius=0.125, theta=0.2, seed=69)\n",
    "        # nx.random_geometric_graph(n=genres_nodes, radius=0.125, seed=69)\n",
    "    G.add_nodes_from(genres_nodes)\n",
    "    G.add_edges_from(genres_edges)\n",
    "\n",
    "    node_adjacencies, node_text = set_hovertext(G, actual_connections)\n",
    "    edge_trace = set_edges(G)\n",
    "    node_trace = set_nodes(G, node_adjacencies, node_text)\n",
    "\n",
    "    return G, edge_trace, node_trace"
   ]
  },
  {
   "cell_type": "code",
   "execution_count": 12,
   "metadata": {},
   "outputs": [
    {
     "data": {
      "application/vnd.plotly.v1+json": {
       "config": {
        "plotlyServerURL": "https://plot.ly"
       },
       "data": [
        {
         "hoverinfo": "none",
         "line": {
          "color": "#888",
          "width": 0.5
         },
         "mode": "lines",
         "type": "scatter",
         "x": [
          0.6842409524120733,
          0.44028181688454704,
          null,
          0.6842409524120733,
          0.660880825947305,
          null,
          0.6842409524120733,
          0.7880511194077156,
          null,
          0.6842409524120733,
          0.14720958617343982,
          null,
          0.6842409524120733,
          0.15048254205672162,
          null,
          0.6842409524120733,
          0.16691480626669286,
          null,
          0.6842409524120733,
          0.41453267235172464,
          null,
          0.6842409524120733,
          0.567045513075952,
          null,
          0.6842409524120733,
          0.37207996762649076,
          null,
          0.6842409524120733,
          0.32803603202013143,
          null,
          0.6842409524120733,
          0.6218675131273177,
          null,
          0.6842409524120733,
          0.8729462981149054,
          null,
          0.6842409524120733,
          0.09376692934704223,
          null,
          0.6842409524120733,
          0.31006641098111054,
          null,
          0.6842409524120733,
          0.3921160702731351,
          null,
          0.6842409524120733,
          0.3211950552460766,
          null,
          0.16691480626669286,
          0.660880825947305,
          null,
          0.16691480626669286,
          0.32803603202013143,
          null,
          0.16691480626669286,
          0.7880511194077156,
          null,
          0.16691480626669286,
          0.3211950552460766,
          null,
          0.16691480626669286,
          0.14720958617343982,
          null,
          0.16691480626669286,
          0.37207996762649076,
          null,
          0.16691480626669286,
          0.6218675131273177,
          null,
          0.16691480626669286,
          0.8729462981149054,
          null,
          0.32803603202013143,
          0.41453267235172464,
          null,
          0.32803603202013143,
          0.44028181688454704,
          null,
          0.32803603202013143,
          0.6218675131273177,
          null,
          0.32803603202013143,
          0.567045513075952,
          null,
          0.32803603202013143,
          0.37207996762649076,
          null,
          0.32803603202013143,
          0.09376692934704223,
          null,
          0.32803603202013143,
          0.660880825947305,
          null,
          0.32803603202013143,
          0.7880511194077156,
          null,
          0.32803603202013143,
          0.3211950552460766,
          null,
          0.32803603202013143,
          0.3921160702731351,
          null,
          0.32803603202013143,
          0.8729462981149054,
          null,
          0.32803603202013143,
          0.31006641098111054,
          null,
          0.32803603202013143,
          0.7252641506742268,
          null,
          0.7880511194077156,
          0.44028181688454704,
          null,
          0.7880511194077156,
          0.567045513075952,
          null,
          0.7880511194077156,
          0.41453267235172464,
          null,
          0.7880511194077156,
          0.31006641098111054,
          null,
          0.7880511194077156,
          0.660880825947305,
          null,
          0.7880511194077156,
          0.6218675131273177,
          null,
          0.7880511194077156,
          0.15048254205672162,
          null,
          0.7880511194077156,
          0.8729462981149054,
          null,
          0.7880511194077156,
          0.14720958617343982,
          null,
          0.7880511194077156,
          0.37207996762649076,
          null,
          0.7880511194077156,
          0.3211950552460766,
          null,
          0.7880511194077156,
          0.7252641506742268,
          null,
          0.7880511194077156,
          0.09376692934704223,
          null,
          0.41453267235172464,
          0.31006641098111054,
          null,
          0.41453267235172464,
          0.44028181688454704,
          null,
          0.41453267235172464,
          0.660880825947305,
          null,
          0.41453267235172464,
          0.8729462981149054,
          null,
          0.41453267235172464,
          0.6218675131273177,
          null,
          0.41453267235172464,
          0.567045513075952,
          null,
          0.41453267235172464,
          0.37207996762649076,
          null,
          0.41453267235172464,
          0.09376692934704223,
          null,
          0.41453267235172464,
          0.3211950552460766,
          null,
          0.41453267235172464,
          0.14720958617343982,
          null,
          0.41453267235172464,
          0.7252641506742268,
          null,
          0.41453267235172464,
          0.15048254205672162,
          null,
          0.41453267235172464,
          0.3921160702731351,
          null,
          0.567045513075952,
          0.31006641098111054,
          null,
          0.567045513075952,
          0.6218675131273177,
          null,
          0.567045513075952,
          0.37207996762649076,
          null,
          0.567045513075952,
          0.660880825947305,
          null,
          0.567045513075952,
          0.14720958617343982,
          null,
          0.567045513075952,
          0.44028181688454704,
          null,
          0.567045513075952,
          0.15048254205672162,
          null,
          0.567045513075952,
          0.09376692934704223,
          null,
          0.567045513075952,
          0.3211950552460766,
          null,
          0.567045513075952,
          0.7252641506742268,
          null,
          0.3211950552460766,
          0.660880825947305,
          null,
          0.3211950552460766,
          0.09376692934704223,
          null,
          0.3211950552460766,
          0.6218675131273177,
          null,
          0.3211950552460766,
          0.7252641506742268,
          null,
          0.3211950552460766,
          0.44028181688454704,
          null,
          0.3211950552460766,
          0.3921160702731351,
          null,
          0.3211950552460766,
          0.24920795780102267,
          null,
          0.3211950552460766,
          0.14720958617343982,
          null,
          0.44028181688454704,
          0.3921160702731351,
          null,
          0.44028181688454704,
          0.31006641098111054,
          null,
          0.44028181688454704,
          0.660880825947305,
          null,
          0.44028181688454704,
          0.15048254205672162,
          null,
          0.44028181688454704,
          0.14720958617343982,
          null,
          0.44028181688454704,
          0.8729462981149054,
          null,
          0.44028181688454704,
          0.6218675131273177,
          null,
          0.44028181688454704,
          0.09376692934704223,
          null,
          0.44028181688454704,
          0.37207996762649076,
          null,
          0.44028181688454704,
          0.7252641506742268,
          null,
          0.3921160702731351,
          0.660880825947305,
          null,
          0.3921160702731351,
          0.8729462981149054,
          null,
          0.3921160702731351,
          0.6218675131273177,
          null,
          0.3921160702731351,
          0.31006641098111054,
          null,
          0.3921160702731351,
          0.37207996762649076,
          null,
          0.3921160702731351,
          0.09376692934704223,
          null,
          0.14720958617343982,
          0.37207996762649076,
          null,
          0.14720958617343982,
          0.15048254205672162,
          null,
          0.14720958617343982,
          0.660880825947305,
          null,
          0.14720958617343982,
          0.31006641098111054,
          null,
          0.14720958617343982,
          0.7252641506742268,
          null,
          0.14720958617343982,
          0.8729462981149054,
          null,
          0.14720958617343982,
          0.6218675131273177,
          null,
          0.31006641098111054,
          0.660880825947305,
          null,
          0.31006641098111054,
          0.8729462981149054,
          null,
          0.31006641098111054,
          0.15048254205672162,
          null,
          0.31006641098111054,
          0.7252641506742268,
          null,
          0.31006641098111054,
          0.37207996762649076,
          null,
          0.31006641098111054,
          0.09376692934704223,
          null,
          0.31006641098111054,
          0.6218675131273177,
          null,
          0.660880825947305,
          0.8729462981149054,
          null,
          0.660880825947305,
          0.6218675131273177,
          null,
          0.660880825947305,
          0.15048254205672162,
          null,
          0.660880825947305,
          0.09376692934704223,
          null,
          0.660880825947305,
          0.37207996762649076,
          null,
          0.660880825947305,
          0.7252641506742268,
          null,
          0.7252641506742268,
          0.09376692934704223,
          null,
          0.7252641506742268,
          0.15048254205672162,
          null,
          0.7252641506742268,
          0.6218675131273177,
          null,
          0.7252641506742268,
          0.8729462981149054,
          null,
          0.6218675131273177,
          0.8729462981149054,
          null,
          0.6218675131273177,
          0.37207996762649076,
          null,
          0.6218675131273177,
          0.15048254205672162,
          null,
          0.6218675131273177,
          0.09376692934704223,
          null,
          0.6218675131273177,
          0.24920795780102267,
          null,
          0.8729462981149054,
          0.15048254205672162,
          null,
          0.8729462981149054,
          0.37207996762649076,
          null,
          0.8729462981149054,
          0.09376692934704223,
          null,
          0.37207996762649076,
          0.15048254205672162,
          null,
          0.37207996762649076,
          0.09376692934704223,
          null
         ],
         "y": [
          0.09583730847680416,
          0.4121982082245681,
          null,
          0.09583730847680416,
          0.7550396466876804,
          null,
          0.09583730847680416,
          0.8646959554344813,
          null,
          0.09583730847680416,
          0.1424353047389475,
          null,
          0.09583730847680416,
          0.47892942001362027,
          null,
          0.09583730847680416,
          0.605123857741188,
          null,
          0.09583730847680416,
          0.8288422184314298,
          null,
          0.09583730847680416,
          0.8306131699639854,
          null,
          0.09583730847680416,
          0.04069045977978103,
          null,
          0.09583730847680416,
          0.9146223207791904,
          null,
          0.09583730847680416,
          0.06532881604247609,
          null,
          0.09583730847680416,
          0.7231003910838691,
          null,
          0.09583730847680416,
          0.03047099072588033,
          null,
          0.09583730847680416,
          0.6936778047641966,
          null,
          0.09583730847680416,
          0.4143186456422864,
          null,
          0.09583730847680416,
          0.5482162967972463,
          null,
          0.605123857741188,
          0.7550396466876804,
          null,
          0.605123857741188,
          0.9146223207791904,
          null,
          0.605123857741188,
          0.8646959554344813,
          null,
          0.605123857741188,
          0.5482162967972463,
          null,
          0.605123857741188,
          0.1424353047389475,
          null,
          0.605123857741188,
          0.04069045977978103,
          null,
          0.605123857741188,
          0.06532881604247609,
          null,
          0.605123857741188,
          0.7231003910838691,
          null,
          0.9146223207791904,
          0.8288422184314298,
          null,
          0.9146223207791904,
          0.4121982082245681,
          null,
          0.9146223207791904,
          0.06532881604247609,
          null,
          0.9146223207791904,
          0.8306131699639854,
          null,
          0.9146223207791904,
          0.04069045977978103,
          null,
          0.9146223207791904,
          0.03047099072588033,
          null,
          0.9146223207791904,
          0.7550396466876804,
          null,
          0.9146223207791904,
          0.8646959554344813,
          null,
          0.9146223207791904,
          0.5482162967972463,
          null,
          0.9146223207791904,
          0.4143186456422864,
          null,
          0.9146223207791904,
          0.7231003910838691,
          null,
          0.9146223207791904,
          0.6936778047641966,
          null,
          0.9146223207791904,
          0.8164943919155454,
          null,
          0.8646959554344813,
          0.4121982082245681,
          null,
          0.8646959554344813,
          0.8306131699639854,
          null,
          0.8646959554344813,
          0.8288422184314298,
          null,
          0.8646959554344813,
          0.6936778047641966,
          null,
          0.8646959554344813,
          0.7550396466876804,
          null,
          0.8646959554344813,
          0.06532881604247609,
          null,
          0.8646959554344813,
          0.47892942001362027,
          null,
          0.8646959554344813,
          0.7231003910838691,
          null,
          0.8646959554344813,
          0.1424353047389475,
          null,
          0.8646959554344813,
          0.04069045977978103,
          null,
          0.8646959554344813,
          0.5482162967972463,
          null,
          0.8646959554344813,
          0.8164943919155454,
          null,
          0.8646959554344813,
          0.03047099072588033,
          null,
          0.8288422184314298,
          0.6936778047641966,
          null,
          0.8288422184314298,
          0.4121982082245681,
          null,
          0.8288422184314298,
          0.7550396466876804,
          null,
          0.8288422184314298,
          0.7231003910838691,
          null,
          0.8288422184314298,
          0.06532881604247609,
          null,
          0.8288422184314298,
          0.8306131699639854,
          null,
          0.8288422184314298,
          0.04069045977978103,
          null,
          0.8288422184314298,
          0.03047099072588033,
          null,
          0.8288422184314298,
          0.5482162967972463,
          null,
          0.8288422184314298,
          0.1424353047389475,
          null,
          0.8288422184314298,
          0.8164943919155454,
          null,
          0.8288422184314298,
          0.47892942001362027,
          null,
          0.8288422184314298,
          0.4143186456422864,
          null,
          0.8306131699639854,
          0.6936778047641966,
          null,
          0.8306131699639854,
          0.06532881604247609,
          null,
          0.8306131699639854,
          0.04069045977978103,
          null,
          0.8306131699639854,
          0.7550396466876804,
          null,
          0.8306131699639854,
          0.1424353047389475,
          null,
          0.8306131699639854,
          0.4121982082245681,
          null,
          0.8306131699639854,
          0.47892942001362027,
          null,
          0.8306131699639854,
          0.03047099072588033,
          null,
          0.8306131699639854,
          0.5482162967972463,
          null,
          0.8306131699639854,
          0.8164943919155454,
          null,
          0.5482162967972463,
          0.7550396466876804,
          null,
          0.5482162967972463,
          0.03047099072588033,
          null,
          0.5482162967972463,
          0.06532881604247609,
          null,
          0.5482162967972463,
          0.8164943919155454,
          null,
          0.5482162967972463,
          0.4121982082245681,
          null,
          0.5482162967972463,
          0.4143186456422864,
          null,
          0.5482162967972463,
          0.2443430369605537,
          null,
          0.5482162967972463,
          0.1424353047389475,
          null,
          0.4121982082245681,
          0.4143186456422864,
          null,
          0.4121982082245681,
          0.6936778047641966,
          null,
          0.4121982082245681,
          0.7550396466876804,
          null,
          0.4121982082245681,
          0.47892942001362027,
          null,
          0.4121982082245681,
          0.1424353047389475,
          null,
          0.4121982082245681,
          0.7231003910838691,
          null,
          0.4121982082245681,
          0.06532881604247609,
          null,
          0.4121982082245681,
          0.03047099072588033,
          null,
          0.4121982082245681,
          0.04069045977978103,
          null,
          0.4121982082245681,
          0.8164943919155454,
          null,
          0.4143186456422864,
          0.7550396466876804,
          null,
          0.4143186456422864,
          0.7231003910838691,
          null,
          0.4143186456422864,
          0.06532881604247609,
          null,
          0.4143186456422864,
          0.6936778047641966,
          null,
          0.4143186456422864,
          0.04069045977978103,
          null,
          0.4143186456422864,
          0.03047099072588033,
          null,
          0.1424353047389475,
          0.04069045977978103,
          null,
          0.1424353047389475,
          0.47892942001362027,
          null,
          0.1424353047389475,
          0.7550396466876804,
          null,
          0.1424353047389475,
          0.6936778047641966,
          null,
          0.1424353047389475,
          0.8164943919155454,
          null,
          0.1424353047389475,
          0.7231003910838691,
          null,
          0.1424353047389475,
          0.06532881604247609,
          null,
          0.6936778047641966,
          0.7550396466876804,
          null,
          0.6936778047641966,
          0.7231003910838691,
          null,
          0.6936778047641966,
          0.47892942001362027,
          null,
          0.6936778047641966,
          0.8164943919155454,
          null,
          0.6936778047641966,
          0.04069045977978103,
          null,
          0.6936778047641966,
          0.03047099072588033,
          null,
          0.6936778047641966,
          0.06532881604247609,
          null,
          0.7550396466876804,
          0.7231003910838691,
          null,
          0.7550396466876804,
          0.06532881604247609,
          null,
          0.7550396466876804,
          0.47892942001362027,
          null,
          0.7550396466876804,
          0.03047099072588033,
          null,
          0.7550396466876804,
          0.04069045977978103,
          null,
          0.7550396466876804,
          0.8164943919155454,
          null,
          0.8164943919155454,
          0.03047099072588033,
          null,
          0.8164943919155454,
          0.47892942001362027,
          null,
          0.8164943919155454,
          0.06532881604247609,
          null,
          0.8164943919155454,
          0.7231003910838691,
          null,
          0.06532881604247609,
          0.7231003910838691,
          null,
          0.06532881604247609,
          0.04069045977978103,
          null,
          0.06532881604247609,
          0.47892942001362027,
          null,
          0.06532881604247609,
          0.03047099072588033,
          null,
          0.06532881604247609,
          0.2443430369605537,
          null,
          0.7231003910838691,
          0.47892942001362027,
          null,
          0.7231003910838691,
          0.04069045977978103,
          null,
          0.7231003910838691,
          0.03047099072588033,
          null,
          0.04069045977978103,
          0.47892942001362027,
          null,
          0.04069045977978103,
          0.03047099072588033,
          null
         ]
        },
        {
         "hovertext": [
          "Genre: Action & Adventure\n            <br>Number of Actual Connections: 1183            <br>Number of Unique Connections: 16            <br>Connections: ['Independent Movies', '<br> Cult Movies', 'Sci-Fi & Fantasy', '<br> Anime Features', 'Thrillers', '<br> Romantic Movies', 'Horror Movies', '<br> Children & Family Movies', 'Faith & Spirituality', '<br> Dramas', 'Music & Musicals', '<br> Sports Movies', 'International Movies', '<br> Documentaries', 'Comedies', '<br> Classic Movies']",
          "Genre: Anime Features\n            <br>Number of Actual Connections: 127            <br>Number of Unique Connections: 9            <br>Connections: ['Action & Adventure', '<br> Horror Movies', 'Children & Family Movies', '<br> Sci-Fi & Fantasy', 'Music & Musicals', '<br> International Movies', 'Documentaries', '<br> Classic Movies', 'Romantic Movies']",
          "Genre: Children & Family Movies\n            <br>Number of Actual Connections: 567            <br>Number of Unique Connections: 15            <br>Connections: ['Action & Adventure', '<br> Independent Movies', 'Faith & Spirituality', '<br> Cult Movies', 'Dramas', '<br> Sci-Fi & Fantasy', 'Music & Musicals', '<br> Sports Movies', 'International Movies', '<br> Anime Features', 'LGBTQ Movies', '<br> Documentaries', 'Comedies', '<br> Classic Movies', 'Romantic Movies']",
          "Genre: Classic Movies\n            <br>Number of Actual Connections: 202            <br>Number of Unique Connections: 16            <br>Connections: ['Independent Movies', '<br> Cult Movies', 'Sci-Fi & Fantasy', '<br> Anime Features', 'Thrillers', '<br> Romantic Movies', 'Action & Adventure', '<br> Horror Movies', 'Children & Family Movies', '<br> Dramas', 'Music & Musicals', '<br> Sports Movies', 'International Movies', '<br> LGBTQ Movies', 'Documentaries', '<br> Comedies']",
          "Genre: Comedies\n            <br>Number of Actual Connections: 2520            <br>Number of Unique Connections: 16            <br>Connections: ['Independent Movies', '<br> Cult Movies', 'Sci-Fi & Fantasy', '<br> Thrillers', 'Romantic Movies', '<br> Action & Adventure', 'Horror Movies', '<br> Children & Family Movies', 'Faith & Spirituality', '<br> Dramas', 'Music & Musicals', '<br> Sports Movies', 'International Movies', '<br> LGBTQ Movies', 'Documentaries', '<br> Classic Movies']",
          "Genre: Cult Movies\n            <br>Number of Actual Connections: 124            <br>Number of Unique Connections: 14            <br>Connections: ['Action & Adventure', '<br> Independent Movies', 'Horror Movies', '<br> Children & Family Movies', 'Documentaries', '<br> Dramas', 'Sci-Fi & Fantasy', '<br> Music & Musicals', 'Sports Movies', '<br> International Movies', 'LGBTQ Movies', '<br> Thrillers', 'Comedies', '<br> Classic Movies']",
          "Genre: Documentaries\n            <br>Number of Actual Connections: 629            <br>Number of Unique Connections: 14            <br>Connections: ['Stand-Up Comedy', '<br> Action & Adventure', 'Faith & Spirituality', '<br> Children & Family Movies', 'Horror Movies', '<br> Cult Movies', 'Dramas', '<br> Sports Movies', 'Music & Musicals', '<br> International Movies', 'Anime Features', '<br> LGBTQ Movies', 'Comedies', '<br> Classic Movies']",
          "Genre: Dramas\n            <br>Number of Actual Connections: 3821            <br>Number of Unique Connections: 16            <br>Connections: ['Independent Movies', '<br> Cult Movies', 'Sci-Fi & Fantasy', '<br> Thrillers', 'Romantic Movies', '<br> Action & Adventure', 'Faith & Spirituality', '<br> Horror Movies', 'Children & Family Movies', '<br> Music & Musicals', 'Sports Movies', '<br> International Movies', 'LGBTQ Movies', '<br> Documentaries', 'Comedies', '<br> Classic Movies']",
          "Genre: Faith & Spirituality\n            <br>Number of Actual Connections: 103            <br>Number of Unique Connections: 11            <br>Connections: ['Action & Adventure', '<br> Independent Movies', 'Children & Family Movies', '<br> Dramas', 'Sci-Fi & Fantasy', '<br> Music & Musicals', 'Sports Movies', '<br> International Movies', 'Documentaries', '<br> Comedies', 'Romantic Movies']",
          "Genre: Horror Movies\n            <br>Number of Actual Connections: 444            <br>Number of Unique Connections: 14            <br>Connections: ['Action & Adventure', '<br> Independent Movies', 'Documentaries', '<br> Cult Movies', 'Dramas', '<br> Sci-Fi & Fantasy', 'Music & Musicals', '<br> International Movies', 'Anime Features', '<br> LGBTQ Movies', 'Thrillers', '<br> Comedies', 'Classic Movies', '<br> Romantic Movies']",
          "Genre: Independent Movies\n            <br>Number of Actual Connections: 1347            <br>Number of Unique Connections: 15            <br>Connections: ['Action & Adventure', '<br> Horror Movies', 'Children & Family Movies', '<br> Faith & Spirituality', 'Cult Movies', '<br> Dramas', 'Sci-Fi & Fantasy', '<br> Sports Movies', 'Music & Musicals', '<br> International Movies', 'LGBTQ Movies', '<br> Thrillers', 'Comedies', '<br> Classic Movies', 'Romantic Movies']",
          "Genre: International Movies\n            <br>Number of Actual Connections: 4513            <br>Number of Unique Connections: 17            <br>Connections: ['Independent Movies', '<br> Cult Movies', 'Sci-Fi & Fantasy', '<br> Anime Features', 'Thrillers', '<br> Romantic Movies', 'Action & Adventure', '<br> Horror Movies', 'Children & Family Movies', '<br> Faith & Spirituality', 'Dramas', '<br> Music & Musicals', 'Sports Movies', '<br> LGBTQ Movies', 'Documentaries', '<br> Comedies', 'Classic Movies']",
          "Genre: LGBTQ Movies\n            <br>Number of Actual Connections: 170            <br>Number of Unique Connections: 13            <br>Connections: ['Independent Movies', '<br> Horror Movies', 'Thrillers', '<br> Children & Family Movies', 'Cult Movies', '<br> Dramas', 'Sports Movies', '<br> Music & Musicals', 'International Movies', '<br> Documentaries', 'Comedies', '<br> Classic Movies', 'Romantic Movies']",
          "Genre: Movies\n            <br>Number of Actual Connections: 0            <br>Number of Unique Connections: 0            <br>Connections: []",
          "Genre: Music & Musicals\n            <br>Number of Actual Connections: 593            <br>Number of Unique Connections: 18            <br>Connections: ['Stand-Up Comedy', '<br> Independent Movies', 'Cult Movies', '<br> Sci-Fi & Fantasy', 'Anime Features', '<br> Thrillers', 'Romantic Movies', '<br> Action & Adventure', 'Faith & Spirituality', '<br> Children & Family Movies', 'Horror Movies', '<br> Dramas', 'Sports Movies', '<br> International Movies', 'LGBTQ Movies', '<br> Documentaries', 'Comedies', '<br> Classic Movies']",
          "Genre: Romantic Movies\n            <br>Number of Actual Connections: 1071            <br>Number of Unique Connections: 15            <br>Connections: ['Action & Adventure', '<br> Independent Movies', 'Faith & Spirituality', '<br> Horror Movies', 'Children & Family Movies', '<br> Dramas', 'Sci-Fi & Fantasy', '<br> Music & Musicals', 'Sports Movies', '<br> International Movies', 'Anime Features', '<br> LGBTQ Movies', 'Thrillers', '<br> Comedies', 'Classic Movies']",
          "Genre: Sci-Fi & Fantasy\n            <br>Number of Actual Connections: 385            <br>Number of Unique Connections: 15            <br>Connections: ['Action & Adventure', '<br> Independent Movies', 'Horror Movies', '<br> Children & Family Movies', 'Faith & Spirituality', '<br> Cult Movies', 'Dramas', '<br> Sports Movies', 'Music & Musicals', '<br> International Movies', 'Anime Features', '<br> Thrillers', 'Comedies', '<br> Classic Movies', 'Romantic Movies']",
          "Genre: Sports Movies\n            <br>Number of Actual Connections: 336            <br>Number of Unique Connections: 14            <br>Connections: ['Action & Adventure', '<br> Independent Movies', 'Faith & Spirituality', '<br> Children & Family Movies', 'Cult Movies', '<br> Dramas', 'Sci-Fi & Fantasy', '<br> Music & Musicals', 'International Movies', '<br> LGBTQ Movies', 'Documentaries', '<br> Comedies', 'Classic Movies', '<br> Romantic Movies']",
          "Genre: Stand-Up Comedy\n            <br>Number of Actual Connections: 9            <br>Number of Unique Connections: 2            <br>Connections: ['Documentaries', '<br> Music & Musicals']",
          "Genre: Thrillers\n            <br>Number of Actual Connections: 792            <br>Number of Unique Connections: 12            <br>Connections: ['Action & Adventure', '<br> Independent Movies', 'Horror Movies', '<br> Cult Movies', 'Dramas', '<br> Sci-Fi & Fantasy', 'Music & Musicals', '<br> International Movies', 'LGBTQ Movies', '<br> Comedies', 'Classic Movies', '<br> Romantic Movies']"
         ],
         "marker": {
          "color": [
           16,
           9,
           15,
           16,
           16,
           14,
           14,
           16,
           11,
           14,
           15,
           17,
           13,
           0,
           18,
           15,
           15,
           14,
           2,
           12
          ],
          "colorbar": {
           "thickness": 15,
           "title": {
            "side": "right",
            "text": "Number of Unique Connections"
           },
           "xanchor": "left"
          },
          "colorscale": [
           [
            0,
            "rgb(247,251,255)"
           ],
           [
            0.125,
            "rgb(222,235,247)"
           ],
           [
            0.25,
            "rgb(198,219,239)"
           ],
           [
            0.375,
            "rgb(158,202,225)"
           ],
           [
            0.5,
            "rgb(107,174,214)"
           ],
           [
            0.625,
            "rgb(66,146,198)"
           ],
           [
            0.75,
            "rgb(33,113,181)"
           ],
           [
            0.875,
            "rgb(8,81,156)"
           ],
           [
            1,
            "rgb(8,48,107)"
           ]
          ],
          "line": {
           "width": 2
          },
          "reversescale": true,
          "showscale": true,
          "size": 35
         },
         "mode": "markers+text",
         "text": [
          "Action & Adventure",
          "Anime Features",
          "Children & Family Movies",
          "Classic Movies",
          "Comedies",
          "Cult Movies",
          "Documentaries",
          "Dramas",
          "Faith & Spirituality",
          "Horror Movies",
          "Independent Movies",
          "International Movies",
          "LGBTQ Movies",
          "Movies",
          "Music & Musicals",
          "Romantic Movies",
          "Sci-Fi & Fantasy",
          "Sports Movies",
          "Stand-Up Comedy",
          "Thrillers"
         ],
         "textposition": "top center",
         "type": "scatter",
         "x": [
          0.6842409524120733,
          0.16691480626669286,
          0.32803603202013143,
          0.7880511194077156,
          0.41453267235172464,
          0.567045513075952,
          0.3211950552460766,
          0.44028181688454704,
          0.3921160702731351,
          0.14720958617343982,
          0.31006641098111054,
          0.660880825947305,
          0.7252641506742268,
          0.10326330437811937,
          0.6218675131273177,
          0.8729462981149054,
          0.37207996762649076,
          0.09376692934704223,
          0.24920795780102267,
          0.15048254205672162
         ],
         "y": [
          0.09583730847680416,
          0.605123857741188,
          0.9146223207791904,
          0.8646959554344813,
          0.8288422184314298,
          0.8306131699639854,
          0.5482162967972463,
          0.4121982082245681,
          0.4143186456422864,
          0.1424353047389475,
          0.6936778047641966,
          0.7550396466876804,
          0.8164943919155454,
          0.3872833169208726,
          0.06532881604247609,
          0.7231003910838691,
          0.04069045977978103,
          0.03047099072588033,
          0.2443430369605537,
          0.47892942001362027
         ]
        }
       ],
       "layout": {
        "height": 600,
        "hovermode": "closest",
        "margin": {
         "b": 20,
         "l": 5,
         "r": 5,
         "t": 80
        },
        "showlegend": false,
        "template": {
         "data": {
          "bar": [
           {
            "error_x": {
             "color": "#2a3f5f"
            },
            "error_y": {
             "color": "#2a3f5f"
            },
            "marker": {
             "line": {
              "color": "#E5ECF6",
              "width": 0.5
             },
             "pattern": {
              "fillmode": "overlay",
              "size": 10,
              "solidity": 0.2
             }
            },
            "type": "bar"
           }
          ],
          "barpolar": [
           {
            "marker": {
             "line": {
              "color": "#E5ECF6",
              "width": 0.5
             },
             "pattern": {
              "fillmode": "overlay",
              "size": 10,
              "solidity": 0.2
             }
            },
            "type": "barpolar"
           }
          ],
          "carpet": [
           {
            "aaxis": {
             "endlinecolor": "#2a3f5f",
             "gridcolor": "white",
             "linecolor": "white",
             "minorgridcolor": "white",
             "startlinecolor": "#2a3f5f"
            },
            "baxis": {
             "endlinecolor": "#2a3f5f",
             "gridcolor": "white",
             "linecolor": "white",
             "minorgridcolor": "white",
             "startlinecolor": "#2a3f5f"
            },
            "type": "carpet"
           }
          ],
          "choropleth": [
           {
            "colorbar": {
             "outlinewidth": 0,
             "ticks": ""
            },
            "type": "choropleth"
           }
          ],
          "contour": [
           {
            "colorbar": {
             "outlinewidth": 0,
             "ticks": ""
            },
            "colorscale": [
             [
              0,
              "#0d0887"
             ],
             [
              0.1111111111111111,
              "#46039f"
             ],
             [
              0.2222222222222222,
              "#7201a8"
             ],
             [
              0.3333333333333333,
              "#9c179e"
             ],
             [
              0.4444444444444444,
              "#bd3786"
             ],
             [
              0.5555555555555556,
              "#d8576b"
             ],
             [
              0.6666666666666666,
              "#ed7953"
             ],
             [
              0.7777777777777778,
              "#fb9f3a"
             ],
             [
              0.8888888888888888,
              "#fdca26"
             ],
             [
              1,
              "#f0f921"
             ]
            ],
            "type": "contour"
           }
          ],
          "contourcarpet": [
           {
            "colorbar": {
             "outlinewidth": 0,
             "ticks": ""
            },
            "type": "contourcarpet"
           }
          ],
          "heatmap": [
           {
            "colorbar": {
             "outlinewidth": 0,
             "ticks": ""
            },
            "colorscale": [
             [
              0,
              "#0d0887"
             ],
             [
              0.1111111111111111,
              "#46039f"
             ],
             [
              0.2222222222222222,
              "#7201a8"
             ],
             [
              0.3333333333333333,
              "#9c179e"
             ],
             [
              0.4444444444444444,
              "#bd3786"
             ],
             [
              0.5555555555555556,
              "#d8576b"
             ],
             [
              0.6666666666666666,
              "#ed7953"
             ],
             [
              0.7777777777777778,
              "#fb9f3a"
             ],
             [
              0.8888888888888888,
              "#fdca26"
             ],
             [
              1,
              "#f0f921"
             ]
            ],
            "type": "heatmap"
           }
          ],
          "heatmapgl": [
           {
            "colorbar": {
             "outlinewidth": 0,
             "ticks": ""
            },
            "colorscale": [
             [
              0,
              "#0d0887"
             ],
             [
              0.1111111111111111,
              "#46039f"
             ],
             [
              0.2222222222222222,
              "#7201a8"
             ],
             [
              0.3333333333333333,
              "#9c179e"
             ],
             [
              0.4444444444444444,
              "#bd3786"
             ],
             [
              0.5555555555555556,
              "#d8576b"
             ],
             [
              0.6666666666666666,
              "#ed7953"
             ],
             [
              0.7777777777777778,
              "#fb9f3a"
             ],
             [
              0.8888888888888888,
              "#fdca26"
             ],
             [
              1,
              "#f0f921"
             ]
            ],
            "type": "heatmapgl"
           }
          ],
          "histogram": [
           {
            "marker": {
             "pattern": {
              "fillmode": "overlay",
              "size": 10,
              "solidity": 0.2
             }
            },
            "type": "histogram"
           }
          ],
          "histogram2d": [
           {
            "colorbar": {
             "outlinewidth": 0,
             "ticks": ""
            },
            "colorscale": [
             [
              0,
              "#0d0887"
             ],
             [
              0.1111111111111111,
              "#46039f"
             ],
             [
              0.2222222222222222,
              "#7201a8"
             ],
             [
              0.3333333333333333,
              "#9c179e"
             ],
             [
              0.4444444444444444,
              "#bd3786"
             ],
             [
              0.5555555555555556,
              "#d8576b"
             ],
             [
              0.6666666666666666,
              "#ed7953"
             ],
             [
              0.7777777777777778,
              "#fb9f3a"
             ],
             [
              0.8888888888888888,
              "#fdca26"
             ],
             [
              1,
              "#f0f921"
             ]
            ],
            "type": "histogram2d"
           }
          ],
          "histogram2dcontour": [
           {
            "colorbar": {
             "outlinewidth": 0,
             "ticks": ""
            },
            "colorscale": [
             [
              0,
              "#0d0887"
             ],
             [
              0.1111111111111111,
              "#46039f"
             ],
             [
              0.2222222222222222,
              "#7201a8"
             ],
             [
              0.3333333333333333,
              "#9c179e"
             ],
             [
              0.4444444444444444,
              "#bd3786"
             ],
             [
              0.5555555555555556,
              "#d8576b"
             ],
             [
              0.6666666666666666,
              "#ed7953"
             ],
             [
              0.7777777777777778,
              "#fb9f3a"
             ],
             [
              0.8888888888888888,
              "#fdca26"
             ],
             [
              1,
              "#f0f921"
             ]
            ],
            "type": "histogram2dcontour"
           }
          ],
          "mesh3d": [
           {
            "colorbar": {
             "outlinewidth": 0,
             "ticks": ""
            },
            "type": "mesh3d"
           }
          ],
          "parcoords": [
           {
            "line": {
             "colorbar": {
              "outlinewidth": 0,
              "ticks": ""
             }
            },
            "type": "parcoords"
           }
          ],
          "pie": [
           {
            "automargin": true,
            "type": "pie"
           }
          ],
          "scatter": [
           {
            "marker": {
             "colorbar": {
              "outlinewidth": 0,
              "ticks": ""
             }
            },
            "type": "scatter"
           }
          ],
          "scatter3d": [
           {
            "line": {
             "colorbar": {
              "outlinewidth": 0,
              "ticks": ""
             }
            },
            "marker": {
             "colorbar": {
              "outlinewidth": 0,
              "ticks": ""
             }
            },
            "type": "scatter3d"
           }
          ],
          "scattercarpet": [
           {
            "marker": {
             "colorbar": {
              "outlinewidth": 0,
              "ticks": ""
             }
            },
            "type": "scattercarpet"
           }
          ],
          "scattergeo": [
           {
            "marker": {
             "colorbar": {
              "outlinewidth": 0,
              "ticks": ""
             }
            },
            "type": "scattergeo"
           }
          ],
          "scattergl": [
           {
            "marker": {
             "colorbar": {
              "outlinewidth": 0,
              "ticks": ""
             }
            },
            "type": "scattergl"
           }
          ],
          "scattermapbox": [
           {
            "marker": {
             "colorbar": {
              "outlinewidth": 0,
              "ticks": ""
             }
            },
            "type": "scattermapbox"
           }
          ],
          "scatterpolar": [
           {
            "marker": {
             "colorbar": {
              "outlinewidth": 0,
              "ticks": ""
             }
            },
            "type": "scatterpolar"
           }
          ],
          "scatterpolargl": [
           {
            "marker": {
             "colorbar": {
              "outlinewidth": 0,
              "ticks": ""
             }
            },
            "type": "scatterpolargl"
           }
          ],
          "scatterternary": [
           {
            "marker": {
             "colorbar": {
              "outlinewidth": 0,
              "ticks": ""
             }
            },
            "type": "scatterternary"
           }
          ],
          "surface": [
           {
            "colorbar": {
             "outlinewidth": 0,
             "ticks": ""
            },
            "colorscale": [
             [
              0,
              "#0d0887"
             ],
             [
              0.1111111111111111,
              "#46039f"
             ],
             [
              0.2222222222222222,
              "#7201a8"
             ],
             [
              0.3333333333333333,
              "#9c179e"
             ],
             [
              0.4444444444444444,
              "#bd3786"
             ],
             [
              0.5555555555555556,
              "#d8576b"
             ],
             [
              0.6666666666666666,
              "#ed7953"
             ],
             [
              0.7777777777777778,
              "#fb9f3a"
             ],
             [
              0.8888888888888888,
              "#fdca26"
             ],
             [
              1,
              "#f0f921"
             ]
            ],
            "type": "surface"
           }
          ],
          "table": [
           {
            "cells": {
             "fill": {
              "color": "#EBF0F8"
             },
             "line": {
              "color": "white"
             }
            },
            "header": {
             "fill": {
              "color": "#C8D4E3"
             },
             "line": {
              "color": "white"
             }
            },
            "type": "table"
           }
          ]
         },
         "layout": {
          "annotationdefaults": {
           "arrowcolor": "#2a3f5f",
           "arrowhead": 0,
           "arrowwidth": 1
          },
          "autotypenumbers": "strict",
          "coloraxis": {
           "colorbar": {
            "outlinewidth": 0,
            "ticks": ""
           }
          },
          "colorscale": {
           "diverging": [
            [
             0,
             "#8e0152"
            ],
            [
             0.1,
             "#c51b7d"
            ],
            [
             0.2,
             "#de77ae"
            ],
            [
             0.3,
             "#f1b6da"
            ],
            [
             0.4,
             "#fde0ef"
            ],
            [
             0.5,
             "#f7f7f7"
            ],
            [
             0.6,
             "#e6f5d0"
            ],
            [
             0.7,
             "#b8e186"
            ],
            [
             0.8,
             "#7fbc41"
            ],
            [
             0.9,
             "#4d9221"
            ],
            [
             1,
             "#276419"
            ]
           ],
           "sequential": [
            [
             0,
             "#0d0887"
            ],
            [
             0.1111111111111111,
             "#46039f"
            ],
            [
             0.2222222222222222,
             "#7201a8"
            ],
            [
             0.3333333333333333,
             "#9c179e"
            ],
            [
             0.4444444444444444,
             "#bd3786"
            ],
            [
             0.5555555555555556,
             "#d8576b"
            ],
            [
             0.6666666666666666,
             "#ed7953"
            ],
            [
             0.7777777777777778,
             "#fb9f3a"
            ],
            [
             0.8888888888888888,
             "#fdca26"
            ],
            [
             1,
             "#f0f921"
            ]
           ],
           "sequentialminus": [
            [
             0,
             "#0d0887"
            ],
            [
             0.1111111111111111,
             "#46039f"
            ],
            [
             0.2222222222222222,
             "#7201a8"
            ],
            [
             0.3333333333333333,
             "#9c179e"
            ],
            [
             0.4444444444444444,
             "#bd3786"
            ],
            [
             0.5555555555555556,
             "#d8576b"
            ],
            [
             0.6666666666666666,
             "#ed7953"
            ],
            [
             0.7777777777777778,
             "#fb9f3a"
            ],
            [
             0.8888888888888888,
             "#fdca26"
            ],
            [
             1,
             "#f0f921"
            ]
           ]
          },
          "colorway": [
           "#636efa",
           "#EF553B",
           "#00cc96",
           "#ab63fa",
           "#FFA15A",
           "#19d3f3",
           "#FF6692",
           "#B6E880",
           "#FF97FF",
           "#FECB52"
          ],
          "font": {
           "color": "#2a3f5f"
          },
          "geo": {
           "bgcolor": "white",
           "lakecolor": "white",
           "landcolor": "#E5ECF6",
           "showlakes": true,
           "showland": true,
           "subunitcolor": "white"
          },
          "hoverlabel": {
           "align": "left"
          },
          "hovermode": "closest",
          "mapbox": {
           "style": "light"
          },
          "paper_bgcolor": "white",
          "plot_bgcolor": "#E5ECF6",
          "polar": {
           "angularaxis": {
            "gridcolor": "white",
            "linecolor": "white",
            "ticks": ""
           },
           "bgcolor": "#E5ECF6",
           "radialaxis": {
            "gridcolor": "white",
            "linecolor": "white",
            "ticks": ""
           }
          },
          "scene": {
           "xaxis": {
            "backgroundcolor": "#E5ECF6",
            "gridcolor": "white",
            "gridwidth": 2,
            "linecolor": "white",
            "showbackground": true,
            "ticks": "",
            "zerolinecolor": "white"
           },
           "yaxis": {
            "backgroundcolor": "#E5ECF6",
            "gridcolor": "white",
            "gridwidth": 2,
            "linecolor": "white",
            "showbackground": true,
            "ticks": "",
            "zerolinecolor": "white"
           },
           "zaxis": {
            "backgroundcolor": "#E5ECF6",
            "gridcolor": "white",
            "gridwidth": 2,
            "linecolor": "white",
            "showbackground": true,
            "ticks": "",
            "zerolinecolor": "white"
           }
          },
          "shapedefaults": {
           "line": {
            "color": "#2a3f5f"
           }
          },
          "ternary": {
           "aaxis": {
            "gridcolor": "white",
            "linecolor": "white",
            "ticks": ""
           },
           "baxis": {
            "gridcolor": "white",
            "linecolor": "white",
            "ticks": ""
           },
           "bgcolor": "#E5ECF6",
           "caxis": {
            "gridcolor": "white",
            "linecolor": "white",
            "ticks": ""
           }
          },
          "title": {
           "x": 0.05
          },
          "xaxis": {
           "automargin": true,
           "gridcolor": "white",
           "linecolor": "white",
           "ticks": "",
           "title": {
            "standoff": 15
           },
           "zerolinecolor": "white",
           "zerolinewidth": 2
          },
          "yaxis": {
           "automargin": true,
           "gridcolor": "white",
           "linecolor": "white",
           "ticks": "",
           "title": {
            "standoff": 15
           },
           "zerolinecolor": "white",
           "zerolinewidth": 2
          }
         }
        },
        "title": {
         "font": {
          "size": 18
         },
         "text": "<br>Netflix Movie Genres Network Visualization"
        },
        "width": 1200,
        "xaxis": {
         "showgrid": false,
         "showticklabels": false,
         "zeroline": false
        },
        "yaxis": {
         "showgrid": false,
         "showticklabels": false,
         "zeroline": false
        }
       }
      }
     },
     "metadata": {},
     "output_type": "display_data"
    }
   ],
   "source": [
    "# Netflix Genres Network Visualization\n",
    "filter = 'Movie'\n",
    "dataframe_filter = filter_data(df, filter)\n",
    "genres_nodes = create_nodes(dataframe_filter.listed_in)\n",
    "genres_edges = create_edges(dataframe_filter.listed_in)\n",
    "actual_connections = get_actual_connections(genres_edges)\n",
    "G, edge_trace, node_trace = create_graph(genres_nodes, genres_edges, actual_connections)\n",
    "\n",
    "fig = go.Figure(data=[edge_trace, node_trace],\n",
    "    layout=go.Layout(\n",
    "        title=f'<br>Netflix {filter} Genres Network Visualization',\n",
    "        title_font_size=18, width=1200, height=600,\n",
    "        showlegend=False, hovermode='closest',\n",
    "        margin=dict(b=20, l=5, r=5, t=80),\n",
    "        xaxis=dict(showgrid=False, zeroline=False, showticklabels=False),\n",
    "        yaxis=dict(showgrid=False, zeroline=False, showticklabels=False))\n",
    "    )\n",
    "fig.show()"
   ]
  },
  {
   "cell_type": "code",
   "execution_count": 13,
   "metadata": {},
   "outputs": [
    {
     "data": {
      "image/png": "[encoded data removed]",
      "text/plain": [
       "<Figure size 1500x1000 with 1 Axes>"
      ]
     },
     "metadata": {},
     "output_type": "display_data"
    }
   ],
   "source": [
    "# Kamada Kawai layout\n",
    "G2 = nx.Graph()\n",
    "G2.add_nodes_from(genres_nodes)\n",
    "G2.add_edges_from(genres_edges)\n",
    "\n",
    "# Set color\n",
    "genres_nodes_from = [x[0] for x in genres_edges]\n",
    "genres_nodes_from = LabelEncoder().fit_transform(genres_nodes_from)\n",
    "colors = list(sns.color_palette(palette='dark', n_colors=len(genres_nodes_from)).as_hex())\n",
    "colors[0:5]\n",
    "\n",
    "plt.figure(1, figsize=(15, 10)) \n",
    "nx.draw(G2, pos=nx.kamada_kawai_layout(G, scale=1, weight='width', dim=2), with_labels=True, \n",
    "    node_size=500, font_size=10, node_color='skyblue', width=1.0,\n",
    "    edge_color=colors, edge_cmap=plt.cm.Blues) # '#00b4d9')\n",
    "plt.show()\n"
   ]
  },
  {
   "cell_type": "code",
   "execution_count": 14,
   "metadata": {},
   "outputs": [],
   "source": [
    "# Get first 3 entries in 'cast' column (Movie)\n",
    "# Remove na and symbols\n",
    "dataframe_cast_filtered = df[df['cast'].notna()]\n",
    "dataframe_cast_filtered['cast'] = dataframe_cast_filtered['cast'].str.replace('$', '', regex=True)\n",
    "dataframe_cast_filtered.head()\n",
    "# dataframe_filter = filter_data(dataframe_cast_filtered, 'Movie')\n",
    "genres_nodes = create_nodes(pd.Series(dataframe_cast_filtered.at[5940, 'cast']))\n",
    "genres_edges = create_edges(pd.Series(dataframe_cast_filtered.at[5940, 'cast']))"
   ]
  },
  {
   "cell_type": "code",
   "execution_count": 15,
   "metadata": {},
   "outputs": [
    {
     "data": {
      "application/vnd.plotly.v1+json": {
       "config": {
        "plotlyServerURL": "https://plot.ly"
       },
       "data": [
        {
         "hoverinfo": "none",
         "line": {
          "color": "#888",
          "width": 0.5
         },
         "mode": "lines",
         "type": "scatter",
         "x": [
          0.6842409524120733,
          0.41453267235172464,
          null,
          0.6842409524120733,
          0.16691480626669286,
          null,
          0.6842409524120733,
          0.567045513075952,
          null,
          0.6842409524120733,
          0.32803603202013143,
          null,
          0.6842409524120733,
          0.3921160702731351,
          null,
          0.6842409524120733,
          0.7880511194077156,
          null,
          0.6842409524120733,
          0.14720958617343982,
          null,
          0.6842409524120733,
          0.44028181688454704,
          null,
          0.6842409524120733,
          0.3211950552460766,
          null,
          0.16691480626669286,
          0.3211950552460766,
          null,
          0.16691480626669286,
          0.41453267235172464,
          null,
          0.16691480626669286,
          0.567045513075952,
          null,
          0.16691480626669286,
          0.32803603202013143,
          null,
          0.16691480626669286,
          0.3921160702731351,
          null,
          0.16691480626669286,
          0.7880511194077156,
          null,
          0.16691480626669286,
          0.14720958617343982,
          null,
          0.16691480626669286,
          0.44028181688454704,
          null,
          0.32803603202013143,
          0.41453267235172464,
          null,
          0.32803603202013143,
          0.567045513075952,
          null,
          0.32803603202013143,
          0.3921160702731351,
          null,
          0.32803603202013143,
          0.7880511194077156,
          null,
          0.32803603202013143,
          0.14720958617343982,
          null,
          0.32803603202013143,
          0.44028181688454704,
          null,
          0.32803603202013143,
          0.3211950552460766,
          null,
          0.7880511194077156,
          0.567045513075952,
          null,
          0.7880511194077156,
          0.41453267235172464,
          null,
          0.7880511194077156,
          0.3921160702731351,
          null,
          0.7880511194077156,
          0.14720958617343982,
          null,
          0.7880511194077156,
          0.44028181688454704,
          null,
          0.7880511194077156,
          0.3211950552460766,
          null,
          0.41453267235172464,
          0.567045513075952,
          null,
          0.41453267235172464,
          0.3921160702731351,
          null,
          0.41453267235172464,
          0.14720958617343982,
          null,
          0.41453267235172464,
          0.44028181688454704,
          null,
          0.41453267235172464,
          0.3211950552460766,
          null,
          0.567045513075952,
          0.3921160702731351,
          null,
          0.567045513075952,
          0.14720958617343982,
          null,
          0.567045513075952,
          0.44028181688454704,
          null,
          0.567045513075952,
          0.3211950552460766,
          null,
          0.3211950552460766,
          0.3921160702731351,
          null,
          0.3211950552460766,
          0.14720958617343982,
          null,
          0.3211950552460766,
          0.44028181688454704,
          null,
          0.44028181688454704,
          0.3921160702731351,
          null,
          0.44028181688454704,
          0.14720958617343982,
          null,
          0.3921160702731351,
          0.14720958617343982,
          null
         ],
         "y": [
          0.09583730847680416,
          0.8288422184314298,
          null,
          0.09583730847680416,
          0.605123857741188,
          null,
          0.09583730847680416,
          0.8306131699639854,
          null,
          0.09583730847680416,
          0.9146223207791904,
          null,
          0.09583730847680416,
          0.4143186456422864,
          null,
          0.09583730847680416,
          0.8646959554344813,
          null,
          0.09583730847680416,
          0.1424353047389475,
          null,
          0.09583730847680416,
          0.4121982082245681,
          null,
          0.09583730847680416,
          0.5482162967972463,
          null,
          0.605123857741188,
          0.5482162967972463,
          null,
          0.605123857741188,
          0.8288422184314298,
          null,
          0.605123857741188,
          0.8306131699639854,
          null,
          0.605123857741188,
          0.9146223207791904,
          null,
          0.605123857741188,
          0.4143186456422864,
          null,
          0.605123857741188,
          0.8646959554344813,
          null,
          0.605123857741188,
          0.1424353047389475,
          null,
          0.605123857741188,
          0.4121982082245681,
          null,
          0.9146223207791904,
          0.8288422184314298,
          null,
          0.9146223207791904,
          0.8306131699639854,
          null,
          0.9146223207791904,
          0.4143186456422864,
          null,
          0.9146223207791904,
          0.8646959554344813,
          null,
          0.9146223207791904,
          0.1424353047389475,
          null,
          0.9146223207791904,
          0.4121982082245681,
          null,
          0.9146223207791904,
          0.5482162967972463,
          null,
          0.8646959554344813,
          0.8306131699639854,
          null,
          0.8646959554344813,
          0.8288422184314298,
          null,
          0.8646959554344813,
          0.4143186456422864,
          null,
          0.8646959554344813,
          0.1424353047389475,
          null,
          0.8646959554344813,
          0.4121982082245681,
          null,
          0.8646959554344813,
          0.5482162967972463,
          null,
          0.8288422184314298,
          0.8306131699639854,
          null,
          0.8288422184314298,
          0.4143186456422864,
          null,
          0.8288422184314298,
          0.1424353047389475,
          null,
          0.8288422184314298,
          0.4121982082245681,
          null,
          0.8288422184314298,
          0.5482162967972463,
          null,
          0.8306131699639854,
          0.4143186456422864,
          null,
          0.8306131699639854,
          0.1424353047389475,
          null,
          0.8306131699639854,
          0.4121982082245681,
          null,
          0.8306131699639854,
          0.5482162967972463,
          null,
          0.5482162967972463,
          0.4143186456422864,
          null,
          0.5482162967972463,
          0.1424353047389475,
          null,
          0.5482162967972463,
          0.4121982082245681,
          null,
          0.4121982082245681,
          0.4143186456422864,
          null,
          0.4121982082245681,
          0.1424353047389475,
          null,
          0.4143186456422864,
          0.1424353047389475,
          null
         ]
        },
        {
         "hovertext": [
          "Genre: Aaron Paul\n            <br>Number of Actual Connections: 9            <br>Number of Unique Connections: 9            <br>Connections: ['Steven Michael Quezada', '<br> Jonathan Banks', 'Betsy Brandt', '<br> Bryan Cranston', 'Dean Norris', '<br> R.J. Mitte', 'Bob Odenkirk', '<br> Giancarlo Esposito', 'Anna Gunn']",
          "Genre: Anna Gunn\n            <br>Number of Actual Connections: 9            <br>Number of Unique Connections: 9            <br>Connections: ['Steven Michael Quezada', '<br> Jonathan Banks', 'Betsy Brandt', '<br> Bryan Cranston', 'Dean Norris', '<br> R.J. Mitte', 'Bob Odenkirk', '<br> Aaron Paul', 'Giancarlo Esposito']",
          "Genre: Betsy Brandt\n            <br>Number of Actual Connections: 9            <br>Number of Unique Connections: 9            <br>Connections: ['Steven Michael Quezada', '<br> Jonathan Banks', 'Bryan Cranston', '<br> Dean Norris', 'R.J. Mitte', '<br> Bob Odenkirk', 'Aaron Paul', '<br> Giancarlo Esposito', 'Anna Gunn']",
          "Genre: Bob Odenkirk\n            <br>Number of Actual Connections: 9            <br>Number of Unique Connections: 9            <br>Connections: ['Steven Michael Quezada', '<br> Jonathan Banks', 'Betsy Brandt', '<br> Bryan Cranston', 'Dean Norris', '<br> R.J. Mitte', 'Aaron Paul', '<br> Giancarlo Esposito', 'Anna Gunn']",
          "Genre: Bryan Cranston\n            <br>Number of Actual Connections: 9            <br>Number of Unique Connections: 9            <br>Connections: ['Steven Michael Quezada', '<br> Jonathan Banks', 'Betsy Brandt', '<br> Dean Norris', 'R.J. Mitte', '<br> Bob Odenkirk', 'Aaron Paul', '<br> Giancarlo Esposito', 'Anna Gunn']",
          "Genre: Dean Norris\n            <br>Number of Actual Connections: 9            <br>Number of Unique Connections: 9            <br>Connections: ['Steven Michael Quezada', '<br> Jonathan Banks', 'Betsy Brandt', '<br> Bryan Cranston', 'R.J. Mitte', '<br> Bob Odenkirk', 'Aaron Paul', '<br> Giancarlo Esposito', 'Anna Gunn']",
          "Genre: Giancarlo Esposito\n            <br>Number of Actual Connections: 9            <br>Number of Unique Connections: 9            <br>Connections: ['Steven Michael Quezada', '<br> Jonathan Banks', 'Betsy Brandt', '<br> Bryan Cranston', 'Dean Norris', '<br> R.J. Mitte', 'Bob Odenkirk', '<br> Aaron Paul', 'Anna Gunn']",
          "Genre: Jonathan Banks\n            <br>Number of Actual Connections: 9            <br>Number of Unique Connections: 9            <br>Connections: ['Steven Michael Quezada', '<br> Betsy Brandt', 'Bryan Cranston', '<br> Dean Norris', 'R.J. Mitte', '<br> Bob Odenkirk', 'Aaron Paul', '<br> Giancarlo Esposito', 'Anna Gunn']",
          "Genre: R.J. Mitte\n            <br>Number of Actual Connections: 9            <br>Number of Unique Connections: 9            <br>Connections: ['Steven Michael Quezada', '<br> Jonathan Banks', 'Betsy Brandt', '<br> Bryan Cranston', 'Dean Norris', '<br> Bob Odenkirk', 'Aaron Paul', '<br> Giancarlo Esposito', 'Anna Gunn']",
          "Genre: Steven Michael Quezada\n            <br>Number of Actual Connections: 9            <br>Number of Unique Connections: 9            <br>Connections: ['Jonathan Banks', '<br> Betsy Brandt', 'Bryan Cranston', '<br> Dean Norris', 'R.J. Mitte', '<br> Bob Odenkirk', 'Aaron Paul', '<br> Giancarlo Esposito', 'Anna Gunn']"
         ],
         "marker": {
          "color": [
           9,
           9,
           9,
           9,
           9,
           9,
           9,
           9,
           9,
           9
          ],
          "colorbar": {
           "thickness": 15,
           "title": {
            "side": "right",
            "text": "Number of Unique Connections"
           },
           "xanchor": "left"
          },
          "colorscale": [
           [
            0,
            "rgb(247,251,255)"
           ],
           [
            0.125,
            "rgb(222,235,247)"
           ],
           [
            0.25,
            "rgb(198,219,239)"
           ],
           [
            0.375,
            "rgb(158,202,225)"
           ],
           [
            0.5,
            "rgb(107,174,214)"
           ],
           [
            0.625,
            "rgb(66,146,198)"
           ],
           [
            0.75,
            "rgb(33,113,181)"
           ],
           [
            0.875,
            "rgb(8,81,156)"
           ],
           [
            1,
            "rgb(8,48,107)"
           ]
          ],
          "line": {
           "width": 2
          },
          "reversescale": true,
          "showscale": true,
          "size": 35
         },
         "mode": "markers+text",
         "text": [
          "Aaron Paul",
          "Anna Gunn",
          "Betsy Brandt",
          "Bob Odenkirk",
          "Bryan Cranston",
          "Dean Norris",
          "Giancarlo Esposito",
          "Jonathan Banks",
          "R.J. Mitte",
          "Steven Michael Quezada"
         ],
         "textposition": "top center",
         "type": "scatter",
         "x": [
          0.6842409524120733,
          0.16691480626669286,
          0.32803603202013143,
          0.7880511194077156,
          0.41453267235172464,
          0.567045513075952,
          0.3211950552460766,
          0.44028181688454704,
          0.3921160702731351,
          0.14720958617343982
         ],
         "y": [
          0.09583730847680416,
          0.605123857741188,
          0.9146223207791904,
          0.8646959554344813,
          0.8288422184314298,
          0.8306131699639854,
          0.5482162967972463,
          0.4121982082245681,
          0.4143186456422864,
          0.1424353047389475
         ]
        }
       ],
       "layout": {
        "height": 600,
        "hovermode": "closest",
        "margin": {
         "b": 20,
         "l": 5,
         "r": 5,
         "t": 80
        },
        "showlegend": false,
        "template": {
         "data": {
          "bar": [
           {
            "error_x": {
             "color": "#2a3f5f"
            },
            "error_y": {
             "color": "#2a3f5f"
            },
            "marker": {
             "line": {
              "color": "#E5ECF6",
              "width": 0.5
             },
             "pattern": {
              "fillmode": "overlay",
              "size": 10,
              "solidity": 0.2
             }
            },
            "type": "bar"
           }
          ],
          "barpolar": [
           {
            "marker": {
             "line": {
              "color": "#E5ECF6",
              "width": 0.5
             },
             "pattern": {
              "fillmode": "overlay",
              "size": 10,
              "solidity": 0.2
             }
            },
            "type": "barpolar"
           }
          ],
          "carpet": [
           {
            "aaxis": {
             "endlinecolor": "#2a3f5f",
             "gridcolor": "white",
             "linecolor": "white",
             "minorgridcolor": "white",
             "startlinecolor": "#2a3f5f"
            },
            "baxis": {
             "endlinecolor": "#2a3f5f",
             "gridcolor": "white",
             "linecolor": "white",
             "minorgridcolor": "white",
             "startlinecolor": "#2a3f5f"
            },
            "type": "carpet"
           }
          ],
          "choropleth": [
           {
            "colorbar": {
             "outlinewidth": 0,
             "ticks": ""
            },
            "type": "choropleth"
           }
          ],
          "contour": [
           {
            "colorbar": {
             "outlinewidth": 0,
             "ticks": ""
            },
            "colorscale": [
             [
              0,
              "#0d0887"
             ],
             [
              0.1111111111111111,
              "#46039f"
             ],
             [
              0.2222222222222222,
              "#7201a8"
             ],
             [
              0.3333333333333333,
              "#9c179e"
             ],
             [
              0.4444444444444444,
              "#bd3786"
             ],
             [
              0.5555555555555556,
              "#d8576b"
             ],
             [
              0.6666666666666666,
              "#ed7953"
             ],
             [
              0.7777777777777778,
              "#fb9f3a"
             ],
             [
              0.8888888888888888,
              "#fdca26"
             ],
             [
              1,
              "#f0f921"
             ]
            ],
            "type": "contour"
           }
          ],
          "contourcarpet": [
           {
            "colorbar": {
             "outlinewidth": 0,
             "ticks": ""
            },
            "type": "contourcarpet"
           }
          ],
          "heatmap": [
           {
            "colorbar": {
             "outlinewidth": 0,
             "ticks": ""
            },
            "colorscale": [
             [
              0,
              "#0d0887"
             ],
             [
              0.1111111111111111,
              "#46039f"
             ],
             [
              0.2222222222222222,
              "#7201a8"
             ],
             [
              0.3333333333333333,
              "#9c179e"
             ],
             [
              0.4444444444444444,
              "#bd3786"
             ],
             [
              0.5555555555555556,
              "#d8576b"
             ],
             [
              0.6666666666666666,
              "#ed7953"
             ],
             [
              0.7777777777777778,
              "#fb9f3a"
             ],
             [
              0.8888888888888888,
              "#fdca26"
             ],
             [
              1,
              "#f0f921"
             ]
            ],
            "type": "heatmap"
           }
          ],
          "heatmapgl": [
           {
            "colorbar": {
             "outlinewidth": 0,
             "ticks": ""
            },
            "colorscale": [
             [
              0,
              "#0d0887"
             ],
             [
              0.1111111111111111,
              "#46039f"
             ],
             [
              0.2222222222222222,
              "#7201a8"
             ],
             [
              0.3333333333333333,
              "#9c179e"
             ],
             [
              0.4444444444444444,
              "#bd3786"
             ],
             [
              0.5555555555555556,
              "#d8576b"
             ],
             [
              0.6666666666666666,
              "#ed7953"
             ],
             [
              0.7777777777777778,
              "#fb9f3a"
             ],
             [
              0.8888888888888888,
              "#fdca26"
             ],
             [
              1,
              "#f0f921"
             ]
            ],
            "type": "heatmapgl"
           }
          ],
          "histogram": [
           {
            "marker": {
             "pattern": {
              "fillmode": "overlay",
              "size": 10,
              "solidity": 0.2
             }
            },
            "type": "histogram"
           }
          ],
          "histogram2d": [
           {
            "colorbar": {
             "outlinewidth": 0,
             "ticks": ""
            },
            "colorscale": [
             [
              0,
              "#0d0887"
             ],
             [
              0.1111111111111111,
              "#46039f"
             ],
             [
              0.2222222222222222,
              "#7201a8"
             ],
             [
              0.3333333333333333,
              "#9c179e"
             ],
             [
              0.4444444444444444,
              "#bd3786"
             ],
             [
              0.5555555555555556,
              "#d8576b"
             ],
             [
              0.6666666666666666,
              "#ed7953"
             ],
             [
              0.7777777777777778,
              "#fb9f3a"
             ],
             [
              0.8888888888888888,
              "#fdca26"
             ],
             [
              1,
              "#f0f921"
             ]
            ],
            "type": "histogram2d"
           }
          ],
          "histogram2dcontour": [
           {
            "colorbar": {
             "outlinewidth": 0,
             "ticks": ""
            },
            "colorscale": [
             [
              0,
              "#0d0887"
             ],
             [
              0.1111111111111111,
              "#46039f"
             ],
             [
              0.2222222222222222,
              "#7201a8"
             ],
             [
              0.3333333333333333,
              "#9c179e"
             ],
             [
              0.4444444444444444,
              "#bd3786"
             ],
             [
              0.5555555555555556,
              "#d8576b"
             ],
             [
              0.6666666666666666,
              "#ed7953"
             ],
             [
              0.7777777777777778,
              "#fb9f3a"
             ],
             [
              0.8888888888888888,
              "#fdca26"
             ],
             [
              1,
              "#f0f921"
             ]
            ],
            "type": "histogram2dcontour"
           }
          ],
          "mesh3d": [
           {
            "colorbar": {
             "outlinewidth": 0,
             "ticks": ""
            },
            "type": "mesh3d"
           }
          ],
          "parcoords": [
           {
            "line": {
             "colorbar": {
              "outlinewidth": 0,
              "ticks": ""
             }
            },
            "type": "parcoords"
           }
          ],
          "pie": [
           {
            "automargin": true,
            "type": "pie"
           }
          ],
          "scatter": [
           {
            "marker": {
             "colorbar": {
              "outlinewidth": 0,
              "ticks": ""
             }
            },
            "type": "scatter"
           }
          ],
          "scatter3d": [
           {
            "line": {
             "colorbar": {
              "outlinewidth": 0,
              "ticks": ""
             }
            },
            "marker": {
             "colorbar": {
              "outlinewidth": 0,
              "ticks": ""
             }
            },
            "type": "scatter3d"
           }
          ],
          "scattercarpet": [
           {
            "marker": {
             "colorbar": {
              "outlinewidth": 0,
              "ticks": ""
             }
            },
            "type": "scattercarpet"
           }
          ],
          "scattergeo": [
           {
            "marker": {
             "colorbar": {
              "outlinewidth": 0,
              "ticks": ""
             }
            },
            "type": "scattergeo"
           }
          ],
          "scattergl": [
           {
            "marker": {
             "colorbar": {
              "outlinewidth": 0,
              "ticks": ""
             }
            },
            "type": "scattergl"
           }
          ],
          "scattermapbox": [
           {
            "marker": {
             "colorbar": {
              "outlinewidth": 0,
              "ticks": ""
             }
            },
            "type": "scattermapbox"
           }
          ],
          "scatterpolar": [
           {
            "marker": {
             "colorbar": {
              "outlinewidth": 0,
              "ticks": ""
             }
            },
            "type": "scatterpolar"
           }
          ],
          "scatterpolargl": [
           {
            "marker": {
             "colorbar": {
              "outlinewidth": 0,
              "ticks": ""
             }
            },
            "type": "scatterpolargl"
           }
          ],
          "scatterternary": [
           {
            "marker": {
             "colorbar": {
              "outlinewidth": 0,
              "ticks": ""
             }
            },
            "type": "scatterternary"
           }
          ],
          "surface": [
           {
            "colorbar": {
             "outlinewidth": 0,
             "ticks": ""
            },
            "colorscale": [
             [
              0,
              "#0d0887"
             ],
             [
              0.1111111111111111,
              "#46039f"
             ],
             [
              0.2222222222222222,
              "#7201a8"
             ],
             [
              0.3333333333333333,
              "#9c179e"
             ],
             [
              0.4444444444444444,
              "#bd3786"
             ],
             [
              0.5555555555555556,
              "#d8576b"
             ],
             [
              0.6666666666666666,
              "#ed7953"
             ],
             [
              0.7777777777777778,
              "#fb9f3a"
             ],
             [
              0.8888888888888888,
              "#fdca26"
             ],
             [
              1,
              "#f0f921"
             ]
            ],
            "type": "surface"
           }
          ],
          "table": [
           {
            "cells": {
             "fill": {
              "color": "#EBF0F8"
             },
             "line": {
              "color": "white"
             }
            },
            "header": {
             "fill": {
              "color": "#C8D4E3"
             },
             "line": {
              "color": "white"
             }
            },
            "type": "table"
           }
          ]
         },
         "layout": {
          "annotationdefaults": {
           "arrowcolor": "#2a3f5f",
           "arrowhead": 0,
           "arrowwidth": 1
          },
          "autotypenumbers": "strict",
          "coloraxis": {
           "colorbar": {
            "outlinewidth": 0,
            "ticks": ""
           }
          },
          "colorscale": {
           "diverging": [
            [
             0,
             "#8e0152"
            ],
            [
             0.1,
             "#c51b7d"
            ],
            [
             0.2,
             "#de77ae"
            ],
            [
             0.3,
             "#f1b6da"
            ],
            [
             0.4,
             "#fde0ef"
            ],
            [
             0.5,
             "#f7f7f7"
            ],
            [
             0.6,
             "#e6f5d0"
            ],
            [
             0.7,
             "#b8e186"
            ],
            [
             0.8,
             "#7fbc41"
            ],
            [
             0.9,
             "#4d9221"
            ],
            [
             1,
             "#276419"
            ]
           ],
           "sequential": [
            [
             0,
             "#0d0887"
            ],
            [
             0.1111111111111111,
             "#46039f"
            ],
            [
             0.2222222222222222,
             "#7201a8"
            ],
            [
             0.3333333333333333,
             "#9c179e"
            ],
            [
             0.4444444444444444,
             "#bd3786"
            ],
            [
             0.5555555555555556,
             "#d8576b"
            ],
            [
             0.6666666666666666,
             "#ed7953"
            ],
            [
             0.7777777777777778,
             "#fb9f3a"
            ],
            [
             0.8888888888888888,
             "#fdca26"
            ],
            [
             1,
             "#f0f921"
            ]
           ],
           "sequentialminus": [
            [
             0,
             "#0d0887"
            ],
            [
             0.1111111111111111,
             "#46039f"
            ],
            [
             0.2222222222222222,
             "#7201a8"
            ],
            [
             0.3333333333333333,
             "#9c179e"
            ],
            [
             0.4444444444444444,
             "#bd3786"
            ],
            [
             0.5555555555555556,
             "#d8576b"
            ],
            [
             0.6666666666666666,
             "#ed7953"
            ],
            [
             0.7777777777777778,
             "#fb9f3a"
            ],
            [
             0.8888888888888888,
             "#fdca26"
            ],
            [
             1,
             "#f0f921"
            ]
           ]
          },
          "colorway": [
           "#636efa",
           "#EF553B",
           "#00cc96",
           "#ab63fa",
           "#FFA15A",
           "#19d3f3",
           "#FF6692",
           "#B6E880",
           "#FF97FF",
           "#FECB52"
          ],
          "font": {
           "color": "#2a3f5f"
          },
          "geo": {
           "bgcolor": "white",
           "lakecolor": "white",
           "landcolor": "#E5ECF6",
           "showlakes": true,
           "showland": true,
           "subunitcolor": "white"
          },
          "hoverlabel": {
           "align": "left"
          },
          "hovermode": "closest",
          "mapbox": {
           "style": "light"
          },
          "paper_bgcolor": "white",
          "plot_bgcolor": "#E5ECF6",
          "polar": {
           "angularaxis": {
            "gridcolor": "white",
            "linecolor": "white",
            "ticks": ""
           },
           "bgcolor": "#E5ECF6",
           "radialaxis": {
            "gridcolor": "white",
            "linecolor": "white",
            "ticks": ""
           }
          },
          "scene": {
           "xaxis": {
            "backgroundcolor": "#E5ECF6",
            "gridcolor": "white",
            "gridwidth": 2,
            "linecolor": "white",
            "showbackground": true,
            "ticks": "",
            "zerolinecolor": "white"
           },
           "yaxis": {
            "backgroundcolor": "#E5ECF6",
            "gridcolor": "white",
            "gridwidth": 2,
            "linecolor": "white",
            "showbackground": true,
            "ticks": "",
            "zerolinecolor": "white"
           },
           "zaxis": {
            "backgroundcolor": "#E5ECF6",
            "gridcolor": "white",
            "gridwidth": 2,
            "linecolor": "white",
            "showbackground": true,
            "ticks": "",
            "zerolinecolor": "white"
           }
          },
          "shapedefaults": {
           "line": {
            "color": "#2a3f5f"
           }
          },
          "ternary": {
           "aaxis": {
            "gridcolor": "white",
            "linecolor": "white",
            "ticks": ""
           },
           "baxis": {
            "gridcolor": "white",
            "linecolor": "white",
            "ticks": ""
           },
           "bgcolor": "#E5ECF6",
           "caxis": {
            "gridcolor": "white",
            "linecolor": "white",
            "ticks": ""
           }
          },
          "title": {
           "x": 0.05
          },
          "xaxis": {
           "automargin": true,
           "gridcolor": "white",
           "linecolor": "white",
           "ticks": "",
           "title": {
            "standoff": 15
           },
           "zerolinecolor": "white",
           "zerolinewidth": 2
          },
          "yaxis": {
           "automargin": true,
           "gridcolor": "white",
           "linecolor": "white",
           "ticks": "",
           "title": {
            "standoff": 15
           },
           "zerolinecolor": "white",
           "zerolinewidth": 2
          }
         }
        },
        "title": {
         "font": {
          "size": 18
         },
         "text": "<br>Netflix Movie Cast Network Visualization"
        },
        "width": 1150,
        "xaxis": {
         "showgrid": false,
         "showticklabels": false,
         "zeroline": false
        },
        "yaxis": {
         "showgrid": false,
         "showticklabels": false,
         "zeroline": false
        }
       }
      }
     },
     "metadata": {},
     "output_type": "display_data"
    }
   ],
   "source": [
    "# Netflix Genres Network Visualization (Movie; Waxman Graph)\n",
    "actual_connections = get_actual_connections(genres_edges)\n",
    "G, edge_trace, node_trace = create_graph(genres_nodes, genres_edges, actual_connections)\n",
    "\n",
    "fig = go.Figure(data=[edge_trace, node_trace],\n",
    "    layout=go.Layout(\n",
    "        title=f'<br>Netflix Movie Cast Network Visualization',\n",
    "        title_font_size=18, width=1150, height=600,\n",
    "        showlegend=False, hovermode='closest',\n",
    "        margin=dict(b=20, l=5, r=5, t=80),\n",
    "        xaxis=dict(showgrid=False, zeroline=False, showticklabels=False),\n",
    "        yaxis=dict(showgrid=False, zeroline=False, showticklabels=False))\n",
    "    )\n",
    "fig.show()"
   ]
  },
  {
   "attachments": {},
   "cell_type": "markdown",
   "metadata": {},
   "source": [
    "## REFERENCES:\n",
    "\n",
    "https://www.kaggle.com/datasets/shivamb/netflix-shows?fbclid=IwAR0ckNrE2XlIc5OWzKjQZP85s96dojVKDHzK4dgOJfFTMe3Velsk3FwZsR0\n",
    "\n",
    "https://plotly.com/python/network-graphs/?fbclid=IwAR3JPFZv1UcDrbFMX6wKwOyE5oddl3Ah6pqowQbbEhvNUno1S-X5FbfAdaU"
   ]
  }
 ],
 "metadata": {
  "kernelspec": {
   "display_name": "Python 3.9.7 ('base')",
   "language": "python",
   "name": "python3"
  },
  "language_info": {
   "codemirror_mode": {
    "name": "ipython",
    "version": 3
   },
   "file_extension": ".py",
   "mimetype": "text/x-python",
   "name": "python",
   "nbconvert_exporter": "python",
   "pygments_lexer": "ipython3",
   "version": "3.9.7 (default, Sep 16 2021, 16:59:28) [MSC v.1916 64 bit (AMD64)]"
  },
  "orig_nbformat": 4,
  "vscode": {
   "interpreter": {
    "hash": "a077222d77dfe082b8f1dd562ad70e458ac2ab76993a0b248ab0476e32e9e8dd"
   }
  }
 },
 "nbformat": 4,
 "nbformat_minor": 2
}
